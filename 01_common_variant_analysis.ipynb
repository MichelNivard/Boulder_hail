{
  "cells": [
    {
      "cell_type": "markdown",
      "metadata": {
        "id": "view-in-github",
        "colab_type": "text"
      },
      "source": [
        "<a href=\"https://colab.research.google.com/github/MichelNivard/Boulder_hail/blob/main/01_common_variant_analysis.ipynb\" target=\"_parent\"><img src=\"https://colab.research.google.com/assets/colab-badge.svg\" alt=\"Open In Colab\"/></a>"
      ]
    },
    {
      "cell_type": "markdown",
      "metadata": {
        "id": "xIjRd3WzsvGm"
      },
      "source": [
        "# Institute for Behavioral Genetics International Statistical Genetics 2023 Workshop \n",
        "\n",
        "## Common Variant Analysis of Sequencing Data with Hail\n",
        "\n",
        "In this practical, we will learn how to:\n",
        "\n",
        "1) Use simple python code and Jupyter notebooks.\n",
        "\n",
        "2) Use Hail to import a VCF and run basic queries over sequencing data.\n",
        "\n",
        "3) Use Hail to perform basic quality control on sequencing data.\n",
        "\n",
        "4) Use Hail to run a basic genome-wide association study on common variants in sequencing data.\n"
      ]
    },
    {
      "cell_type": "markdown",
      "metadata": {
        "id": "vqiR5ym7svGo"
      },
      "source": [
        "# Introduction\n",
        "\n",
        "\n",
        "### It doesn't all need to \"stick\" today\n",
        "\n",
        "This practical contains a lot of new material, and the goal of this workbook is not for you to be able to reproduce from memory all the various capabilities demonstrated here. Instead, the goal is for you to get a sense for the kind of analysis tasks that sequencing data requires, and to gain some exposure to what these analyses look like in Hail. \n",
        "\n",
        "There is no one-size-fits-all sequencing analysis pipeline, because each sequencing dataset will have unique properties that need to be understood and accounted for in QC and analysis. Hail can empower you to interrogate sequencing data, but it cannot give you all the questions to ask!\n",
        "\n",
        "Some of the questions and exercises in this notebook might seem unrelated to the specific task of analyzing sequencing data, but that is intentional -- Hail is a computational tool that hopes to help you indulge your scientific curiosity, and asking and answering a variety of questions about many aspects of your data is the best way to learn *how to Hail*.\n",
        "\n",
        "We don't expect you to be able to run a full GWAS on your own data in Hail tomorrow. If this is something you want to do, there are **lots more** resources available -- documentation, cookbooks, tutorials, and most importantly, the Hail community on the [forum](https://discuss.hail.is) and [zulip chatroom](https://hail.zulipchat.com).\n",
        "\n",
        "### We encourage you to play\n",
        "\n",
        "Hail is a highly expressive library with lots of functionality -- you'll see just a small fraction of it today. Throughout this notebook and especially in the denoted **exercises**, we encourage you to experiment with the code being run to see what happens! Sometimes it will be an error, but sometimes you will encounter new pieces of functionality. If you're curious about how to use Hail to ask slightly different questions than the code or exercises here, please ask the faculty! We are eager to help.\n",
        "\n",
        "### Interactive analysis on the cloud\n",
        "\n",
        "Part of what we think is so exciting about Hail is that Hail development has coincided with other technological shifts in the data science community.\n",
        "\n",
        "Five years ago, most computational biologists analyzed sequencing data using command-line tools, and took advantage of research compute clusters by explicitly using scheduling frameworks like LSF or Sun Grid Engine. These clusters are powerful resources, but it requires a great deal of extra thought and effort to manage pipelines running on them.\n",
        "\n",
        "Today, most Hail users run Hail from within interactive Python notebooks (like this one!) backed by thousands of cores on public compute clouds like [Google Cloud](https://cloud.google.com/), [Amazon Web Services](https://aws.amazon.com/), or [Microsoft Azure](https://azure.microsoft.com/). You don't need to share a cluster with hundreds of other scientists, and you only need to pay for the resources that you use.\n",
        "\n",
        "You won't get hands-on experience with this kind of usage today, but there are lots of resources to help you get started if you're interested in that. Please stay in touch with us after the workshop ends!"
      ]
    },
    {
      "cell_type": "markdown",
      "metadata": {
        "id": "0gOUOFVrsvGp"
      },
      "source": [
        "# 1. Using Jupyter\n",
        "\n",
        "The notebook software that you are using right now is called [Jupyter](https://jupyter.org/), which came from a combination of the languages **Ju**lia, **Pyt**hon, and **R**.\n",
        "\n",
        "**Learning objectives**\n",
        "\n",
        " - be comfortable running, editing, adding, and deleting code cells.\n",
        " - learn techniques for unblocking yourself if Jupyter acts up.\n",
        "\n",
        "### Running cells\n",
        "Evaluate cells using SHIFT + ENTER. Select the next cell and run it. If you prefer clicking, you can select the cell and click the \"Run\" button in the toolbar above."
      ]
    },
    {
      "cell_type": "code",
      "execution_count": null,
      "metadata": {
        "id": "B1UZ__eRsvGp",
        "outputId": "b9254ef5-8d2a-49ff-a61d-1d1d84b2d4bd"
      },
      "outputs": [
        {
          "name": "stdout",
          "output_type": "stream",
          "text": [
            "Hello, world\n"
          ]
        }
      ],
      "source": [
        "print('Hello, world')"
      ]
    },
    {
      "cell_type": "markdown",
      "metadata": {
        "id": "yuWcvbIPsvGr"
      },
      "source": [
        "### Modes\n",
        "\n",
        "Jupyter has two modes, a **navigation mode** and an **editor mode**.\n",
        "\n",
        "#### Navigation mode:\n",
        "\n",
        " - <font color=\"blue\"><strong>BLUE</strong></font> cell borders\n",
        " - `UP` / `DOWN` move between cells\n",
        " - `ENTER` while a cell is selected will move to **editing mode**.\n",
        " - Many letters are keyboard shortcuts! This is a common trap.\n",
        " \n",
        "#### Editor mode:\n",
        "\n",
        " - <font color=\"green\"><strong>GREEN</strong></font> cell borders\n",
        " - `UP` / `DOWN`/ move within cells before moving between cells.\n",
        " - `ESC` will return to **navigation mode**.\n",
        " - `SHIFT + ENTER` will evaluate a cell and return to **navigation mode**.\n",
        " \n",
        "Try editing this markdown cell by double clicking, then re-rendering it by \"running\" the cell."
      ]
    },
    {
      "cell_type": "markdown",
      "metadata": {
        "id": "IHF08YcssvGr"
      },
      "source": [
        "### Cell types\n",
        "\n",
        "There are several types of cells in Jupyter notebooks. The two you will see in this notebook are **Markdown** (text) and **Code**."
      ]
    },
    {
      "cell_type": "code",
      "execution_count": null,
      "metadata": {
        "ExecuteTime": {
          "end_time": "2021-06-16T00:52:03.914467Z",
          "start_time": "2021-06-16T00:52:03.911988Z"
        },
        "id": "xlNKLJQFsvGr"
      },
      "outputs": [],
      "source": [
        "# This is a code cell\n",
        "my_variable = 5"
      ]
    },
    {
      "cell_type": "markdown",
      "metadata": {
        "id": "1RqnojnOsvGs"
      },
      "source": [
        "**This is a markdown cell**, so even if something looks like code (as below), it won't get executed!\n",
        "\n",
        "my_variable += 1"
      ]
    },
    {
      "cell_type": "markdown",
      "metadata": {
        "id": "4wOoEXx7svGs"
      },
      "source": [
        "### Shell commands\n",
        "\n",
        "It is possible to call command-line utilities from Jupyter by prefixing a line with a `!`. For instance, we can print the current directory:"
      ]
    },
    {
      "cell_type": "code",
      "execution_count": null,
      "metadata": {
        "ExecuteTime": {
          "end_time": "2021-06-16T00:56:59.757110Z",
          "start_time": "2021-06-16T00:56:59.630749Z"
        },
        "id": "KujnLXLqsvGs",
        "outputId": "6729a457-c155-4f9d-c736-45f6a4d6213c"
      },
      "outputs": [
        {
          "name": "stdout",
          "output_type": "stream",
          "text": [
            "/home/timp/2023_IBG_HAIL/2021_IBG_Hail\n"
          ]
        }
      ],
      "source": [
        "! pwd"
      ]
    },
    {
      "cell_type": "markdown",
      "metadata": {
        "id": "666ZkqsKsvGt"
      },
      "source": [
        "### Tips and tricks\n",
        "\n",
        "Keyboard shortcuts:\n",
        "\n",
        " - `SHIFT + ENTER` to evaluate a cell\n",
        " - `ESC` to return to navigation mode\n",
        " - `y` to turn a markdown cell into code\n",
        " - `m` to turn a code cell into markdown\n",
        " - `a` to add a new cell **above** the currently selected cell\n",
        " - `b` to add a new cell **below** the currently selected cell\n",
        " - `d, d` (repeated) to delete the currently selected cell\n",
        " - `TAB` to activate code completion\n",
        " \n",
        "To try this out, create a new cell below this one using `b`, and print `my_variable` by starting with `print(my` and pressing `TAB`!"
      ]
    },
    {
      "cell_type": "markdown",
      "metadata": {
        "id": "8ks9AdNFsvGt"
      },
      "source": [
        "## <strong style=\"color: red;\">Resetting Jupyter if you get stuck</strong>\n",
        "\n",
        "If at any point during this practical, you are unable to successfully run cells, it is possible that your Python interpreter is in a bad state due to cells being run in an incorrect order. If this happens, you can recover a working session by doing the following:\n",
        "\n",
        "1. Navigate to the \"Kernel\" menu at the top, and select \"Restart and clear output\".\n",
        "\n",
        "2. Select the cell you were working on, then select \"Run all above\" from the \"Cell\" menu at the top.\n",
        "\n",
        "3. If the problem persists, reach out to the faculty for help!"
      ]
    },
    {
      "cell_type": "markdown",
      "metadata": {
        "id": "6WTT58HqsvGt"
      },
      "source": [
        "# 2. Import and initialize Hail"
      ]
    },
    {
      "cell_type": "markdown",
      "metadata": {
        "id": "7TtlyWkDsvGu"
      },
      "source": [
        "In addition to Hail, we import a few methods from the Hail plotting library. We'll see examples soon!"
      ]
    },
    {
      "cell_type": "code",
      "execution_count": null,
      "metadata": {
        "ExecuteTime": {
          "end_time": "2021-06-16T00:53:12.301526Z",
          "start_time": "2021-06-16T00:53:10.754725Z"
        },
        "id": "4hhxlG7osvGu",
        "outputId": "60b97b55-61b9-43ff-f851-0e57b6a6ec9f"
      },
      "outputs": [
        {
          "name": "stdout",
          "output_type": "stream",
          "text": [
            "23/03/10 09:37:38 WARN Utils: Your hostname, ip-10-0-201-172 resolves to a loopback address: 127.0.1.1; using 10.0.201.172 instead (on interface ens5)\n",
            "23/03/10 09:37:38 WARN Utils: Set SPARK_LOCAL_IP if you need to bind to another address\n",
            "23/03/10 09:37:38 WARN NativeCodeLoader: Unable to load native-hadoop library for your platform... using builtin-java classes where applicable\n"
          ]
        },
        {
          "name": "stderr",
          "output_type": "stream",
          "text": [
            "Setting default log level to \"WARN\".\n",
            "To adjust logging level use sc.setLogLevel(newLevel). For SparkR, use setLogLevel(newLevel).\n"
          ]
        },
        {
          "name": "stdout",
          "output_type": "stream",
          "text": [
            "23/03/10 09:37:39 WARN Hail: This Hail JAR was compiled for Spark 3.3.0, running with Spark 3.3.2.\n",
            "  Compatibility is not guaranteed.\n"
          ]
        },
        {
          "name": "stderr",
          "output_type": "stream",
          "text": [
            "Running on Apache Spark version 3.3.2\n",
            "SparkUI available at http://10.0.201.172:4040\n",
            "Welcome to\n",
            "     __  __     <>__\n",
            "    / /_/ /__  __/ /\n",
            "   / __  / _ `/ / /\n",
            "  /_/ /_/\\_,_/_/_/   version 0.2.109-b123465fc0bf\n",
            "LOGGING: writing to /home/timp/2023_IBG_HAIL/2021_IBG_Hail/hail-20230310-0937-0.2.109-b123465fc0bf.log\n"
          ]
        }
      ],
      "source": [
        "import os\n",
        "os.environ['PYSPARK_SUBMIT_ARGS'] = '--driver-memory 6G pyspark-shell'\n",
        "import hail as hl\n",
        "hl.init()\n",
        "\n",
        "from hail.ggplot import *\n",
        "\n",
        "import plotly\n",
        "import plotly.io as pio\n",
        "pio.renderers.default='iframe'"
      ]
    },
    {
      "cell_type": "markdown",
      "metadata": {
        "id": "5VSziz-7svGu"
      },
      "source": [
        "This notebook works on a small (~16MB) downsampled chunk of the publically available Human Genome Diversity Project (HGDP) dataset. HGDP is a super-set of the well-known [1000 genomes](https://www.internationalgenome.org/) dataset, with a broader group of represented populations.\n",
        "\n",
        "We can see the files used using `ls` below:"
      ]
    },
    {
      "cell_type": "code",
      "execution_count": null,
      "metadata": {
        "ExecuteTime": {
          "end_time": "2021-06-16T00:57:27.835145Z",
          "start_time": "2021-06-16T00:57:27.701051Z"
        },
        "id": "iWKpawMLsvGv",
        "outputId": "5caaa967-7199-4259-a6fc-f9f5dc845b47"
      },
      "outputs": [
        {
          "name": "stdout",
          "output_type": "stream",
          "text": [
            "total 19M\n",
            "-rwxr-xr-x 1 timp workshop  15K Mar 10 07:52 HGDP_sample_data.tsv\n",
            "-rwxr-xr-x 1 timp workshop 2.5M Mar 10 07:52 ensembl_gene_annotations.txt\n",
            "drwxr-xr-x 5 timp workshop 6.0K Mar 10 07:52 genes.ht\n",
            "drwxr-xr-x 7 timp workshop 6.0K Mar 10 07:52 hgdp-tgp-rare-variants.mt\n",
            "drwxr-xr-x 8 timp workshop 6.0K Mar 10 08:59 hgdp.mt\n",
            "-rwxr-xr-x 1 timp workshop 382K Mar 10 07:52 hgdp_gene_annotations.tsv\n",
            "-rwxr-xr-x 1 timp workshop  16M Mar 10 07:52 hgdp_subset.vcf.bgz\n",
            "drwxr-xr-x 6 timp workshop 6.0K Mar 10 09:01 pca_scores.ht\n",
            "drwxr-xr-x 5 timp workshop 6.0K Mar 10 07:52 rare-variant-phenotypes.ht\n"
          ]
        }
      ],
      "source": [
        "! ls -lh resources/"
      ]
    },
    {
      "cell_type": "markdown",
      "metadata": {
        "id": "jlVUVew4svGv"
      },
      "source": [
        "# 3. Explore genetic data with Hail\n",
        "\n",
        "#### Learning Objectives:\n",
        "\n",
        "- To be comfortable exploring Hail data structures, especially the `MatrixTable`.\n",
        "- To understand categories of functionality for performing QC."
      ]
    },
    {
      "cell_type": "markdown",
      "metadata": {
        "id": "iCmlkGDvsvGw"
      },
      "source": [
        "### Import data from VCF\n",
        "\n",
        "The [Variant Call Format (VCF)](https://en.wikipedia.org/wiki/Variant_Call_Format) is a common file format for representing genetic data collected on multiple individuals (samples).\n",
        "\n",
        "Hail has an [import_vcf](https://hail.is/docs/0.2/methods/impex.html#hail.methods.import_vcf) function that reads this file to a Hail `MatrixTable`, which is a general-purpose data structure that is often used to represent a matrix of genetic data.\n",
        "\n",
        "Why not work directly on the VCF? While VCF is a text format that is easy for humans to read, it is inefficient to process on a computer. \n",
        "\n",
        "The first thing we do is import (`import_vcf`) and convert the `VCF` file into a Hail native file format. This is done by using the `write` method below. Any queries that follow will now run much more quickly."
      ]
    },
    {
      "cell_type": "code",
      "execution_count": null,
      "metadata": {
        "ExecuteTime": {
          "end_time": "2021-06-16T00:59:22.096923Z",
          "start_time": "2021-06-16T00:59:17.291718Z"
        },
        "id": "x7JoegITsvGw",
        "outputId": "50f56698-45e0-431b-812c-723c6c55317f"
      },
      "outputs": [
        {
          "name": "stderr",
          "output_type": "stream",
          "text": [
            "[Stage 1:=============================>                             (2 + 2) / 4]\r"
          ]
        }
      ],
      "source": [
        "hl.import_vcf('resources/hgdp_subset.vcf.bgz', min_partitions=4, reference_genome='GRCh38')\\\n",
        ".write('resources/hgdp.mt', overwrite=True)"
      ]
    },
    {
      "cell_type": "markdown",
      "metadata": {
        "id": "Dn3ceYG3svGx"
      },
      "source": [
        "### HGDP as a Hail `MatrixTable`\n",
        "\n",
        "We represent genetic data as a Hail [`MatrixTable`](https://hail.is/docs/0.2/overview/matrix_table.html), and name our variable `mt` to indicate this."
      ]
    },
    {
      "cell_type": "code",
      "execution_count": null,
      "metadata": {
        "ExecuteTime": {
          "end_time": "2021-06-16T01:00:40.993969Z",
          "start_time": "2021-06-16T01:00:40.826452Z"
        },
        "id": "CpKfUsmzsvGx"
      },
      "outputs": [],
      "source": [
        "mt = hl.read_matrix_table('resources/hgdp.mt')"
      ]
    },
    {
      "cell_type": "markdown",
      "metadata": {
        "id": "viyhnYBPsvGx"
      },
      "source": [
        "### What is a `MatrixTable`?\n",
        "\n",
        "Let's explore it!\n",
        "\n",
        "You can see:\n",
        " - **numeric** types:\n",
        "     - integers (`int32`, `int64`), e.g. `5`\n",
        "     - floating point numbers (`float32`, `float64`), e.g. `5.5` or `3e-8`\n",
        " - **strings** (`str`), e.g. `\"Foo\"`\n",
        " - **boolean** values  (`bool`) e.g. `True`\n",
        " - **collections**:\n",
        "     - arrays (`array`), e.g. `[1,1,2,3]`\n",
        "     - sets (`set`), e.g. `{1,3}`\n",
        "     - dictionaries (`dict`), e.g. `{'Foo': 5, 'Bar': 10}`\n",
        " - **genetic data types**:\n",
        "     - loci (`locus`), e.g. `[GRCh37] 1:10000` or `[GRCh38] chr1:10024`\n",
        "     - genotype calls (`call`), e.g. `0/2` or `1|0`"
      ]
    },
    {
      "cell_type": "code",
      "execution_count": null,
      "metadata": {
        "ExecuteTime": {
          "end_time": "2021-06-16T01:00:42.382461Z",
          "start_time": "2021-06-16T01:00:41.951181Z"
        },
        "colab": {
          "referenced_widgets": [
            "61ccc7e23b9f4b64aa503ec4ca8d2b77",
            "10b683ed70de440891bbe7272f5a2040"
          ]
        },
        "id": "mvr-s1OmsvGy",
        "outputId": "5633a484-8739-4ed2-8211-2ea349c447fc"
      },
      "outputs": [
        {
          "data": {
            "application/vnd.jupyter.widget-view+json": {
              "model_id": "61ccc7e23b9f4b64aa503ec4ca8d2b77",
              "version_major": 2,
              "version_minor": 0
            },
            "text/plain": [
              "VBox(children=(HBox(children=(Button(description='globals', layout=Layout(height='30px', width='65px'), style=…"
            ]
          },
          "metadata": {},
          "output_type": "display_data"
        },
        {
          "data": {
            "application/vnd.jupyter.widget-view+json": {
              "model_id": "10b683ed70de440891bbe7272f5a2040",
              "version_major": 2,
              "version_minor": 0
            },
            "text/plain": [
              "Tab(children=(VBox(children=(HTML(value='<p><big>Global fields, with one value in the dataset.</big></p>\\n<p>C…"
            ]
          },
          "metadata": {},
          "output_type": "display_data"
        }
      ],
      "source": [
        "mt.describe(widget=True)"
      ]
    },
    {
      "cell_type": "markdown",
      "metadata": {
        "id": "FU6yakq3svGy"
      },
      "source": [
        "### Exercise 1\n",
        "Take a few moments to explore the interactive representation of the matrix table above.\n",
        "\n",
        "* Where is the variant information (`locus` and `alleles`)? \n",
        "* Where is the sample identifier (`s`)?\n",
        "* Where is the genotype quality `GQ`?"
      ]
    },
    {
      "cell_type": "markdown",
      "metadata": {
        "id": "9EBNPzyAsvGy"
      },
      "source": [
        "### `show`\n",
        "\n",
        "Hail has a variety of functionality to help you quickly interrogate a dataset. The `show()` method prints the first few values of any field, and even prints in pretty HTML output in a Jupyter notebook! "
      ]
    },
    {
      "cell_type": "code",
      "execution_count": null,
      "metadata": {
        "ExecuteTime": {
          "end_time": "2021-06-16T01:01:33.148911Z",
          "start_time": "2021-06-16T01:01:32.839716Z"
        },
        "id": "xIKiymEcsvGy",
        "outputId": "ab9e7377-f94b-4ec7-f142-b9899c108a0f"
      },
      "outputs": [
        {
          "data": {
            "text/html": [
              "<table><thead><tr><td style=\"white-space: nowrap; max-width: 500px; overflow: hidden; text-overflow: ellipsis; \" colspan=\"1\"><div style=\"text-align: left;\"></div></td></tr><tr><td style=\"white-space: nowrap; max-width: 500px; overflow: hidden; text-overflow: ellipsis; \" colspan=\"1\"><div style=\"text-align: left;border-bottom: solid 2px #000; padding-bottom: 5px\">s</div></td></tr><tr><td style=\"white-space: nowrap; max-width: 500px; overflow: hidden; text-overflow: ellipsis; text-align: left;\">str</td></tr>\n",
              "</thead><tbody><tr><td style=\"white-space: nowrap; max-width: 500px; overflow: hidden; text-overflow: ellipsis; \">&quot;LP6005441-DNA_F08&quot;</td></tr>\n",
              "<tr><td style=\"white-space: nowrap; max-width: 500px; overflow: hidden; text-overflow: ellipsis; \">&quot;LP6005441-DNA_C05&quot;</td></tr>\n",
              "<tr><td style=\"white-space: nowrap; max-width: 500px; overflow: hidden; text-overflow: ellipsis; \">&quot;HGDP00961&quot;</td></tr>\n",
              "<tr><td style=\"white-space: nowrap; max-width: 500px; overflow: hidden; text-overflow: ellipsis; \">&quot;HGDP00804&quot;</td></tr>\n",
              "<tr><td style=\"white-space: nowrap; max-width: 500px; overflow: hidden; text-overflow: ellipsis; \">&quot;HGDP00926&quot;</td></tr>\n",
              "<tr><td style=\"white-space: nowrap; max-width: 500px; overflow: hidden; text-overflow: ellipsis; \">&quot;HGDP00716&quot;</td></tr>\n",
              "<tr><td style=\"white-space: nowrap; max-width: 500px; overflow: hidden; text-overflow: ellipsis; \">&quot;HGDP01269&quot;</td></tr>\n",
              "<tr><td style=\"white-space: nowrap; max-width: 500px; overflow: hidden; text-overflow: ellipsis; \">&quot;HGDP00241&quot;</td></tr>\n",
              "<tr><td style=\"white-space: nowrap; max-width: 500px; overflow: hidden; text-overflow: ellipsis; \">&quot;HGDP00110&quot;</td></tr>\n",
              "<tr><td style=\"white-space: nowrap; max-width: 500px; overflow: hidden; text-overflow: ellipsis; \">&quot;LP6005441-DNA_F02&quot;</td></tr>\n",
              "</tbody></table><p style=\"background: #fdd; padding: 0.4em;\">showing top 10 rows</p>\n"
            ],
            "text/plain": [
              "+---------------------+\n",
              "| s                   |\n",
              "+---------------------+\n",
              "| str                 |\n",
              "+---------------------+\n",
              "| \"LP6005441-DNA_F08\" |\n",
              "| \"LP6005441-DNA_C05\" |\n",
              "| \"HGDP00961\"         |\n",
              "| \"HGDP00804\"         |\n",
              "| \"HGDP00926\"         |\n",
              "| \"HGDP00716\"         |\n",
              "| \"HGDP01269\"         |\n",
              "| \"HGDP00241\"         |\n",
              "| \"HGDP00110\"         |\n",
              "| \"LP6005441-DNA_F02\" |\n",
              "+---------------------+\n",
              "showing top 10 rows"
            ]
          },
          "metadata": {},
          "output_type": "display_data"
        }
      ],
      "source": [
        "mt.s.show()"
      ]
    },
    {
      "cell_type": "markdown",
      "metadata": {
        "id": "nPxopJcHsvGz"
      },
      "source": [
        "It is also possible to show() the matrix table itself, which prints a portion of the top-left corner of the variant-by-sample matrix:"
      ]
    },
    {
      "cell_type": "code",
      "execution_count": null,
      "metadata": {
        "ExecuteTime": {
          "end_time": "2021-06-16T01:01:32.791317Z",
          "start_time": "2021-06-16T01:01:31.052206Z"
        },
        "id": "Hcol9k-7svGz",
        "outputId": "b46da6da-fd10-44cf-d087-f77419b6b793"
      },
      "outputs": [
        {
          "data": {
            "text/html": [
              "<table><thead><tr><td style=\"white-space: nowrap; max-width: 500px; overflow: hidden; text-overflow: ellipsis; \" colspan=\"1\"><div style=\"text-align: left;\"></div></td><td style=\"white-space: nowrap; max-width: 500px; overflow: hidden; text-overflow: ellipsis; \" colspan=\"1\"><div style=\"text-align: left;\"></div></td><td style=\"white-space: nowrap; max-width: 500px; overflow: hidden; text-overflow: ellipsis; \" colspan=\"5\"><div style=\"text-align: left;\"></div></td><td style=\"white-space: nowrap; max-width: 500px; overflow: hidden; text-overflow: ellipsis; \" colspan=\"5\"><div style=\"text-align: left;\"></div></td><td style=\"white-space: nowrap; max-width: 500px; overflow: hidden; text-overflow: ellipsis; \" colspan=\"5\"><div style=\"text-align: left;\"></div></td></tr><tr><td style=\"white-space: nowrap; max-width: 500px; overflow: hidden; text-overflow: ellipsis; \" colspan=\"1\"><div style=\"text-align: left;\"></div></td><td style=\"white-space: nowrap; max-width: 500px; overflow: hidden; text-overflow: ellipsis; \" colspan=\"1\"><div style=\"text-align: left;\"></div></td><td style=\"white-space: nowrap; max-width: 500px; overflow: hidden; text-overflow: ellipsis; \" colspan=\"5\"><div style=\"text-align: left;border-bottom: solid 2px #000; padding-bottom: 5px\">&#x27;LP6005441-DNA_F08&#x27;</div></td><td style=\"white-space: nowrap; max-width: 500px; overflow: hidden; text-overflow: ellipsis; \" colspan=\"5\"><div style=\"text-align: left;border-bottom: solid 2px #000; padding-bottom: 5px\">&#x27;LP6005441-DNA_C05&#x27;</div></td><td style=\"white-space: nowrap; max-width: 500px; overflow: hidden; text-overflow: ellipsis; \" colspan=\"5\"><div style=\"text-align: left;border-bottom: solid 2px #000; padding-bottom: 5px\">&#x27;HGDP00961&#x27;</div></td></tr><tr><td style=\"white-space: nowrap; max-width: 500px; overflow: hidden; text-overflow: ellipsis; \" colspan=\"1\"><div style=\"text-align: left;border-bottom: solid 2px #000; padding-bottom: 5px\">locus</div></td><td style=\"white-space: nowrap; max-width: 500px; overflow: hidden; text-overflow: ellipsis; \" colspan=\"1\"><div style=\"text-align: left;border-bottom: solid 2px #000; padding-bottom: 5px\">alleles</div></td><td style=\"white-space: nowrap; max-width: 500px; overflow: hidden; text-overflow: ellipsis; \" colspan=\"1\"><div style=\"text-align: left;border-bottom: solid 2px #000; padding-bottom: 5px\">GT</div></td><td style=\"white-space: nowrap; max-width: 500px; overflow: hidden; text-overflow: ellipsis; \" colspan=\"1\"><div style=\"text-align: left;border-bottom: solid 2px #000; padding-bottom: 5px\">DP</div></td><td style=\"white-space: nowrap; max-width: 500px; overflow: hidden; text-overflow: ellipsis; \" colspan=\"1\"><div style=\"text-align: left;border-bottom: solid 2px #000; padding-bottom: 5px\">GQ</div></td><td style=\"white-space: nowrap; max-width: 500px; overflow: hidden; text-overflow: ellipsis; \" colspan=\"1\"><div style=\"text-align: left;border-bottom: solid 2px #000; padding-bottom: 5px\">AD</div></td><td style=\"white-space: nowrap; max-width: 500px; overflow: hidden; text-overflow: ellipsis; \" colspan=\"1\"><div style=\"text-align: left;border-bottom: solid 2px #000; padding-bottom: 5px\">PL</div></td><td style=\"white-space: nowrap; max-width: 500px; overflow: hidden; text-overflow: ellipsis; \" colspan=\"1\"><div style=\"text-align: left;border-bottom: solid 2px #000; padding-bottom: 5px\">GT</div></td><td style=\"white-space: nowrap; max-width: 500px; overflow: hidden; text-overflow: ellipsis; \" colspan=\"1\"><div style=\"text-align: left;border-bottom: solid 2px #000; padding-bottom: 5px\">DP</div></td><td style=\"white-space: nowrap; max-width: 500px; overflow: hidden; text-overflow: ellipsis; \" colspan=\"1\"><div style=\"text-align: left;border-bottom: solid 2px #000; padding-bottom: 5px\">GQ</div></td><td style=\"white-space: nowrap; max-width: 500px; overflow: hidden; text-overflow: ellipsis; \" colspan=\"1\"><div style=\"text-align: left;border-bottom: solid 2px #000; padding-bottom: 5px\">AD</div></td><td style=\"white-space: nowrap; max-width: 500px; overflow: hidden; text-overflow: ellipsis; \" colspan=\"1\"><div style=\"text-align: left;border-bottom: solid 2px #000; padding-bottom: 5px\">PL</div></td><td style=\"white-space: nowrap; max-width: 500px; overflow: hidden; text-overflow: ellipsis; \" colspan=\"1\"><div style=\"text-align: left;border-bottom: solid 2px #000; padding-bottom: 5px\">GT</div></td><td style=\"white-space: nowrap; max-width: 500px; overflow: hidden; text-overflow: ellipsis; \" colspan=\"1\"><div style=\"text-align: left;border-bottom: solid 2px #000; padding-bottom: 5px\">DP</div></td><td style=\"white-space: nowrap; max-width: 500px; overflow: hidden; text-overflow: ellipsis; \" colspan=\"1\"><div style=\"text-align: left;border-bottom: solid 2px #000; padding-bottom: 5px\">GQ</div></td><td style=\"white-space: nowrap; max-width: 500px; overflow: hidden; text-overflow: ellipsis; \" colspan=\"1\"><div style=\"text-align: left;border-bottom: solid 2px #000; padding-bottom: 5px\">AD</div></td><td style=\"white-space: nowrap; max-width: 500px; overflow: hidden; text-overflow: ellipsis; \" colspan=\"1\"><div style=\"text-align: left;border-bottom: solid 2px #000; padding-bottom: 5px\">PL</div></td></tr><tr><td style=\"white-space: nowrap; max-width: 500px; overflow: hidden; text-overflow: ellipsis; text-align: left;\">locus&lt;GRCh38&gt;</td><td style=\"white-space: nowrap; max-width: 500px; overflow: hidden; text-overflow: ellipsis; text-align: left;\">array&lt;str&gt;</td><td style=\"white-space: nowrap; max-width: 500px; overflow: hidden; text-overflow: ellipsis; text-align: left;\">call</td><td style=\"white-space: nowrap; max-width: 500px; overflow: hidden; text-overflow: ellipsis; text-align: left;\">int32</td><td style=\"white-space: nowrap; max-width: 500px; overflow: hidden; text-overflow: ellipsis; text-align: left;\">int32</td><td style=\"white-space: nowrap; max-width: 500px; overflow: hidden; text-overflow: ellipsis; text-align: left;\">array&lt;int32&gt;</td><td style=\"white-space: nowrap; max-width: 500px; overflow: hidden; text-overflow: ellipsis; text-align: left;\">array&lt;int32&gt;</td><td style=\"white-space: nowrap; max-width: 500px; overflow: hidden; text-overflow: ellipsis; text-align: left;\">call</td><td style=\"white-space: nowrap; max-width: 500px; overflow: hidden; text-overflow: ellipsis; text-align: left;\">int32</td><td style=\"white-space: nowrap; max-width: 500px; overflow: hidden; text-overflow: ellipsis; text-align: left;\">int32</td><td style=\"white-space: nowrap; max-width: 500px; overflow: hidden; text-overflow: ellipsis; text-align: left;\">array&lt;int32&gt;</td><td style=\"white-space: nowrap; max-width: 500px; overflow: hidden; text-overflow: ellipsis; text-align: left;\">array&lt;int32&gt;</td><td style=\"white-space: nowrap; max-width: 500px; overflow: hidden; text-overflow: ellipsis; text-align: left;\">call</td><td style=\"white-space: nowrap; max-width: 500px; overflow: hidden; text-overflow: ellipsis; text-align: left;\">int32</td><td style=\"white-space: nowrap; max-width: 500px; overflow: hidden; text-overflow: ellipsis; text-align: left;\">int32</td><td style=\"white-space: nowrap; max-width: 500px; overflow: hidden; text-overflow: ellipsis; text-align: left;\">array&lt;int32&gt;</td><td style=\"white-space: nowrap; max-width: 500px; overflow: hidden; text-overflow: ellipsis; text-align: left;\">array&lt;int32&gt;</td></tr>\n",
              "</thead><tbody><tr><td style=\"white-space: nowrap; max-width: 500px; overflow: hidden; text-overflow: ellipsis; \">chr1:17379</td><td style=\"white-space: nowrap; max-width: 500px; overflow: hidden; text-overflow: ellipsis; \">[&quot;G&quot;,&quot;A&quot;]</td><td style=\"white-space: nowrap; max-width: 500px; overflow: hidden; text-overflow: ellipsis; \">0/0</td><td style=\"white-space: nowrap; max-width: 500px; overflow: hidden; text-overflow: ellipsis; \">11</td><td style=\"white-space: nowrap; max-width: 500px; overflow: hidden; text-overflow: ellipsis; \">20</td><td style=\"white-space: nowrap; max-width: 500px; overflow: hidden; text-overflow: ellipsis; \">NA</td><td style=\"white-space: nowrap; max-width: 500px; overflow: hidden; text-overflow: ellipsis; \">NA</td><td style=\"white-space: nowrap; max-width: 500px; overflow: hidden; text-overflow: ellipsis; \">0/0</td><td style=\"white-space: nowrap; max-width: 500px; overflow: hidden; text-overflow: ellipsis; \">15</td><td style=\"white-space: nowrap; max-width: 500px; overflow: hidden; text-overflow: ellipsis; \">30</td><td style=\"white-space: nowrap; max-width: 500px; overflow: hidden; text-overflow: ellipsis; \">NA</td><td style=\"white-space: nowrap; max-width: 500px; overflow: hidden; text-overflow: ellipsis; \">NA</td><td style=\"white-space: nowrap; max-width: 500px; overflow: hidden; text-overflow: ellipsis; \">0/0</td><td style=\"white-space: nowrap; max-width: 500px; overflow: hidden; text-overflow: ellipsis; \">37</td><td style=\"white-space: nowrap; max-width: 500px; overflow: hidden; text-overflow: ellipsis; \">60</td><td style=\"white-space: nowrap; max-width: 500px; overflow: hidden; text-overflow: ellipsis; \">NA</td><td style=\"white-space: nowrap; max-width: 500px; overflow: hidden; text-overflow: ellipsis; \">NA</td></tr>\n",
              "<tr><td style=\"white-space: nowrap; max-width: 500px; overflow: hidden; text-overflow: ellipsis; \">chr1:95068</td><td style=\"white-space: nowrap; max-width: 500px; overflow: hidden; text-overflow: ellipsis; \">[&quot;G&quot;,&quot;A&quot;]</td><td style=\"white-space: nowrap; max-width: 500px; overflow: hidden; text-overflow: ellipsis; \">0/0</td><td style=\"white-space: nowrap; max-width: 500px; overflow: hidden; text-overflow: ellipsis; \">15</td><td style=\"white-space: nowrap; max-width: 500px; overflow: hidden; text-overflow: ellipsis; \">20</td><td style=\"white-space: nowrap; max-width: 500px; overflow: hidden; text-overflow: ellipsis; \">NA</td><td style=\"white-space: nowrap; max-width: 500px; overflow: hidden; text-overflow: ellipsis; \">NA</td><td style=\"white-space: nowrap; max-width: 500px; overflow: hidden; text-overflow: ellipsis; \">0/0</td><td style=\"white-space: nowrap; max-width: 500px; overflow: hidden; text-overflow: ellipsis; \">27</td><td style=\"white-space: nowrap; max-width: 500px; overflow: hidden; text-overflow: ellipsis; \">30</td><td style=\"white-space: nowrap; max-width: 500px; overflow: hidden; text-overflow: ellipsis; \">NA</td><td style=\"white-space: nowrap; max-width: 500px; overflow: hidden; text-overflow: ellipsis; \">NA</td><td style=\"white-space: nowrap; max-width: 500px; overflow: hidden; text-overflow: ellipsis; \">NA</td><td style=\"white-space: nowrap; max-width: 500px; overflow: hidden; text-overflow: ellipsis; \">NA</td><td style=\"white-space: nowrap; max-width: 500px; overflow: hidden; text-overflow: ellipsis; \">NA</td><td style=\"white-space: nowrap; max-width: 500px; overflow: hidden; text-overflow: ellipsis; \">NA</td><td style=\"white-space: nowrap; max-width: 500px; overflow: hidden; text-overflow: ellipsis; \">NA</td></tr>\n",
              "<tr><td style=\"white-space: nowrap; max-width: 500px; overflow: hidden; text-overflow: ellipsis; \">chr1:111735</td><td style=\"white-space: nowrap; max-width: 500px; overflow: hidden; text-overflow: ellipsis; \">[&quot;C&quot;,&quot;A&quot;]</td><td style=\"white-space: nowrap; max-width: 500px; overflow: hidden; text-overflow: ellipsis; \">0/0</td><td style=\"white-space: nowrap; max-width: 500px; overflow: hidden; text-overflow: ellipsis; \">14</td><td style=\"white-space: nowrap; max-width: 500px; overflow: hidden; text-overflow: ellipsis; \">20</td><td style=\"white-space: nowrap; max-width: 500px; overflow: hidden; text-overflow: ellipsis; \">NA</td><td style=\"white-space: nowrap; max-width: 500px; overflow: hidden; text-overflow: ellipsis; \">NA</td><td style=\"white-space: nowrap; max-width: 500px; overflow: hidden; text-overflow: ellipsis; \">0/0</td><td style=\"white-space: nowrap; max-width: 500px; overflow: hidden; text-overflow: ellipsis; \">15</td><td style=\"white-space: nowrap; max-width: 500px; overflow: hidden; text-overflow: ellipsis; \">20</td><td style=\"white-space: nowrap; max-width: 500px; overflow: hidden; text-overflow: ellipsis; \">NA</td><td style=\"white-space: nowrap; max-width: 500px; overflow: hidden; text-overflow: ellipsis; \">NA</td><td style=\"white-space: nowrap; max-width: 500px; overflow: hidden; text-overflow: ellipsis; \">0/1</td><td style=\"white-space: nowrap; max-width: 500px; overflow: hidden; text-overflow: ellipsis; \">15</td><td style=\"white-space: nowrap; max-width: 500px; overflow: hidden; text-overflow: ellipsis; \">99</td><td style=\"white-space: nowrap; max-width: 500px; overflow: hidden; text-overflow: ellipsis; \">[8,7]</td><td style=\"white-space: nowrap; max-width: 500px; overflow: hidden; text-overflow: ellipsis; \">[153,0,153]</td></tr>\n",
              "<tr><td style=\"white-space: nowrap; max-width: 500px; overflow: hidden; text-overflow: ellipsis; \">chr1:134610</td><td style=\"white-space: nowrap; max-width: 500px; overflow: hidden; text-overflow: ellipsis; \">[&quot;G&quot;,&quot;A&quot;]</td><td style=\"white-space: nowrap; max-width: 500px; overflow: hidden; text-overflow: ellipsis; \">0/0</td><td style=\"white-space: nowrap; max-width: 500px; overflow: hidden; text-overflow: ellipsis; \">8</td><td style=\"white-space: nowrap; max-width: 500px; overflow: hidden; text-overflow: ellipsis; \">20</td><td style=\"white-space: nowrap; max-width: 500px; overflow: hidden; text-overflow: ellipsis; \">NA</td><td style=\"white-space: nowrap; max-width: 500px; overflow: hidden; text-overflow: ellipsis; \">NA</td><td style=\"white-space: nowrap; max-width: 500px; overflow: hidden; text-overflow: ellipsis; \">NA</td><td style=\"white-space: nowrap; max-width: 500px; overflow: hidden; text-overflow: ellipsis; \">NA</td><td style=\"white-space: nowrap; max-width: 500px; overflow: hidden; text-overflow: ellipsis; \">NA</td><td style=\"white-space: nowrap; max-width: 500px; overflow: hidden; text-overflow: ellipsis; \">NA</td><td style=\"white-space: nowrap; max-width: 500px; overflow: hidden; text-overflow: ellipsis; \">NA</td><td style=\"white-space: nowrap; max-width: 500px; overflow: hidden; text-overflow: ellipsis; \">NA</td><td style=\"white-space: nowrap; max-width: 500px; overflow: hidden; text-overflow: ellipsis; \">NA</td><td style=\"white-space: nowrap; max-width: 500px; overflow: hidden; text-overflow: ellipsis; \">NA</td><td style=\"white-space: nowrap; max-width: 500px; overflow: hidden; text-overflow: ellipsis; \">NA</td><td style=\"white-space: nowrap; max-width: 500px; overflow: hidden; text-overflow: ellipsis; \">NA</td></tr>\n",
              "<tr><td style=\"white-space: nowrap; max-width: 500px; overflow: hidden; text-overflow: ellipsis; \">chr1:414783</td><td style=\"white-space: nowrap; max-width: 500px; overflow: hidden; text-overflow: ellipsis; \">[&quot;T&quot;,&quot;C&quot;]</td><td style=\"white-space: nowrap; max-width: 500px; overflow: hidden; text-overflow: ellipsis; \">NA</td><td style=\"white-space: nowrap; max-width: 500px; overflow: hidden; text-overflow: ellipsis; \">NA</td><td style=\"white-space: nowrap; max-width: 500px; overflow: hidden; text-overflow: ellipsis; \">NA</td><td style=\"white-space: nowrap; max-width: 500px; overflow: hidden; text-overflow: ellipsis; \">NA</td><td style=\"white-space: nowrap; max-width: 500px; overflow: hidden; text-overflow: ellipsis; \">NA</td><td style=\"white-space: nowrap; max-width: 500px; overflow: hidden; text-overflow: ellipsis; \">0/0</td><td style=\"white-space: nowrap; max-width: 500px; overflow: hidden; text-overflow: ellipsis; \">9</td><td style=\"white-space: nowrap; max-width: 500px; overflow: hidden; text-overflow: ellipsis; \">20</td><td style=\"white-space: nowrap; max-width: 500px; overflow: hidden; text-overflow: ellipsis; \">NA</td><td style=\"white-space: nowrap; max-width: 500px; overflow: hidden; text-overflow: ellipsis; \">NA</td><td style=\"white-space: nowrap; max-width: 500px; overflow: hidden; text-overflow: ellipsis; \">NA</td><td style=\"white-space: nowrap; max-width: 500px; overflow: hidden; text-overflow: ellipsis; \">NA</td><td style=\"white-space: nowrap; max-width: 500px; overflow: hidden; text-overflow: ellipsis; \">NA</td><td style=\"white-space: nowrap; max-width: 500px; overflow: hidden; text-overflow: ellipsis; \">NA</td><td style=\"white-space: nowrap; max-width: 500px; overflow: hidden; text-overflow: ellipsis; \">NA</td></tr>\n",
              "<tr><td style=\"white-space: nowrap; max-width: 500px; overflow: hidden; text-overflow: ellipsis; \">chr1:1130877</td><td style=\"white-space: nowrap; max-width: 500px; overflow: hidden; text-overflow: ellipsis; \">[&quot;C&quot;,&quot;G&quot;]</td><td style=\"white-space: nowrap; max-width: 500px; overflow: hidden; text-overflow: ellipsis; \">0/0</td><td style=\"white-space: nowrap; max-width: 500px; overflow: hidden; text-overflow: ellipsis; \">24</td><td style=\"white-space: nowrap; max-width: 500px; overflow: hidden; text-overflow: ellipsis; \">40</td><td style=\"white-space: nowrap; max-width: 500px; overflow: hidden; text-overflow: ellipsis; \">NA</td><td style=\"white-space: nowrap; max-width: 500px; overflow: hidden; text-overflow: ellipsis; \">NA</td><td style=\"white-space: nowrap; max-width: 500px; overflow: hidden; text-overflow: ellipsis; \">0/0</td><td style=\"white-space: nowrap; max-width: 500px; overflow: hidden; text-overflow: ellipsis; \">27</td><td style=\"white-space: nowrap; max-width: 500px; overflow: hidden; text-overflow: ellipsis; \">30</td><td style=\"white-space: nowrap; max-width: 500px; overflow: hidden; text-overflow: ellipsis; \">NA</td><td style=\"white-space: nowrap; max-width: 500px; overflow: hidden; text-overflow: ellipsis; \">NA</td><td style=\"white-space: nowrap; max-width: 500px; overflow: hidden; text-overflow: ellipsis; \">0/0</td><td style=\"white-space: nowrap; max-width: 500px; overflow: hidden; text-overflow: ellipsis; \">33</td><td style=\"white-space: nowrap; max-width: 500px; overflow: hidden; text-overflow: ellipsis; \">20</td><td style=\"white-space: nowrap; max-width: 500px; overflow: hidden; text-overflow: ellipsis; \">NA</td><td style=\"white-space: nowrap; max-width: 500px; overflow: hidden; text-overflow: ellipsis; \">NA</td></tr>\n",
              "<tr><td style=\"white-space: nowrap; max-width: 500px; overflow: hidden; text-overflow: ellipsis; \">chr1:1226707</td><td style=\"white-space: nowrap; max-width: 500px; overflow: hidden; text-overflow: ellipsis; \">[&quot;C&quot;,&quot;G&quot;]</td><td style=\"white-space: nowrap; max-width: 500px; overflow: hidden; text-overflow: ellipsis; \">0/0</td><td style=\"white-space: nowrap; max-width: 500px; overflow: hidden; text-overflow: ellipsis; \">26</td><td style=\"white-space: nowrap; max-width: 500px; overflow: hidden; text-overflow: ellipsis; \">20</td><td style=\"white-space: nowrap; max-width: 500px; overflow: hidden; text-overflow: ellipsis; \">NA</td><td style=\"white-space: nowrap; max-width: 500px; overflow: hidden; text-overflow: ellipsis; \">NA</td><td style=\"white-space: nowrap; max-width: 500px; overflow: hidden; text-overflow: ellipsis; \">0/0</td><td style=\"white-space: nowrap; max-width: 500px; overflow: hidden; text-overflow: ellipsis; \">25</td><td style=\"white-space: nowrap; max-width: 500px; overflow: hidden; text-overflow: ellipsis; \">20</td><td style=\"white-space: nowrap; max-width: 500px; overflow: hidden; text-overflow: ellipsis; \">NA</td><td style=\"white-space: nowrap; max-width: 500px; overflow: hidden; text-overflow: ellipsis; \">NA</td><td style=\"white-space: nowrap; max-width: 500px; overflow: hidden; text-overflow: ellipsis; \">0/0</td><td style=\"white-space: nowrap; max-width: 500px; overflow: hidden; text-overflow: ellipsis; \">29</td><td style=\"white-space: nowrap; max-width: 500px; overflow: hidden; text-overflow: ellipsis; \">20</td><td style=\"white-space: nowrap; max-width: 500px; overflow: hidden; text-overflow: ellipsis; \">NA</td><td style=\"white-space: nowrap; max-width: 500px; overflow: hidden; text-overflow: ellipsis; \">NA</td></tr>\n",
              "<tr><td style=\"white-space: nowrap; max-width: 500px; overflow: hidden; text-overflow: ellipsis; \">chr1:1491494</td><td style=\"white-space: nowrap; max-width: 500px; overflow: hidden; text-overflow: ellipsis; \">[&quot;G&quot;,&quot;A&quot;]</td><td style=\"white-space: nowrap; max-width: 500px; overflow: hidden; text-overflow: ellipsis; \">0/0</td><td style=\"white-space: nowrap; max-width: 500px; overflow: hidden; text-overflow: ellipsis; \">27</td><td style=\"white-space: nowrap; max-width: 500px; overflow: hidden; text-overflow: ellipsis; \">40</td><td style=\"white-space: nowrap; max-width: 500px; overflow: hidden; text-overflow: ellipsis; \">NA</td><td style=\"white-space: nowrap; max-width: 500px; overflow: hidden; text-overflow: ellipsis; \">NA</td><td style=\"white-space: nowrap; max-width: 500px; overflow: hidden; text-overflow: ellipsis; \">0/0</td><td style=\"white-space: nowrap; max-width: 500px; overflow: hidden; text-overflow: ellipsis; \">30</td><td style=\"white-space: nowrap; max-width: 500px; overflow: hidden; text-overflow: ellipsis; \">20</td><td style=\"white-space: nowrap; max-width: 500px; overflow: hidden; text-overflow: ellipsis; \">NA</td><td style=\"white-space: nowrap; max-width: 500px; overflow: hidden; text-overflow: ellipsis; \">NA</td><td style=\"white-space: nowrap; max-width: 500px; overflow: hidden; text-overflow: ellipsis; \">0/0</td><td style=\"white-space: nowrap; max-width: 500px; overflow: hidden; text-overflow: ellipsis; \">27</td><td style=\"white-space: nowrap; max-width: 500px; overflow: hidden; text-overflow: ellipsis; \">20</td><td style=\"white-space: nowrap; max-width: 500px; overflow: hidden; text-overflow: ellipsis; \">NA</td><td style=\"white-space: nowrap; max-width: 500px; overflow: hidden; text-overflow: ellipsis; \">NA</td></tr>\n",
              "<tr><td style=\"white-space: nowrap; max-width: 500px; overflow: hidden; text-overflow: ellipsis; \">chr1:1618118</td><td style=\"white-space: nowrap; max-width: 500px; overflow: hidden; text-overflow: ellipsis; \">[&quot;G&quot;,&quot;A&quot;]</td><td style=\"white-space: nowrap; max-width: 500px; overflow: hidden; text-overflow: ellipsis; \">0/0</td><td style=\"white-space: nowrap; max-width: 500px; overflow: hidden; text-overflow: ellipsis; \">27</td><td style=\"white-space: nowrap; max-width: 500px; overflow: hidden; text-overflow: ellipsis; \">20</td><td style=\"white-space: nowrap; max-width: 500px; overflow: hidden; text-overflow: ellipsis; \">NA</td><td style=\"white-space: nowrap; max-width: 500px; overflow: hidden; text-overflow: ellipsis; \">NA</td><td style=\"white-space: nowrap; max-width: 500px; overflow: hidden; text-overflow: ellipsis; \">0/0</td><td style=\"white-space: nowrap; max-width: 500px; overflow: hidden; text-overflow: ellipsis; \">30</td><td style=\"white-space: nowrap; max-width: 500px; overflow: hidden; text-overflow: ellipsis; \">40</td><td style=\"white-space: nowrap; max-width: 500px; overflow: hidden; text-overflow: ellipsis; \">NA</td><td style=\"white-space: nowrap; max-width: 500px; overflow: hidden; text-overflow: ellipsis; \">NA</td><td style=\"white-space: nowrap; max-width: 500px; overflow: hidden; text-overflow: ellipsis; \">0/1</td><td style=\"white-space: nowrap; max-width: 500px; overflow: hidden; text-overflow: ellipsis; \">44</td><td style=\"white-space: nowrap; max-width: 500px; overflow: hidden; text-overflow: ellipsis; \">99</td><td style=\"white-space: nowrap; max-width: 500px; overflow: hidden; text-overflow: ellipsis; \">[22,22]</td><td style=\"white-space: nowrap; max-width: 500px; overflow: hidden; text-overflow: ellipsis; \">[621,0,622]</td></tr>\n",
              "<tr><td style=\"white-space: nowrap; max-width: 500px; overflow: hidden; text-overflow: ellipsis; \">chr1:2078529</td><td style=\"white-space: nowrap; max-width: 500px; overflow: hidden; text-overflow: ellipsis; \">[&quot;G&quot;,&quot;A&quot;]</td><td style=\"white-space: nowrap; max-width: 500px; overflow: hidden; text-overflow: ellipsis; \">0/0</td><td style=\"white-space: nowrap; max-width: 500px; overflow: hidden; text-overflow: ellipsis; \">30</td><td style=\"white-space: nowrap; max-width: 500px; overflow: hidden; text-overflow: ellipsis; \">50</td><td style=\"white-space: nowrap; max-width: 500px; overflow: hidden; text-overflow: ellipsis; \">NA</td><td style=\"white-space: nowrap; max-width: 500px; overflow: hidden; text-overflow: ellipsis; \">NA</td><td style=\"white-space: nowrap; max-width: 500px; overflow: hidden; text-overflow: ellipsis; \">0/0</td><td style=\"white-space: nowrap; max-width: 500px; overflow: hidden; text-overflow: ellipsis; \">37</td><td style=\"white-space: nowrap; max-width: 500px; overflow: hidden; text-overflow: ellipsis; \">60</td><td style=\"white-space: nowrap; max-width: 500px; overflow: hidden; text-overflow: ellipsis; \">NA</td><td style=\"white-space: nowrap; max-width: 500px; overflow: hidden; text-overflow: ellipsis; \">NA</td><td style=\"white-space: nowrap; max-width: 500px; overflow: hidden; text-overflow: ellipsis; \">0/0</td><td style=\"white-space: nowrap; max-width: 500px; overflow: hidden; text-overflow: ellipsis; \">29</td><td style=\"white-space: nowrap; max-width: 500px; overflow: hidden; text-overflow: ellipsis; \">40</td><td style=\"white-space: nowrap; max-width: 500px; overflow: hidden; text-overflow: ellipsis; \">NA</td><td style=\"white-space: nowrap; max-width: 500px; overflow: hidden; text-overflow: ellipsis; \">NA</td></tr>\n",
              "</tbody></table><p style=\"background: #fdd; padding: 0.4em;\">showing top 10 rows</p>\n",
              "<p style=\"background: #fdd; padding: 0.4em;\">showing the first 3 of 392 columns</p>\n"
            ],
            "text/plain": [
              "+---------------+------------+------------------------+------------------------+\n",
              "| locus         | alleles    | 'LP6005441-DNA_F08'.GT | 'LP6005441-DNA_F08'.DP |\n",
              "+---------------+------------+------------------------+------------------------+\n",
              "| locus<GRCh38> | array<str> | call                   |                  int32 |\n",
              "+---------------+------------+------------------------+------------------------+\n",
              "| chr1:17379    | [\"G\",\"A\"]  | 0/0                    |                     11 |\n",
              "| chr1:95068    | [\"G\",\"A\"]  | 0/0                    |                     15 |\n",
              "| chr1:111735   | [\"C\",\"A\"]  | 0/0                    |                     14 |\n",
              "| chr1:134610   | [\"G\",\"A\"]  | 0/0                    |                      8 |\n",
              "| chr1:414783   | [\"T\",\"C\"]  | NA                     |                     NA |\n",
              "| chr1:1130877  | [\"C\",\"G\"]  | 0/0                    |                     24 |\n",
              "| chr1:1226707  | [\"C\",\"G\"]  | 0/0                    |                     26 |\n",
              "| chr1:1491494  | [\"G\",\"A\"]  | 0/0                    |                     27 |\n",
              "| chr1:1618118  | [\"G\",\"A\"]  | 0/0                    |                     27 |\n",
              "| chr1:2078529  | [\"G\",\"A\"]  | 0/0                    |                     30 |\n",
              "+---------------+------------+------------------------+------------------------+\n",
              "\n",
              "+------------------------+------------------------+------------------------+\n",
              "| 'LP6005441-DNA_F08'.GQ | 'LP6005441-DNA_F08'.AD | 'LP6005441-DNA_F08'.PL |\n",
              "+------------------------+------------------------+------------------------+\n",
              "|                  int32 | array<int32>           | array<int32>           |\n",
              "+------------------------+------------------------+------------------------+\n",
              "|                     20 | NA                     | NA                     |\n",
              "|                     20 | NA                     | NA                     |\n",
              "|                     20 | NA                     | NA                     |\n",
              "|                     20 | NA                     | NA                     |\n",
              "|                     NA | NA                     | NA                     |\n",
              "|                     40 | NA                     | NA                     |\n",
              "|                     20 | NA                     | NA                     |\n",
              "|                     40 | NA                     | NA                     |\n",
              "|                     20 | NA                     | NA                     |\n",
              "|                     50 | NA                     | NA                     |\n",
              "+------------------------+------------------------+------------------------+\n",
              "\n",
              "+------------------------+------------------------+------------------------+\n",
              "| 'LP6005441-DNA_C05'.GT | 'LP6005441-DNA_C05'.DP | 'LP6005441-DNA_C05'.GQ |\n",
              "+------------------------+------------------------+------------------------+\n",
              "| call                   |                  int32 |                  int32 |\n",
              "+------------------------+------------------------+------------------------+\n",
              "| 0/0                    |                     15 |                     30 |\n",
              "| 0/0                    |                     27 |                     30 |\n",
              "| 0/0                    |                     15 |                     20 |\n",
              "| NA                     |                     NA |                     NA |\n",
              "| 0/0                    |                      9 |                     20 |\n",
              "| 0/0                    |                     27 |                     30 |\n",
              "| 0/0                    |                     25 |                     20 |\n",
              "| 0/0                    |                     30 |                     20 |\n",
              "| 0/0                    |                     30 |                     40 |\n",
              "| 0/0                    |                     37 |                     60 |\n",
              "+------------------------+------------------------+------------------------+\n",
              "\n",
              "+------------------------+------------------------+----------------+\n",
              "| 'LP6005441-DNA_C05'.AD | 'LP6005441-DNA_C05'.PL | 'HGDP00961'.GT |\n",
              "+------------------------+------------------------+----------------+\n",
              "| array<int32>           | array<int32>           | call           |\n",
              "+------------------------+------------------------+----------------+\n",
              "| NA                     | NA                     | 0/0            |\n",
              "| NA                     | NA                     | NA             |\n",
              "| NA                     | NA                     | 0/1            |\n",
              "| NA                     | NA                     | NA             |\n",
              "| NA                     | NA                     | NA             |\n",
              "| NA                     | NA                     | 0/0            |\n",
              "| NA                     | NA                     | 0/0            |\n",
              "| NA                     | NA                     | 0/0            |\n",
              "| NA                     | NA                     | 0/1            |\n",
              "| NA                     | NA                     | 0/0            |\n",
              "+------------------------+------------------------+----------------+\n",
              "\n",
              "+----------------+----------------+----------------+----------------+\n",
              "| 'HGDP00961'.DP | 'HGDP00961'.GQ | 'HGDP00961'.AD | 'HGDP00961'.PL |\n",
              "+----------------+----------------+----------------+----------------+\n",
              "|          int32 |          int32 | array<int32>   | array<int32>   |\n",
              "+----------------+----------------+----------------+----------------+\n",
              "|             37 |             60 | NA             | NA             |\n",
              "|             NA |             NA | NA             | NA             |\n",
              "|             15 |             99 | [8,7]          | [153,0,153]    |\n",
              "|             NA |             NA | NA             | NA             |\n",
              "|             NA |             NA | NA             | NA             |\n",
              "|             33 |             20 | NA             | NA             |\n",
              "|             29 |             20 | NA             | NA             |\n",
              "|             27 |             20 | NA             | NA             |\n",
              "|             44 |             99 | [22,22]        | [621,0,622]    |\n",
              "|             29 |             40 | NA             | NA             |\n",
              "+----------------+----------------+----------------+----------------+\n",
              "showing top 10 rows\n",
              "showing the first 3 of 392 columns"
            ]
          },
          "metadata": {},
          "output_type": "display_data"
        }
      ],
      "source": [
        "# show() works fine with no arguments, but can print too little data by default on small screens!\n",
        "mt.show(n_cols=3)"
      ]
    },
    {
      "cell_type": "markdown",
      "metadata": {
        "id": "Cje9BrQQsvGz"
      },
      "source": [
        "The above output is visually noisy because the matrix table has as lot of information in it. `show`ing just the called genotype (`GT`) is a bit more friendly.\n",
        "\n",
        "The printed representation of GT is explained below, where `a` is the reference allele and `A` is the alternate allele:\n",
        "\n",
        "`0/0` : homozygous reference or `aa`\n",
        "\n",
        "`0/1` : heterozygous or `Aa`\n",
        "\n",
        "`1/1` : homozygous alternate or `AA` \n"
      ]
    },
    {
      "cell_type": "code",
      "execution_count": null,
      "metadata": {
        "ExecuteTime": {
          "end_time": "2021-06-16T01:02:27.710797Z",
          "start_time": "2021-06-16T01:02:26.672662Z"
        },
        "id": "fI2Uh3z6svG0",
        "outputId": "25f706d7-318f-41b1-8ade-dda1bfa3c305"
      },
      "outputs": [
        {
          "data": {
            "text/html": [
              "<table><thead><tr><td style=\"white-space: nowrap; max-width: 500px; overflow: hidden; text-overflow: ellipsis; \" colspan=\"1\"><div style=\"text-align: left;\"></div></td><td style=\"white-space: nowrap; max-width: 500px; overflow: hidden; text-overflow: ellipsis; \" colspan=\"1\"><div style=\"text-align: left;\"></div></td><td style=\"white-space: nowrap; max-width: 500px; overflow: hidden; text-overflow: ellipsis; \" colspan=\"1\"><div style=\"text-align: left;\"></div></td><td style=\"white-space: nowrap; max-width: 500px; overflow: hidden; text-overflow: ellipsis; \" colspan=\"1\"><div style=\"text-align: left;\"></div></td><td style=\"white-space: nowrap; max-width: 500px; overflow: hidden; text-overflow: ellipsis; \" colspan=\"1\"><div style=\"text-align: left;\"></div></td><td style=\"white-space: nowrap; max-width: 500px; overflow: hidden; text-overflow: ellipsis; \" colspan=\"1\"><div style=\"text-align: left;\"></div></td></tr><tr><td style=\"white-space: nowrap; max-width: 500px; overflow: hidden; text-overflow: ellipsis; \" colspan=\"1\"><div style=\"text-align: left;\"></div></td><td style=\"white-space: nowrap; max-width: 500px; overflow: hidden; text-overflow: ellipsis; \" colspan=\"1\"><div style=\"text-align: left;\"></div></td><td style=\"white-space: nowrap; max-width: 500px; overflow: hidden; text-overflow: ellipsis; \" colspan=\"1\"><div style=\"text-align: left;border-bottom: solid 2px #000; padding-bottom: 5px\">&#x27;LP6005441-DNA_F08&#x27;</div></td><td style=\"white-space: nowrap; max-width: 500px; overflow: hidden; text-overflow: ellipsis; \" colspan=\"1\"><div style=\"text-align: left;border-bottom: solid 2px #000; padding-bottom: 5px\">&#x27;LP6005441-DNA_C05&#x27;</div></td><td style=\"white-space: nowrap; max-width: 500px; overflow: hidden; text-overflow: ellipsis; \" colspan=\"1\"><div style=\"text-align: left;border-bottom: solid 2px #000; padding-bottom: 5px\">&#x27;HGDP00961&#x27;</div></td><td style=\"white-space: nowrap; max-width: 500px; overflow: hidden; text-overflow: ellipsis; \" colspan=\"1\"><div style=\"text-align: left;border-bottom: solid 2px #000; padding-bottom: 5px\">&#x27;HGDP00804&#x27;</div></td></tr><tr><td style=\"white-space: nowrap; max-width: 500px; overflow: hidden; text-overflow: ellipsis; \" colspan=\"1\"><div style=\"text-align: left;border-bottom: solid 2px #000; padding-bottom: 5px\">locus</div></td><td style=\"white-space: nowrap; max-width: 500px; overflow: hidden; text-overflow: ellipsis; \" colspan=\"1\"><div style=\"text-align: left;border-bottom: solid 2px #000; padding-bottom: 5px\">alleles</div></td><td style=\"white-space: nowrap; max-width: 500px; overflow: hidden; text-overflow: ellipsis; \" colspan=\"1\"><div style=\"text-align: left;border-bottom: solid 2px #000; padding-bottom: 5px\">GT</div></td><td style=\"white-space: nowrap; max-width: 500px; overflow: hidden; text-overflow: ellipsis; \" colspan=\"1\"><div style=\"text-align: left;border-bottom: solid 2px #000; padding-bottom: 5px\">GT</div></td><td style=\"white-space: nowrap; max-width: 500px; overflow: hidden; text-overflow: ellipsis; \" colspan=\"1\"><div style=\"text-align: left;border-bottom: solid 2px #000; padding-bottom: 5px\">GT</div></td><td style=\"white-space: nowrap; max-width: 500px; overflow: hidden; text-overflow: ellipsis; \" colspan=\"1\"><div style=\"text-align: left;border-bottom: solid 2px #000; padding-bottom: 5px\">GT</div></td></tr><tr><td style=\"white-space: nowrap; max-width: 500px; overflow: hidden; text-overflow: ellipsis; text-align: left;\">locus&lt;GRCh38&gt;</td><td style=\"white-space: nowrap; max-width: 500px; overflow: hidden; text-overflow: ellipsis; text-align: left;\">array&lt;str&gt;</td><td style=\"white-space: nowrap; max-width: 500px; overflow: hidden; text-overflow: ellipsis; text-align: left;\">call</td><td style=\"white-space: nowrap; max-width: 500px; overflow: hidden; text-overflow: ellipsis; text-align: left;\">call</td><td style=\"white-space: nowrap; max-width: 500px; overflow: hidden; text-overflow: ellipsis; text-align: left;\">call</td><td style=\"white-space: nowrap; max-width: 500px; overflow: hidden; text-overflow: ellipsis; text-align: left;\">call</td></tr>\n",
              "</thead><tbody><tr><td style=\"white-space: nowrap; max-width: 500px; overflow: hidden; text-overflow: ellipsis; \">chr1:17379</td><td style=\"white-space: nowrap; max-width: 500px; overflow: hidden; text-overflow: ellipsis; \">[&quot;G&quot;,&quot;A&quot;]</td><td style=\"white-space: nowrap; max-width: 500px; overflow: hidden; text-overflow: ellipsis; \">0/0</td><td style=\"white-space: nowrap; max-width: 500px; overflow: hidden; text-overflow: ellipsis; \">0/0</td><td style=\"white-space: nowrap; max-width: 500px; overflow: hidden; text-overflow: ellipsis; \">0/0</td><td style=\"white-space: nowrap; max-width: 500px; overflow: hidden; text-overflow: ellipsis; \">0/0</td></tr>\n",
              "<tr><td style=\"white-space: nowrap; max-width: 500px; overflow: hidden; text-overflow: ellipsis; \">chr1:95068</td><td style=\"white-space: nowrap; max-width: 500px; overflow: hidden; text-overflow: ellipsis; \">[&quot;G&quot;,&quot;A&quot;]</td><td style=\"white-space: nowrap; max-width: 500px; overflow: hidden; text-overflow: ellipsis; \">0/0</td><td style=\"white-space: nowrap; max-width: 500px; overflow: hidden; text-overflow: ellipsis; \">0/0</td><td style=\"white-space: nowrap; max-width: 500px; overflow: hidden; text-overflow: ellipsis; \">NA</td><td style=\"white-space: nowrap; max-width: 500px; overflow: hidden; text-overflow: ellipsis; \">0/0</td></tr>\n",
              "<tr><td style=\"white-space: nowrap; max-width: 500px; overflow: hidden; text-overflow: ellipsis; \">chr1:111735</td><td style=\"white-space: nowrap; max-width: 500px; overflow: hidden; text-overflow: ellipsis; \">[&quot;C&quot;,&quot;A&quot;]</td><td style=\"white-space: nowrap; max-width: 500px; overflow: hidden; text-overflow: ellipsis; \">0/0</td><td style=\"white-space: nowrap; max-width: 500px; overflow: hidden; text-overflow: ellipsis; \">0/0</td><td style=\"white-space: nowrap; max-width: 500px; overflow: hidden; text-overflow: ellipsis; \">0/1</td><td style=\"white-space: nowrap; max-width: 500px; overflow: hidden; text-overflow: ellipsis; \">0/0</td></tr>\n",
              "<tr><td style=\"white-space: nowrap; max-width: 500px; overflow: hidden; text-overflow: ellipsis; \">chr1:134610</td><td style=\"white-space: nowrap; max-width: 500px; overflow: hidden; text-overflow: ellipsis; \">[&quot;G&quot;,&quot;A&quot;]</td><td style=\"white-space: nowrap; max-width: 500px; overflow: hidden; text-overflow: ellipsis; \">0/0</td><td style=\"white-space: nowrap; max-width: 500px; overflow: hidden; text-overflow: ellipsis; \">NA</td><td style=\"white-space: nowrap; max-width: 500px; overflow: hidden; text-overflow: ellipsis; \">NA</td><td style=\"white-space: nowrap; max-width: 500px; overflow: hidden; text-overflow: ellipsis; \">0/0</td></tr>\n",
              "<tr><td style=\"white-space: nowrap; max-width: 500px; overflow: hidden; text-overflow: ellipsis; \">chr1:414783</td><td style=\"white-space: nowrap; max-width: 500px; overflow: hidden; text-overflow: ellipsis; \">[&quot;T&quot;,&quot;C&quot;]</td><td style=\"white-space: nowrap; max-width: 500px; overflow: hidden; text-overflow: ellipsis; \">NA</td><td style=\"white-space: nowrap; max-width: 500px; overflow: hidden; text-overflow: ellipsis; \">0/0</td><td style=\"white-space: nowrap; max-width: 500px; overflow: hidden; text-overflow: ellipsis; \">NA</td><td style=\"white-space: nowrap; max-width: 500px; overflow: hidden; text-overflow: ellipsis; \">NA</td></tr>\n",
              "<tr><td style=\"white-space: nowrap; max-width: 500px; overflow: hidden; text-overflow: ellipsis; \">chr1:1130877</td><td style=\"white-space: nowrap; max-width: 500px; overflow: hidden; text-overflow: ellipsis; \">[&quot;C&quot;,&quot;G&quot;]</td><td style=\"white-space: nowrap; max-width: 500px; overflow: hidden; text-overflow: ellipsis; \">0/0</td><td style=\"white-space: nowrap; max-width: 500px; overflow: hidden; text-overflow: ellipsis; \">0/0</td><td style=\"white-space: nowrap; max-width: 500px; overflow: hidden; text-overflow: ellipsis; \">0/0</td><td style=\"white-space: nowrap; max-width: 500px; overflow: hidden; text-overflow: ellipsis; \">0/0</td></tr>\n",
              "<tr><td style=\"white-space: nowrap; max-width: 500px; overflow: hidden; text-overflow: ellipsis; \">chr1:1226707</td><td style=\"white-space: nowrap; max-width: 500px; overflow: hidden; text-overflow: ellipsis; \">[&quot;C&quot;,&quot;G&quot;]</td><td style=\"white-space: nowrap; max-width: 500px; overflow: hidden; text-overflow: ellipsis; \">0/0</td><td style=\"white-space: nowrap; max-width: 500px; overflow: hidden; text-overflow: ellipsis; \">0/0</td><td style=\"white-space: nowrap; max-width: 500px; overflow: hidden; text-overflow: ellipsis; \">0/0</td><td style=\"white-space: nowrap; max-width: 500px; overflow: hidden; text-overflow: ellipsis; \">0/0</td></tr>\n",
              "<tr><td style=\"white-space: nowrap; max-width: 500px; overflow: hidden; text-overflow: ellipsis; \">chr1:1491494</td><td style=\"white-space: nowrap; max-width: 500px; overflow: hidden; text-overflow: ellipsis; \">[&quot;G&quot;,&quot;A&quot;]</td><td style=\"white-space: nowrap; max-width: 500px; overflow: hidden; text-overflow: ellipsis; \">0/0</td><td style=\"white-space: nowrap; max-width: 500px; overflow: hidden; text-overflow: ellipsis; \">0/0</td><td style=\"white-space: nowrap; max-width: 500px; overflow: hidden; text-overflow: ellipsis; \">0/0</td><td style=\"white-space: nowrap; max-width: 500px; overflow: hidden; text-overflow: ellipsis; \">0/0</td></tr>\n",
              "<tr><td style=\"white-space: nowrap; max-width: 500px; overflow: hidden; text-overflow: ellipsis; \">chr1:1618118</td><td style=\"white-space: nowrap; max-width: 500px; overflow: hidden; text-overflow: ellipsis; \">[&quot;G&quot;,&quot;A&quot;]</td><td style=\"white-space: nowrap; max-width: 500px; overflow: hidden; text-overflow: ellipsis; \">0/0</td><td style=\"white-space: nowrap; max-width: 500px; overflow: hidden; text-overflow: ellipsis; \">0/0</td><td style=\"white-space: nowrap; max-width: 500px; overflow: hidden; text-overflow: ellipsis; \">0/1</td><td style=\"white-space: nowrap; max-width: 500px; overflow: hidden; text-overflow: ellipsis; \">0/1</td></tr>\n",
              "<tr><td style=\"white-space: nowrap; max-width: 500px; overflow: hidden; text-overflow: ellipsis; \">chr1:2078529</td><td style=\"white-space: nowrap; max-width: 500px; overflow: hidden; text-overflow: ellipsis; \">[&quot;G&quot;,&quot;A&quot;]</td><td style=\"white-space: nowrap; max-width: 500px; overflow: hidden; text-overflow: ellipsis; \">0/0</td><td style=\"white-space: nowrap; max-width: 500px; overflow: hidden; text-overflow: ellipsis; \">0/0</td><td style=\"white-space: nowrap; max-width: 500px; overflow: hidden; text-overflow: ellipsis; \">0/0</td><td style=\"white-space: nowrap; max-width: 500px; overflow: hidden; text-overflow: ellipsis; \">0/0</td></tr>\n",
              "</tbody></table><p style=\"background: #fdd; padding: 0.4em;\">showing top 10 rows</p>\n",
              "<p style=\"background: #fdd; padding: 0.4em;\">showing the first 4 of 392 columns</p>\n"
            ],
            "text/plain": [
              "+---------------+------------+------------------------+------------------------+\n",
              "| locus         | alleles    | 'LP6005441-DNA_F08'.GT | 'LP6005441-DNA_C05'.GT |\n",
              "+---------------+------------+------------------------+------------------------+\n",
              "| locus<GRCh38> | array<str> | call                   | call                   |\n",
              "+---------------+------------+------------------------+------------------------+\n",
              "| chr1:17379    | [\"G\",\"A\"]  | 0/0                    | 0/0                    |\n",
              "| chr1:95068    | [\"G\",\"A\"]  | 0/0                    | 0/0                    |\n",
              "| chr1:111735   | [\"C\",\"A\"]  | 0/0                    | 0/0                    |\n",
              "| chr1:134610   | [\"G\",\"A\"]  | 0/0                    | NA                     |\n",
              "| chr1:414783   | [\"T\",\"C\"]  | NA                     | 0/0                    |\n",
              "| chr1:1130877  | [\"C\",\"G\"]  | 0/0                    | 0/0                    |\n",
              "| chr1:1226707  | [\"C\",\"G\"]  | 0/0                    | 0/0                    |\n",
              "| chr1:1491494  | [\"G\",\"A\"]  | 0/0                    | 0/0                    |\n",
              "| chr1:1618118  | [\"G\",\"A\"]  | 0/0                    | 0/0                    |\n",
              "| chr1:2078529  | [\"G\",\"A\"]  | 0/0                    | 0/0                    |\n",
              "+---------------+------------+------------------------+------------------------+\n",
              "\n",
              "+----------------+----------------+\n",
              "| 'HGDP00961'.GT | 'HGDP00804'.GT |\n",
              "+----------------+----------------+\n",
              "| call           | call           |\n",
              "+----------------+----------------+\n",
              "| 0/0            | 0/0            |\n",
              "| NA             | 0/0            |\n",
              "| 0/1            | 0/0            |\n",
              "| NA             | 0/0            |\n",
              "| NA             | NA             |\n",
              "| 0/0            | 0/0            |\n",
              "| 0/0            | 0/0            |\n",
              "| 0/0            | 0/0            |\n",
              "| 0/1            | 0/1            |\n",
              "| 0/0            | 0/0            |\n",
              "+----------------+----------------+\n",
              "showing top 10 rows\n",
              "showing the first 4 of 392 columns"
            ]
          },
          "metadata": {},
          "output_type": "display_data"
        }
      ],
      "source": [
        "mt.GT.show()"
      ]
    },
    {
      "cell_type": "markdown",
      "metadata": {
        "id": "MwLFX4TksvG0"
      },
      "source": [
        "### Exercise 2\n",
        "\n",
        "There is a fourth value seen above, other than `0/0`, `0/1`, `1/1`. What is it?"
      ]
    },
    {
      "cell_type": "markdown",
      "metadata": {
        "id": "KO7r2-kRsvG0"
      },
      "source": [
        "### `summarize`\n",
        "`summarize` Prints (potentially) useful information about any field or object:"
      ]
    },
    {
      "cell_type": "markdown",
      "metadata": {
        "id": "ifgZT7-BsvG0"
      },
      "source": [
        "`DP` is the read depth (number of short reads spanning a position for a given sample). Let's summarize all values of DP:"
      ]
    },
    {
      "cell_type": "code",
      "execution_count": null,
      "metadata": {
        "ExecuteTime": {
          "end_time": "2021-06-16T01:03:25.537680Z",
          "start_time": "2021-06-16T01:03:24.790327Z"
        },
        "id": "4ebqi83dsvG0",
        "outputId": "9e89f752-edbe-459f-af72-2377dcd767ae"
      },
      "outputs": [
        {
          "data": {
            "text/html": [
              "<p>4092872 records.</p><b>DP</b> (<i>int32</i>):<ul><table><tbody><tr><td>Non-missing</td><td>3851673 (94.11%)</td></tr><tr><td>Missing</td><td>241199 (5.89%)</td></tr><tr><td>Minimum</td><td>0</td></tr><tr><td>Maximum</td><td>5057</td></tr><tr><td>Mean</td><td>33.02</td></tr><tr><td>Std Dev</td><td>30.20</td></tr></tbody></table></ul>"
            ],
            "text/plain": [
              "\n",
              "4092872 records.\n",
              "\n",
              "- DP (int32):\n",
              "  Non-missing: 3851673 (94.11%)\n",
              "      Missing: 241199 (5.89%)\n",
              "      Minimum: 0\n",
              "      Maximum: 5057\n",
              "         Mean: 33.02\n",
              "      Std Dev: 30.20"
            ]
          },
          "metadata": {},
          "output_type": "display_data"
        }
      ],
      "source": [
        "mt.DP.summarize()"
      ]
    },
    {
      "cell_type": "markdown",
      "metadata": {
        "id": "_6YNIs3isvG0"
      },
      "source": [
        "`AD` is the array of allelic depth per allele at a called genotype. Note especially the missingness properties:"
      ]
    },
    {
      "cell_type": "code",
      "execution_count": null,
      "metadata": {
        "ExecuteTime": {
          "end_time": "2021-06-16T01:03:32.473835Z",
          "start_time": "2021-06-16T01:03:31.705798Z"
        },
        "id": "f3UTuCH6svG0",
        "outputId": "bac768ac-b798-4619-9c8d-27f4709a6fc7"
      },
      "outputs": [
        {
          "name": "stderr",
          "output_type": "stream",
          "text": [
            "[Stage 9:=============================>                             (2 + 2) / 4]\r"
          ]
        },
        {
          "data": {
            "text/html": [
              "<p>4092872 records.</p><b>AD</b> (<i>array&lt;int32&gt;</i>):<ul><table><tbody><tr><td>Non-missing</td><td>1164892 (28.46%)</td></tr><tr><td>Missing</td><td>2927980 (71.54%)</td></tr><tr><td>Min Size</td><td>2</td></tr><tr><td>Max Size</td><td>2</td></tr><tr><td>Mean Size</td><td>2.00</td></tr></tbody></table><li><b>AD[&lt;elements&gt;]</b> (<i>int32</i>):<ul><table><tbody><tr><td>Non-missing</td><td>2329784 (100.00%)</td></tr><tr><td>Missing</td><td>0</td></tr><tr><td>Minimum</td><td>0</td></tr><tr><td>Maximum</td><td>1299</td></tr><tr><td>Mean</td><td>17.09</td></tr><tr><td>Std Dev</td><td>15.13</td></tr></tbody></table></ul></li></ul>"
            ],
            "text/plain": [
              "\n",
              "4092872 records.\n",
              "\n",
              "- AD (array<int32>):\n",
              "  Non-missing: 1164892 (28.46%)\n",
              "      Missing: 2927980 (71.54%)\n",
              "     Min Size: 2\n",
              "     Max Size: 2\n",
              "    Mean Size: 2.00\n",
              "\n",
              "  - AD[<elements>] (int32):\n",
              "    Non-missing: 2329784 (100.00%)\n",
              "        Missing: 0\n",
              "        Minimum: 0\n",
              "        Maximum: 1299\n",
              "           Mean: 17.09\n",
              "        Std Dev: 15.13"
            ]
          },
          "metadata": {},
          "output_type": "display_data"
        }
      ],
      "source": [
        "mt.AD.summarize()"
      ]
    },
    {
      "cell_type": "markdown",
      "metadata": {
        "id": "-5Hf_JxMsvG1"
      },
      "source": [
        "### Exercise 3\n",
        "\n",
        "In the empty cell below, summarize some of the other fields on the matrix table. You can use the interactive widget above to find the names of some of the other fields.\n"
      ]
    },
    {
      "cell_type": "code",
      "execution_count": null,
      "metadata": {
        "id": "CBVhHm71svG1"
      },
      "outputs": [],
      "source": []
    },
    {
      "cell_type": "markdown",
      "metadata": {
        "id": "4-z9PgoSsvG1"
      },
      "source": [
        "### `count`\n",
        "\n",
        "`MatrixTable.count` returns a tuple with the number of rows (variants) and number of columns (samples)."
      ]
    },
    {
      "cell_type": "code",
      "execution_count": null,
      "metadata": {
        "ExecuteTime": {
          "end_time": "2021-06-16T01:03:52.322494Z",
          "start_time": "2021-06-16T01:03:52.286311Z"
        },
        "id": "6WYhwPEQsvG1",
        "outputId": "d52b0f01-1f32-4070-ec3d-a0d17db0bfa7"
      },
      "outputs": [
        {
          "data": {
            "text/plain": [
              "(10441, 392)"
            ]
          },
          "execution_count": 14,
          "metadata": {},
          "output_type": "execute_result"
        }
      ],
      "source": [
        "mt.count()"
      ]
    },
    {
      "cell_type": "markdown",
      "metadata": {
        "id": "Qz6eIzZ5svG1"
      },
      "source": [
        "The count above tells us that we have 10,441 variants and 392 samples. This is just a tiny slice of a real sequencing dataset. The largest sequencing datasets today comprise hundreds of thousands of samples and more than a billion variants."
      ]
    },
    {
      "cell_type": "markdown",
      "metadata": {
        "id": "bnSGDoURsvG1"
      },
      "source": [
        "## Hail has a large library of genetics functionality\n",
        "\n",
        "Hail can be used to analyze any kind of data (Hail team members have used Hail to analyze household financial data, USA election polling data, and even to build a bot that posts real-time updates about the Euro 2020 tournament to Slack). However, Hail does not have *only* general-purpose analysis functionality. Hail has a large set of functionality built for genetics and genomics.\n",
        "\n",
        "For example, `hl.summarize_variants` prints useful statistics about the variants in the dataset. These are not part of the generic `summarize()` function, which must support all kinds of data, not just variant data!"
      ]
    },
    {
      "cell_type": "code",
      "execution_count": null,
      "metadata": {
        "ExecuteTime": {
          "end_time": "2021-06-16T01:11:30.328467Z",
          "start_time": "2021-06-16T01:11:27.813580Z"
        },
        "id": "k7ODa-itsvG1",
        "outputId": "d2898a82-93fa-471d-c854-a44e3c914f42"
      },
      "outputs": [
        {
          "data": {
            "text/html": [
              "<p><b>Variant summary:</b></p><ul><li><p>Total variants: 10441</p></li><li><p>Alleles per variant:</p><table><thead style=\"font-weight: bold;\"><tr><th>Number of alleles</th><th>Count</th></tr></thead><tbody><tr><td>2</td><td>10441</td></tr></tbody></table></li><li><p>Counts by allele type:</p><table><thead style=\"font-weight: bold;\"><tr><th>Allele type</th><th>Count</th></tr></thead><tbody><tr><td>SNP</td><td>10441</td></tr></tbody></table></li><li><p>Transitions/Transversions:</p><table><thead style=\"font-weight: bold;\"><tr><th>Metric</th><th>Value</th></tr></thead><tbody><tr><td>Transitions</td><td>6602</td></tr><tr><td>Transversions</td><td>3839</td></tr><tr><td>Ratio</td><td>1.72</td></tr></tbody></table></li><li><p>Variants per contig:</p><table><thead style=\"font-weight: bold;\"><tr><th>Contig</th><th>Count</th></tr></thead><tbody><tr><td>chr1</td><td>881</td></tr><tr><td>chr2</td><td>799</td></tr><tr><td>chr3</td><td>728</td></tr><tr><td>chr4</td><td>659</td></tr><tr><td>chr5</td><td>618</td></tr><tr><td>chr6</td><td>572</td></tr><tr><td>chr7</td><td>576</td></tr><tr><td>chr8</td><td>525</td></tr><tr><td>chr9</td><td>476</td></tr><tr><td>chr10</td><td>516</td></tr><tr><td>chr11</td><td>483</td></tr><tr><td>chr12</td><td>411</td></tr><tr><td>chr13</td><td>397</td></tr><tr><td>chr14</td><td>332</td></tr><tr><td>chr15</td><td>316</td></tr><tr><td>chr16</td><td>319</td></tr><tr><td>chr17</td><td>312</td></tr><tr><td>chr18</td><td>270</td></tr><tr><td>chr19</td><td>252</td></tr><tr><td>chr20</td><td>263</td></tr><tr><td>chr21</td><td>194</td></tr><tr><td>chr22</td><td>170</td></tr><tr><td>chrX</td><td>361</td></tr><tr><td>chrY</td><td>11</td></tr></tbody></table></li></ul>"
            ],
            "text/plain": [
              "==============================\n",
              "Number of variants: 10441\n",
              "==============================\n",
              "Alleles per variant\n",
              "-------------------\n",
              "  2 alleles: 10441 variants\n",
              "==============================\n",
              "Variants per contig\n",
              "-------------------\n",
              "   chr1: 881 variants\n",
              "   chr2: 799 variants\n",
              "   chr3: 728 variants\n",
              "   chr4: 659 variants\n",
              "   chr5: 618 variants\n",
              "   chr6: 572 variants\n",
              "   chr7: 576 variants\n",
              "   chr8: 525 variants\n",
              "   chr9: 476 variants\n",
              "  chr10: 516 variants\n",
              "  chr11: 483 variants\n",
              "  chr12: 411 variants\n",
              "  chr13: 397 variants\n",
              "  chr14: 332 variants\n",
              "  chr15: 316 variants\n",
              "  chr16: 319 variants\n",
              "  chr17: 312 variants\n",
              "  chr18: 270 variants\n",
              "  chr19: 252 variants\n",
              "  chr20: 263 variants\n",
              "  chr21: 194 variants\n",
              "  chr22: 170 variants\n",
              "   chrX: 361 variants\n",
              "   chrY: 11 variants\n",
              "==============================\n",
              "Allele type distribution\n",
              "------------------------\n",
              "  SNP: 10441 alternate alleles (Ti: 6602, Tv: 3839, ratio: 1.72)\n",
              "=============================="
            ]
          },
          "metadata": {},
          "output_type": "display_data"
        }
      ],
      "source": [
        "hl.summarize_variants(mt)"
      ]
    },
    {
      "cell_type": "markdown",
      "metadata": {
        "id": "xeLPHCd6svG2"
      },
      "source": [
        "# 4. Annotation and quality control"
      ]
    },
    {
      "cell_type": "markdown",
      "metadata": {
        "id": "S7lsxPcAsvG2"
      },
      "source": [
        "## Integrate sample information\n",
        "\n",
        "Our dataset currently only has sample IDs and genetic data. In order to run a toy GWAS, we need phenotype information.\n",
        "\n",
        "We can find it in the following file:"
      ]
    },
    {
      "cell_type": "code",
      "execution_count": null,
      "metadata": {
        "ExecuteTime": {
          "end_time": "2021-06-16T01:22:48.116268Z",
          "start_time": "2021-06-16T01:22:47.945999Z"
        },
        "id": "52VPDQzPsvG2",
        "outputId": "002727b9-37f9-4256-8e0d-d9c05f9c36d1"
      },
      "outputs": [
        {
          "name": "stdout",
          "output_type": "stream",
          "text": [
            "sample_id\tpop\tcontinental_pop\tsex_karyotype\tsleep_duration\ttea_intake_daily\tgeneral_happiness\tscreen_time_per_day\n",
            "HG00107\tgbr\tnfe\tXY\t6\t3\t3.2895e+00\t11\n",
            "HG00114\tgbr\tnfe\tXY\t5\t3\t3.5099e+00\t10\n",
            "HG00121\tgbr\tnfe\tXX\t6\t6\t2.0851e+00\t6\n",
            "HG00127\tgbr\tnfe\tXX\t6\t3\t2.7580e+00\t6\n",
            "HG00132\tgbr\tnfe\tXX\t5\t6\t2.2454e+00\t5\n",
            "HG00149\tgbr\tnfe\tXY\t5\t6\t2.8159e+00\t9\n",
            "HG00177\tfin\tfin\tXX\t7\t9\t3.3661e+00\t8\n",
            "HG00190\tfin\tfin\tXY\t5\t6\t2.9159e+00\t6\n",
            "HG00233\tgbr\tnfe\tXX\t8\t3\t3.9002e+00\t10\n"
          ]
        }
      ],
      "source": [
        "! head resources/HGDP_sample_data.tsv"
      ]
    },
    {
      "cell_type": "markdown",
      "metadata": {
        "id": "oQxvKhaasvG2"
      },
      "source": [
        "We can import it as a [Hail Table](https://hail.is/docs/0.2/overview/table.html) with [hl.import_table](https://hail.is/docs/0.2/methods/impex.html?highlight=import_table#hail.methods.import_table).\n",
        "\n",
        "We call it `sd` for \"sample data\"."
      ]
    },
    {
      "cell_type": "code",
      "execution_count": null,
      "metadata": {
        "ExecuteTime": {
          "end_time": "2021-06-16T01:22:53.640423Z",
          "start_time": "2021-06-16T01:22:53.344048Z"
        },
        "id": "hJv5DLaUsvG2"
      },
      "outputs": [],
      "source": [
        "sd = hl.import_table('resources/HGDP_sample_data.tsv',\n",
        "                     key='sample_id',\n",
        "                     impute=True)"
      ]
    },
    {
      "cell_type": "markdown",
      "metadata": {
        "id": "8QjrJoo8svG2"
      },
      "source": [
        "The \"key\" argument tells Hail to use the `sample_id` field as the table key, which is used to find matching values in  joins. In a moment, we will be joining the `sd` table onto our matrix table so that we can use the sample data fields in our QC and analysis. It is also possible to specify a new key for an existing table using the `.key_by(...)` method.\n",
        "\n",
        "The \"impute\" argument tells Hail to impute the data types of the fields on the table. What does this mean? It means that you can ask Hail to figure out what is the data type in each column field such as `str` (string or just characters), `bool` (boolean or just true and false), `float64` (float or numbers with decimals), or `int32` (integer or numbers without decimals/whole numbers). If you don't use the `impute` flag or specify types manually with the `types` argument, each field will be imported as a string."
      ]
    },
    {
      "cell_type": "markdown",
      "metadata": {
        "id": "rIgSis_OsvG2"
      },
      "source": [
        "While we can see the names and types of fields in the logging messages and in the `head` output above, we can also `show` this table:"
      ]
    },
    {
      "cell_type": "code",
      "execution_count": null,
      "metadata": {
        "ExecuteTime": {
          "end_time": "2021-06-16T01:23:16.711218Z",
          "start_time": "2021-06-16T01:23:16.113034Z"
        },
        "id": "n8Uhx6UwsvG2",
        "outputId": "d078f0c0-8870-44a3-9703-53f7745e2873"
      },
      "outputs": [
        {
          "data": {
            "text/html": [
              "<table><thead><tr><td style=\"white-space: nowrap; max-width: 500px; overflow: hidden; text-overflow: ellipsis; \" colspan=\"1\"><div style=\"text-align: left;\"></div></td><td style=\"white-space: nowrap; max-width: 500px; overflow: hidden; text-overflow: ellipsis; \" colspan=\"1\"><div style=\"text-align: left;\"></div></td><td style=\"white-space: nowrap; max-width: 500px; overflow: hidden; text-overflow: ellipsis; \" colspan=\"1\"><div style=\"text-align: left;\"></div></td><td style=\"white-space: nowrap; max-width: 500px; overflow: hidden; text-overflow: ellipsis; \" colspan=\"1\"><div style=\"text-align: left;\"></div></td><td style=\"white-space: nowrap; max-width: 500px; overflow: hidden; text-overflow: ellipsis; \" colspan=\"1\"><div style=\"text-align: left;\"></div></td><td style=\"white-space: nowrap; max-width: 500px; overflow: hidden; text-overflow: ellipsis; \" colspan=\"1\"><div style=\"text-align: left;\"></div></td><td style=\"white-space: nowrap; max-width: 500px; overflow: hidden; text-overflow: ellipsis; \" colspan=\"1\"><div style=\"text-align: left;\"></div></td><td style=\"white-space: nowrap; max-width: 500px; overflow: hidden; text-overflow: ellipsis; \" colspan=\"1\"><div style=\"text-align: left;\"></div></td></tr><tr><td style=\"white-space: nowrap; max-width: 500px; overflow: hidden; text-overflow: ellipsis; \" colspan=\"1\"><div style=\"text-align: left;border-bottom: solid 2px #000; padding-bottom: 5px\">sample_id</div></td><td style=\"white-space: nowrap; max-width: 500px; overflow: hidden; text-overflow: ellipsis; \" colspan=\"1\"><div style=\"text-align: left;border-bottom: solid 2px #000; padding-bottom: 5px\">pop</div></td><td style=\"white-space: nowrap; max-width: 500px; overflow: hidden; text-overflow: ellipsis; \" colspan=\"1\"><div style=\"text-align: left;border-bottom: solid 2px #000; padding-bottom: 5px\">continental_pop</div></td><td style=\"white-space: nowrap; max-width: 500px; overflow: hidden; text-overflow: ellipsis; \" colspan=\"1\"><div style=\"text-align: left;border-bottom: solid 2px #000; padding-bottom: 5px\">sex_karyotype</div></td><td style=\"white-space: nowrap; max-width: 500px; overflow: hidden; text-overflow: ellipsis; \" colspan=\"1\"><div style=\"text-align: left;border-bottom: solid 2px #000; padding-bottom: 5px\">sleep_duration</div></td><td style=\"white-space: nowrap; max-width: 500px; overflow: hidden; text-overflow: ellipsis; \" colspan=\"1\"><div style=\"text-align: left;border-bottom: solid 2px #000; padding-bottom: 5px\">tea_intake_daily</div></td><td style=\"white-space: nowrap; max-width: 500px; overflow: hidden; text-overflow: ellipsis; \" colspan=\"1\"><div style=\"text-align: left;border-bottom: solid 2px #000; padding-bottom: 5px\">general_happiness</div></td><td style=\"white-space: nowrap; max-width: 500px; overflow: hidden; text-overflow: ellipsis; \" colspan=\"1\"><div style=\"text-align: left;border-bottom: solid 2px #000; padding-bottom: 5px\">screen_time_per_day</div></td></tr><tr><td style=\"white-space: nowrap; max-width: 500px; overflow: hidden; text-overflow: ellipsis; text-align: left;\">str</td><td style=\"white-space: nowrap; max-width: 500px; overflow: hidden; text-overflow: ellipsis; text-align: left;\">str</td><td style=\"white-space: nowrap; max-width: 500px; overflow: hidden; text-overflow: ellipsis; text-align: left;\">str</td><td style=\"white-space: nowrap; max-width: 500px; overflow: hidden; text-overflow: ellipsis; text-align: left;\">str</td><td style=\"white-space: nowrap; max-width: 500px; overflow: hidden; text-overflow: ellipsis; text-align: left;\">int32</td><td style=\"white-space: nowrap; max-width: 500px; overflow: hidden; text-overflow: ellipsis; text-align: left;\">int32</td><td style=\"white-space: nowrap; max-width: 500px; overflow: hidden; text-overflow: ellipsis; text-align: left;\">float64</td><td style=\"white-space: nowrap; max-width: 500px; overflow: hidden; text-overflow: ellipsis; text-align: left;\">int32</td></tr>\n",
              "</thead><tbody><tr><td style=\"white-space: nowrap; max-width: 500px; overflow: hidden; text-overflow: ellipsis; \">&quot;HG00107&quot;</td><td style=\"white-space: nowrap; max-width: 500px; overflow: hidden; text-overflow: ellipsis; \">&quot;gbr&quot;</td><td style=\"white-space: nowrap; max-width: 500px; overflow: hidden; text-overflow: ellipsis; \">&quot;nfe&quot;</td><td style=\"white-space: nowrap; max-width: 500px; overflow: hidden; text-overflow: ellipsis; \">&quot;XY&quot;</td><td style=\"white-space: nowrap; max-width: 500px; overflow: hidden; text-overflow: ellipsis; \">6</td><td style=\"white-space: nowrap; max-width: 500px; overflow: hidden; text-overflow: ellipsis; \">3</td><td style=\"white-space: nowrap; max-width: 500px; overflow: hidden; text-overflow: ellipsis; \">3.29e+00</td><td style=\"white-space: nowrap; max-width: 500px; overflow: hidden; text-overflow: ellipsis; \">11</td></tr>\n",
              "<tr><td style=\"white-space: nowrap; max-width: 500px; overflow: hidden; text-overflow: ellipsis; \">&quot;HG00114&quot;</td><td style=\"white-space: nowrap; max-width: 500px; overflow: hidden; text-overflow: ellipsis; \">&quot;gbr&quot;</td><td style=\"white-space: nowrap; max-width: 500px; overflow: hidden; text-overflow: ellipsis; \">&quot;nfe&quot;</td><td style=\"white-space: nowrap; max-width: 500px; overflow: hidden; text-overflow: ellipsis; \">&quot;XY&quot;</td><td style=\"white-space: nowrap; max-width: 500px; overflow: hidden; text-overflow: ellipsis; \">5</td><td style=\"white-space: nowrap; max-width: 500px; overflow: hidden; text-overflow: ellipsis; \">3</td><td style=\"white-space: nowrap; max-width: 500px; overflow: hidden; text-overflow: ellipsis; \">3.51e+00</td><td style=\"white-space: nowrap; max-width: 500px; overflow: hidden; text-overflow: ellipsis; \">10</td></tr>\n",
              "<tr><td style=\"white-space: nowrap; max-width: 500px; overflow: hidden; text-overflow: ellipsis; \">&quot;HG00121&quot;</td><td style=\"white-space: nowrap; max-width: 500px; overflow: hidden; text-overflow: ellipsis; \">&quot;gbr&quot;</td><td style=\"white-space: nowrap; max-width: 500px; overflow: hidden; text-overflow: ellipsis; \">&quot;nfe&quot;</td><td style=\"white-space: nowrap; max-width: 500px; overflow: hidden; text-overflow: ellipsis; \">&quot;XX&quot;</td><td style=\"white-space: nowrap; max-width: 500px; overflow: hidden; text-overflow: ellipsis; \">6</td><td style=\"white-space: nowrap; max-width: 500px; overflow: hidden; text-overflow: ellipsis; \">6</td><td style=\"white-space: nowrap; max-width: 500px; overflow: hidden; text-overflow: ellipsis; \">2.09e+00</td><td style=\"white-space: nowrap; max-width: 500px; overflow: hidden; text-overflow: ellipsis; \">6</td></tr>\n",
              "<tr><td style=\"white-space: nowrap; max-width: 500px; overflow: hidden; text-overflow: ellipsis; \">&quot;HG00127&quot;</td><td style=\"white-space: nowrap; max-width: 500px; overflow: hidden; text-overflow: ellipsis; \">&quot;gbr&quot;</td><td style=\"white-space: nowrap; max-width: 500px; overflow: hidden; text-overflow: ellipsis; \">&quot;nfe&quot;</td><td style=\"white-space: nowrap; max-width: 500px; overflow: hidden; text-overflow: ellipsis; \">&quot;XX&quot;</td><td style=\"white-space: nowrap; max-width: 500px; overflow: hidden; text-overflow: ellipsis; \">6</td><td style=\"white-space: nowrap; max-width: 500px; overflow: hidden; text-overflow: ellipsis; \">3</td><td style=\"white-space: nowrap; max-width: 500px; overflow: hidden; text-overflow: ellipsis; \">2.76e+00</td><td style=\"white-space: nowrap; max-width: 500px; overflow: hidden; text-overflow: ellipsis; \">6</td></tr>\n",
              "<tr><td style=\"white-space: nowrap; max-width: 500px; overflow: hidden; text-overflow: ellipsis; \">&quot;HG00132&quot;</td><td style=\"white-space: nowrap; max-width: 500px; overflow: hidden; text-overflow: ellipsis; \">&quot;gbr&quot;</td><td style=\"white-space: nowrap; max-width: 500px; overflow: hidden; text-overflow: ellipsis; \">&quot;nfe&quot;</td><td style=\"white-space: nowrap; max-width: 500px; overflow: hidden; text-overflow: ellipsis; \">&quot;XX&quot;</td><td style=\"white-space: nowrap; max-width: 500px; overflow: hidden; text-overflow: ellipsis; \">5</td><td style=\"white-space: nowrap; max-width: 500px; overflow: hidden; text-overflow: ellipsis; \">6</td><td style=\"white-space: nowrap; max-width: 500px; overflow: hidden; text-overflow: ellipsis; \">2.25e+00</td><td style=\"white-space: nowrap; max-width: 500px; overflow: hidden; text-overflow: ellipsis; \">5</td></tr>\n",
              "<tr><td style=\"white-space: nowrap; max-width: 500px; overflow: hidden; text-overflow: ellipsis; \">&quot;HG00149&quot;</td><td style=\"white-space: nowrap; max-width: 500px; overflow: hidden; text-overflow: ellipsis; \">&quot;gbr&quot;</td><td style=\"white-space: nowrap; max-width: 500px; overflow: hidden; text-overflow: ellipsis; \">&quot;nfe&quot;</td><td style=\"white-space: nowrap; max-width: 500px; overflow: hidden; text-overflow: ellipsis; \">&quot;XY&quot;</td><td style=\"white-space: nowrap; max-width: 500px; overflow: hidden; text-overflow: ellipsis; \">5</td><td style=\"white-space: nowrap; max-width: 500px; overflow: hidden; text-overflow: ellipsis; \">6</td><td style=\"white-space: nowrap; max-width: 500px; overflow: hidden; text-overflow: ellipsis; \">2.82e+00</td><td style=\"white-space: nowrap; max-width: 500px; overflow: hidden; text-overflow: ellipsis; \">9</td></tr>\n",
              "<tr><td style=\"white-space: nowrap; max-width: 500px; overflow: hidden; text-overflow: ellipsis; \">&quot;HG00177&quot;</td><td style=\"white-space: nowrap; max-width: 500px; overflow: hidden; text-overflow: ellipsis; \">&quot;fin&quot;</td><td style=\"white-space: nowrap; max-width: 500px; overflow: hidden; text-overflow: ellipsis; \">&quot;fin&quot;</td><td style=\"white-space: nowrap; max-width: 500px; overflow: hidden; text-overflow: ellipsis; \">&quot;XX&quot;</td><td style=\"white-space: nowrap; max-width: 500px; overflow: hidden; text-overflow: ellipsis; \">7</td><td style=\"white-space: nowrap; max-width: 500px; overflow: hidden; text-overflow: ellipsis; \">9</td><td style=\"white-space: nowrap; max-width: 500px; overflow: hidden; text-overflow: ellipsis; \">3.37e+00</td><td style=\"white-space: nowrap; max-width: 500px; overflow: hidden; text-overflow: ellipsis; \">8</td></tr>\n",
              "<tr><td style=\"white-space: nowrap; max-width: 500px; overflow: hidden; text-overflow: ellipsis; \">&quot;HG00190&quot;</td><td style=\"white-space: nowrap; max-width: 500px; overflow: hidden; text-overflow: ellipsis; \">&quot;fin&quot;</td><td style=\"white-space: nowrap; max-width: 500px; overflow: hidden; text-overflow: ellipsis; \">&quot;fin&quot;</td><td style=\"white-space: nowrap; max-width: 500px; overflow: hidden; text-overflow: ellipsis; \">&quot;XY&quot;</td><td style=\"white-space: nowrap; max-width: 500px; overflow: hidden; text-overflow: ellipsis; \">5</td><td style=\"white-space: nowrap; max-width: 500px; overflow: hidden; text-overflow: ellipsis; \">6</td><td style=\"white-space: nowrap; max-width: 500px; overflow: hidden; text-overflow: ellipsis; \">2.92e+00</td><td style=\"white-space: nowrap; max-width: 500px; overflow: hidden; text-overflow: ellipsis; \">6</td></tr>\n",
              "<tr><td style=\"white-space: nowrap; max-width: 500px; overflow: hidden; text-overflow: ellipsis; \">&quot;HG00233&quot;</td><td style=\"white-space: nowrap; max-width: 500px; overflow: hidden; text-overflow: ellipsis; \">&quot;gbr&quot;</td><td style=\"white-space: nowrap; max-width: 500px; overflow: hidden; text-overflow: ellipsis; \">&quot;nfe&quot;</td><td style=\"white-space: nowrap; max-width: 500px; overflow: hidden; text-overflow: ellipsis; \">&quot;XX&quot;</td><td style=\"white-space: nowrap; max-width: 500px; overflow: hidden; text-overflow: ellipsis; \">8</td><td style=\"white-space: nowrap; max-width: 500px; overflow: hidden; text-overflow: ellipsis; \">3</td><td style=\"white-space: nowrap; max-width: 500px; overflow: hidden; text-overflow: ellipsis; \">3.90e+00</td><td style=\"white-space: nowrap; max-width: 500px; overflow: hidden; text-overflow: ellipsis; \">10</td></tr>\n",
              "<tr><td style=\"white-space: nowrap; max-width: 500px; overflow: hidden; text-overflow: ellipsis; \">&quot;HG00252&quot;</td><td style=\"white-space: nowrap; max-width: 500px; overflow: hidden; text-overflow: ellipsis; \">&quot;gbr&quot;</td><td style=\"white-space: nowrap; max-width: 500px; overflow: hidden; text-overflow: ellipsis; \">&quot;nfe&quot;</td><td style=\"white-space: nowrap; max-width: 500px; overflow: hidden; text-overflow: ellipsis; \">&quot;XY&quot;</td><td style=\"white-space: nowrap; max-width: 500px; overflow: hidden; text-overflow: ellipsis; \">5</td><td style=\"white-space: nowrap; max-width: 500px; overflow: hidden; text-overflow: ellipsis; \">0</td><td style=\"white-space: nowrap; max-width: 500px; overflow: hidden; text-overflow: ellipsis; \">3.27e+00</td><td style=\"white-space: nowrap; max-width: 500px; overflow: hidden; text-overflow: ellipsis; \">10</td></tr>\n",
              "</tbody></table><p style=\"background: #fdd; padding: 0.4em;\">showing top 10 rows</p>\n"
            ],
            "text/plain": [
              "+-----------+-------+-----------------+---------------+----------------+\n",
              "| sample_id | pop   | continental_pop | sex_karyotype | sleep_duration |\n",
              "+-----------+-------+-----------------+---------------+----------------+\n",
              "| str       | str   | str             | str           |          int32 |\n",
              "+-----------+-------+-----------------+---------------+----------------+\n",
              "| \"HG00107\" | \"gbr\" | \"nfe\"           | \"XY\"          |              6 |\n",
              "| \"HG00114\" | \"gbr\" | \"nfe\"           | \"XY\"          |              5 |\n",
              "| \"HG00121\" | \"gbr\" | \"nfe\"           | \"XX\"          |              6 |\n",
              "| \"HG00127\" | \"gbr\" | \"nfe\"           | \"XX\"          |              6 |\n",
              "| \"HG00132\" | \"gbr\" | \"nfe\"           | \"XX\"          |              5 |\n",
              "| \"HG00149\" | \"gbr\" | \"nfe\"           | \"XY\"          |              5 |\n",
              "| \"HG00177\" | \"fin\" | \"fin\"           | \"XX\"          |              7 |\n",
              "| \"HG00190\" | \"fin\" | \"fin\"           | \"XY\"          |              5 |\n",
              "| \"HG00233\" | \"gbr\" | \"nfe\"           | \"XX\"          |              8 |\n",
              "| \"HG00252\" | \"gbr\" | \"nfe\"           | \"XY\"          |              5 |\n",
              "+-----------+-------+-----------------+---------------+----------------+\n",
              "\n",
              "+------------------+-------------------+---------------------+\n",
              "| tea_intake_daily | general_happiness | screen_time_per_day |\n",
              "+------------------+-------------------+---------------------+\n",
              "|            int32 |           float64 |               int32 |\n",
              "+------------------+-------------------+---------------------+\n",
              "|                3 |          3.29e+00 |                  11 |\n",
              "|                3 |          3.51e+00 |                  10 |\n",
              "|                6 |          2.09e+00 |                   6 |\n",
              "|                3 |          2.76e+00 |                   6 |\n",
              "|                6 |          2.25e+00 |                   5 |\n",
              "|                6 |          2.82e+00 |                   9 |\n",
              "|                9 |          3.37e+00 |                   8 |\n",
              "|                6 |          2.92e+00 |                   6 |\n",
              "|                3 |          3.90e+00 |                  10 |\n",
              "|                0 |          3.27e+00 |                  10 |\n",
              "+------------------+-------------------+---------------------+\n",
              "showing top 10 rows"
            ]
          },
          "metadata": {},
          "output_type": "display_data"
        }
      ],
      "source": [
        "sd.show()"
      ]
    },
    {
      "cell_type": "markdown",
      "metadata": {
        "id": "CR6qtOiHsvG3"
      },
      "source": [
        "And we can `summarize` each field in `sd`:"
      ]
    },
    {
      "cell_type": "code",
      "execution_count": null,
      "metadata": {
        "ExecuteTime": {
          "end_time": "2021-06-16T01:23:23.819124Z",
          "start_time": "2021-06-16T01:23:22.675895Z"
        },
        "id": "WyV85GnIsvG3",
        "outputId": "04e2c4f6-b9a8-46ad-b544-a4f79eeeba7c"
      },
      "outputs": [
        {
          "data": {
            "text/html": [
              "<p>392 records.</p><ul><li><b>sample_id</b> (<i>str</i>):<ul><table><tbody><tr><td>Non-missing</td><td>392 (100.00%)</td></tr><tr><td>Missing</td><td>0</td></tr><tr><td>Min Size</td><td>7</td></tr><tr><td>Max Size</td><td>17</td></tr><tr><td>Mean Size</td><td>7.92</td></tr><tr><td>Sample Values</td><td>[&#x27;HG00107&#x27;, &#x27;HG00114&#x27;, &#x27;HG00121&#x27;, &#x27;HG00127&#x27;, &#x27;HG00132&#x27;]</td></tr></tbody></table></ul></li><li><b>pop</b> (<i>str</i>):<ul><table><tbody><tr><td>Non-missing</td><td>392 (100.00%)</td></tr><tr><td>Missing</td><td>0</td></tr><tr><td>Min Size</td><td>2</td></tr><tr><td>Max Size</td><td>11</td></tr><tr><td>Mean Size</td><td>3.84</td></tr><tr><td>Sample Values</td><td>[&#x27;gbr&#x27;, &#x27;gbr&#x27;, &#x27;gbr&#x27;, &#x27;gbr&#x27;, &#x27;gbr&#x27;]</td></tr></tbody></table></ul></li><li><b>continental_pop</b> (<i>str</i>):<ul><table><tbody><tr><td>Non-missing</td><td>392 (100.00%)</td></tr><tr><td>Missing</td><td>0</td></tr><tr><td>Min Size</td><td>3</td></tr><tr><td>Max Size</td><td>3</td></tr><tr><td>Mean Size</td><td>3.00</td></tr><tr><td>Sample Values</td><td>[&#x27;nfe&#x27;, &#x27;nfe&#x27;, &#x27;nfe&#x27;, &#x27;nfe&#x27;, &#x27;nfe&#x27;]</td></tr></tbody></table></ul></li><li><b>sex_karyotype</b> (<i>str</i>):<ul><table><tbody><tr><td>Non-missing</td><td>392 (100.00%)</td></tr><tr><td>Missing</td><td>0</td></tr><tr><td>Min Size</td><td>2</td></tr><tr><td>Max Size</td><td>2</td></tr><tr><td>Mean Size</td><td>2.00</td></tr><tr><td>Sample Values</td><td>[&#x27;XY&#x27;, &#x27;XY&#x27;, &#x27;XX&#x27;, &#x27;XX&#x27;, &#x27;XX&#x27;]</td></tr></tbody></table></ul></li><li><b>sleep_duration</b> (<i>int32</i>):<ul><table><tbody><tr><td>Non-missing</td><td>392 (100.00%)</td></tr><tr><td>Missing</td><td>0</td></tr><tr><td>Minimum</td><td>2</td></tr><tr><td>Maximum</td><td>10</td></tr><tr><td>Mean</td><td>6.03</td></tr><tr><td>Std Dev</td><td>1.44</td></tr></tbody></table></ul></li><li><b>tea_intake_daily</b> (<i>int32</i>):<ul><table><tbody><tr><td>Non-missing</td><td>392 (100.00%)</td></tr><tr><td>Missing</td><td>0</td></tr><tr><td>Minimum</td><td>0</td></tr><tr><td>Maximum</td><td>12</td></tr><tr><td>Mean</td><td>5.37</td></tr><tr><td>Std Dev</td><td>1.97</td></tr></tbody></table></ul></li><li><b>general_happiness</b> (<i>float64</i>):<ul><table><tbody><tr><td>Non-missing</td><td>392 (100.00%)</td></tr><tr><td>Missing</td><td>0</td></tr><tr><td>Minimum</td><td>1.81</td></tr><tr><td>Maximum</td><td>4.50</td></tr><tr><td>Mean</td><td>2.94</td></tr><tr><td>Std Dev</td><td>0.51</td></tr></tbody></table></ul></li><li><b>screen_time_per_day</b> (<i>int32</i>):<ul><table><tbody><tr><td>Non-missing</td><td>392 (100.00%)</td></tr><tr><td>Missing</td><td>0</td></tr><tr><td>Minimum</td><td>0</td></tr><tr><td>Maximum</td><td>13</td></tr><tr><td>Mean</td><td>6.57</td></tr><tr><td>Std Dev</td><td>2.50</td></tr></tbody></table></ul></li></ul>"
            ],
            "text/plain": [
              "\n",
              "392 records.\n",
              "\n",
              "  - sample_id (str):\n",
              "      Non-missing: 392 (100.00%)\n",
              "          Missing: 0\n",
              "         Min Size: 7\n",
              "         Max Size: 17\n",
              "        Mean Size: 7.92\n",
              "    Sample Values: ['HG00107', 'HG00114', 'HG00121', 'HG00127', 'HG00132']\n",
              "\n",
              "  - pop (str):\n",
              "      Non-missing: 392 (100.00%)\n",
              "          Missing: 0\n",
              "         Min Size: 2\n",
              "         Max Size: 11\n",
              "        Mean Size: 3.84\n",
              "    Sample Values: ['gbr', 'gbr', 'gbr', 'gbr', 'gbr']\n",
              "\n",
              "  - continental_pop (str):\n",
              "      Non-missing: 392 (100.00%)\n",
              "          Missing: 0\n",
              "         Min Size: 3\n",
              "         Max Size: 3\n",
              "        Mean Size: 3.00\n",
              "    Sample Values: ['nfe', 'nfe', 'nfe', 'nfe', 'nfe']\n",
              "\n",
              "  - sex_karyotype (str):\n",
              "      Non-missing: 392 (100.00%)\n",
              "          Missing: 0\n",
              "         Min Size: 2\n",
              "         Max Size: 2\n",
              "        Mean Size: 2.00\n",
              "    Sample Values: ['XY', 'XY', 'XX', 'XX', 'XX']\n",
              "\n",
              "  - sleep_duration (int32):\n",
              "    Non-missing: 392 (100.00%)\n",
              "        Missing: 0\n",
              "        Minimum: 2\n",
              "        Maximum: 10\n",
              "           Mean: 6.03\n",
              "        Std Dev: 1.44\n",
              "\n",
              "  - tea_intake_daily (int32):\n",
              "    Non-missing: 392 (100.00%)\n",
              "        Missing: 0\n",
              "        Minimum: 0\n",
              "        Maximum: 12\n",
              "           Mean: 5.37\n",
              "        Std Dev: 1.97\n",
              "\n",
              "  - general_happiness (float64):\n",
              "    Non-missing: 392 (100.00%)\n",
              "        Missing: 0\n",
              "        Minimum: 1.81\n",
              "        Maximum: 4.50\n",
              "           Mean: 2.94\n",
              "        Std Dev: 0.51\n",
              "\n",
              "  - screen_time_per_day (int32):\n",
              "    Non-missing: 392 (100.00%)\n",
              "        Missing: 0\n",
              "        Minimum: 0\n",
              "        Maximum: 13\n",
              "           Mean: 6.57\n",
              "        Std Dev: 2.50"
            ]
          },
          "metadata": {},
          "output_type": "display_data"
        }
      ],
      "source": [
        "sd.summarize()"
      ]
    },
    {
      "cell_type": "markdown",
      "metadata": {
        "id": "l2aNm--6svG3"
      },
      "source": [
        "## Add sample data to our HGDP `MatrixTable`\n",
        "\n",
        "Let's now merge our genetic data (`mt`) with our sample data (`sd`).\n",
        "\n",
        "This is a join between the `sd` table and the columns of our matrix table. It just takes one line:"
      ]
    },
    {
      "cell_type": "code",
      "execution_count": null,
      "metadata": {
        "ExecuteTime": {
          "end_time": "2021-06-16T01:27:41.949211Z",
          "start_time": "2021-06-16T01:27:41.933565Z"
        },
        "id": "Em9hLpWqsvG3"
      },
      "outputs": [],
      "source": [
        "mt = mt.annotate_cols(sample_data = sd[mt.s])"
      ]
    },
    {
      "cell_type": "markdown",
      "metadata": {
        "id": "kCIwMf3gsvG3"
      },
      "source": [
        "### What's going on here?\n",
        "\n",
        "Understanding what's going on here is a bit more difficult. To understand, we need to understand a few pieces:\n",
        "\n",
        "#### 1. `annotate` methods\n",
        "\n",
        "In Hail, `annotate` methods refer to **adding new fields**. \n",
        "\n",
        " - `MatrixTable`'s `annotate_cols` adds new column (**sample**) fields.\n",
        " - `MatrixTable`'s `annotate_rows` adds new row (**variant**) fields.\n",
        " - `MatrixTable`'s `annotate_entries` adds new entry (**genotype**) fields.\n",
        " - `Table`'s `annotate` adds new row fields.\n",
        "\n",
        "In the above cell, we are adding a new column (**sample**) field called \"sample_data\". This field should be the values in our table `sd` associated with the sample ID `s` in our `MatrixTable` - that is, this is performing a **join**.\n",
        "\n",
        "Python uses square brackets to look up values in dictionaries:\n",
        "\n",
        "    >>> d = {'foo': 5, 'bar': 10}\n",
        "    \n",
        "    >>> d['foo']\n",
        "    'bar'\n",
        "\n",
        "You should think of this in much the same way - for each column of `mt`, we are looking up the fields in `sd` using the sample ID `s`.\n",
        "\n",
        "Let's see how the matrix table has changed:"
      ]
    },
    {
      "cell_type": "code",
      "execution_count": null,
      "metadata": {
        "ExecuteTime": {
          "end_time": "2021-06-16T01:27:42.962564Z",
          "start_time": "2021-06-16T01:27:42.443875Z"
        },
        "id": "807oEGhBsvG4",
        "outputId": "47593d8e-fbb5-4bac-8e95-c887724190cc"
      },
      "outputs": [
        {
          "name": "stdout",
          "output_type": "stream",
          "text": [
            "----------------------------------------\n",
            "Global fields:\n",
            "    None\n",
            "----------------------------------------\n",
            "Column fields:\n",
            "    's': str\n",
            "    'sample_data': struct {\n",
            "        pop: str, \n",
            "        continental_pop: str, \n",
            "        sex_karyotype: str, \n",
            "        sleep_duration: int32, \n",
            "        tea_intake_daily: int32, \n",
            "        general_happiness: float64, \n",
            "        screen_time_per_day: int32\n",
            "    }\n",
            "----------------------------------------\n",
            "Row fields:\n",
            "    'locus': locus<GRCh38>\n",
            "    'alleles': array<str>\n",
            "    'rsid': str\n",
            "    'qual': float64\n",
            "    'filters': set<str>\n",
            "    'info': struct {\n",
            "        QUALapprox: int32, \n",
            "        SB: array<int32>, \n",
            "        MQ: float64, \n",
            "        MQRankSum: float64, \n",
            "        VarDP: int32, \n",
            "        AS_ReadPosRankSum: float64, \n",
            "        AS_pab_max: float64, \n",
            "        AS_QD: float64, \n",
            "        AS_MQ: float64, \n",
            "        QD: float64, \n",
            "        AS_MQRankSum: float64, \n",
            "        FS: float64, \n",
            "        AS_FS: float64, \n",
            "        ReadPosRankSum: float64, \n",
            "        AS_QUALapprox: int32, \n",
            "        AS_SB_TABLE: array<int32>, \n",
            "        AS_VarDP: int32, \n",
            "        AS_SOR: float64, \n",
            "        SOR: float64, \n",
            "        transmitted_singleton: bool, \n",
            "        omni: bool, \n",
            "        mills: bool, \n",
            "        monoallelic: bool, \n",
            "        AS_VQSLOD: float64, \n",
            "        InbreedingCoeff: float64\n",
            "    }\n",
            "----------------------------------------\n",
            "Entry fields:\n",
            "    'GT': call\n",
            "    'DP': int32\n",
            "    'GQ': int32\n",
            "    'AD': array<int32>\n",
            "    'PL': array<int32>\n",
            "----------------------------------------\n",
            "Column key: ['s']\n",
            "Row key: ['locus', 'alleles']\n",
            "----------------------------------------\n"
          ]
        }
      ],
      "source": [
        "mt.describe()"
      ]
    },
    {
      "cell_type": "markdown",
      "metadata": {
        "id": "V3AUs5Y0svG4"
      },
      "source": [
        "### Cheat sheets\n",
        "\n",
        "More information about matrix tables and tables can be found in a graphical representation as Hail cheat sheets:\n",
        "\n",
        " - [MatrixTable](https://hail.is/docs/0.2/_static/cheatsheets/hail_matrix_tables_cheat_sheet.pdf)\n",
        " - [Table](https://hail.is/docs/0.2/_static/cheatsheets/hail_tables_cheat_sheet.pdf)"
      ]
    },
    {
      "cell_type": "markdown",
      "metadata": {
        "id": "S7MWUK6OsvG4"
      },
      "source": [
        "# 5. Sample QC\n",
        "\n",
        "In past workshop sessions you have learned the important adage: _garbage in, garbage out_. Good QC takes time and thoughtfulness but is necessary for robust results. \n",
        "\n",
        "Here, we run through some simple sample qc steps, but **these steps are not a one-size-fits-all solution for QC on your own data!**\n",
        "\n",
        "Hail has the function [hl.sample_qc](https://hail.is/docs/0.2/methods/genetics.html#hail.methods.sample_qc) to compute a list of useful statistics about samples from sequencing data. This function adds a new column field, `sample_qc`, with the computed statistics. Note that this doesn't actually remove samples for you -- those decisions are up to you. The `sample_qc` method gives you some data you can use as a starting point.\n",
        "\n",
        "**Click the sample_qc link** above to see the documentation, which lists the computed fields and their descriptions."
      ]
    },
    {
      "cell_type": "code",
      "execution_count": null,
      "metadata": {
        "id": "-v3l699SsvG4"
      },
      "outputs": [],
      "source": [
        "mt = hl.sample_qc(mt)"
      ]
    },
    {
      "cell_type": "code",
      "execution_count": null,
      "metadata": {
        "colab": {
          "referenced_widgets": [
            "7a58b639d653401fbcd7199b87322f3e",
            "ee619b2a056c4da39ea62db964204fe9"
          ]
        },
        "id": "zVWyglkksvG4",
        "outputId": "8bb21197-e97a-466d-8729-49387b223a22"
      },
      "outputs": [
        {
          "data": {
            "application/vnd.jupyter.widget-view+json": {
              "model_id": "7a58b639d653401fbcd7199b87322f3e",
              "version_major": 2,
              "version_minor": 0
            },
            "text/plain": [
              "VBox(children=(HBox(children=(Button(description='globals', layout=Layout(height='30px', width='65px'), style=…"
            ]
          },
          "metadata": {},
          "output_type": "display_data"
        },
        {
          "data": {
            "application/vnd.jupyter.widget-view+json": {
              "model_id": "ee619b2a056c4da39ea62db964204fe9",
              "version_major": 2,
              "version_minor": 0
            },
            "text/plain": [
              "Tab(children=(VBox(children=(HTML(value='<p><big>Global fields, with one value in the dataset.</big></p>\\n<p>C…"
            ]
          },
          "metadata": {},
          "output_type": "display_data"
        }
      ],
      "source": [
        "mt.describe(widget=True)"
      ]
    },
    {
      "cell_type": "markdown",
      "metadata": {
        "id": "HLhwdkZvsvG4"
      },
      "source": [
        "Hail includes a plotting library built that makes it easy to visualize fields of Hail tables and matrix tables.\n",
        "\n",
        "Let's visualize the pairwise distribution of `Mean DP` (Read Depth) and `Call Rate`.\n",
        "\n",
        "Note that you can **hover over points with your mouse to see the sample IDs!**"
      ]
    },
    {
      "cell_type": "code",
      "execution_count": null,
      "metadata": {
        "id": "ItMEPo_9svG4",
        "outputId": "00ecad7a-03c8-4c44-952d-d39a88f1cc09"
      },
      "outputs": [
        {
          "data": {
            "text/html": [
              "<iframe\n",
              "    scrolling=\"no\"\n",
              "    width=\"100%\"\n",
              "    height=\"545px\"\n",
              "    src=\"iframe_figures/figure_24.html\"\n",
              "    frameborder=\"0\"\n",
              "    allowfullscreen\n",
              "></iframe>\n"
            ],
            "text/plain": [
              "<hail.ggplot.ggplot.GGPlot at 0x7fe36254e160>"
            ]
          },
          "execution_count": 24,
          "metadata": {},
          "output_type": "execute_result"
        }
      ],
      "source": [
        "(ggplot(mt, aes(x=mt.sample_qc.dp_stats.mean, y=mt.sample_qc.call_rate)) \n",
        " + geom_point(aes(color=mt.sample_data.sex_karyotype))\n",
        " + xlab(\"Mean DP\")\n",
        " + ylab(\"Call Rate\"))\n"
      ]
    },
    {
      "cell_type": "markdown",
      "metadata": {
        "id": "NqtWYoEusvG5"
      },
      "source": [
        "## Filter columns using generated QC statistics"
      ]
    },
    {
      "cell_type": "markdown",
      "metadata": {
        "id": "VZfwgy4qsvG5"
      },
      "source": [
        "Before filtering samples, we should compute a raw sample count:"
      ]
    },
    {
      "cell_type": "code",
      "execution_count": null,
      "metadata": {
        "id": "snathD3XsvG5",
        "outputId": "b4aee8bb-19df-4a87-d585-a505d3d43cc8"
      },
      "outputs": [
        {
          "data": {
            "text/plain": [
              "392"
            ]
          },
          "execution_count": 25,
          "metadata": {},
          "output_type": "execute_result"
        }
      ],
      "source": [
        "mt.count_cols()"
      ]
    },
    {
      "cell_type": "markdown",
      "metadata": {
        "id": "84FSNuZWsvG5"
      },
      "source": [
        "`filter_cols` removes entire columns from the matrix table. Here, we keep columns (samples) where the `call_rate` is over 92%:"
      ]
    },
    {
      "cell_type": "code",
      "execution_count": null,
      "metadata": {
        "id": "5nKAmB0tsvG5"
      },
      "outputs": [],
      "source": [
        "mt = mt.filter_cols(mt.sample_qc.call_rate >= 0.92)"
      ]
    },
    {
      "cell_type": "markdown",
      "metadata": {
        "id": "cvbuiaQ9svG5"
      },
      "source": [
        "We can compute a final sample count:"
      ]
    },
    {
      "cell_type": "code",
      "execution_count": null,
      "metadata": {
        "id": "RkbHFDJ7svG5",
        "outputId": "278d3d3a-46eb-4c9d-f738-e25fa9ed83f6"
      },
      "outputs": [
        {
          "data": {
            "text/plain": [
              "385"
            ]
          },
          "execution_count": 27,
          "metadata": {},
          "output_type": "execute_result"
        }
      ],
      "source": [
        "mt.count_cols()"
      ]
    },
    {
      "cell_type": "markdown",
      "metadata": {
        "id": "D1aGPYMjsvG5"
      },
      "source": [
        "How many samples did not meet your QC criteria?"
      ]
    },
    {
      "cell_type": "markdown",
      "metadata": {
        "id": "BWMlKCwcsvG5"
      },
      "source": [
        "# 6. Variant QC\n",
        "\n",
        "Now that we have successfully gone through basic sample QC using the function `sample_qc` and general-purpose filtering methods, let's do variant QC.\n",
        "\n",
        "\n",
        "Hail has the function [hl.variant_qc](https://hail.is/docs/0.2/methods/genetics.html#hail.methods.variant_qc) to compute a list of useful statistics about **variants** from sequencing data.\n",
        "\n",
        "Once again, **Click the link** above to see the documentation!"
      ]
    },
    {
      "cell_type": "code",
      "execution_count": null,
      "metadata": {
        "id": "AOcWSRTWsvG5"
      },
      "outputs": [],
      "source": [
        "mt = hl.variant_qc(mt)"
      ]
    },
    {
      "cell_type": "code",
      "execution_count": null,
      "metadata": {
        "colab": {
          "referenced_widgets": [
            "a0d4954b4eb1468b8eaf4f2382c4acd2",
            "85ce579ded12444388fd255fa034a687"
          ]
        },
        "id": "zeRUYUV4svG6",
        "outputId": "e12fb57d-7a1a-4672-9aba-d8fb3885eac4"
      },
      "outputs": [
        {
          "data": {
            "application/vnd.jupyter.widget-view+json": {
              "model_id": "a0d4954b4eb1468b8eaf4f2382c4acd2",
              "version_major": 2,
              "version_minor": 0
            },
            "text/plain": [
              "VBox(children=(HBox(children=(Button(description='globals', layout=Layout(height='30px', width='65px'), style=…"
            ]
          },
          "metadata": {},
          "output_type": "display_data"
        },
        {
          "data": {
            "application/vnd.jupyter.widget-view+json": {
              "model_id": "85ce579ded12444388fd255fa034a687",
              "version_major": 2,
              "version_minor": 0
            },
            "text/plain": [
              "Tab(children=(VBox(children=(HTML(value='<p><big>Global fields, with one value in the dataset.</big></p>\\n<p>C…"
            ]
          },
          "metadata": {},
          "output_type": "display_data"
        }
      ],
      "source": [
        "mt.describe(widget=True)"
      ]
    },
    {
      "cell_type": "markdown",
      "metadata": {
        "id": "HZBX6JP2svG6"
      },
      "source": [
        "Find the `variant_qc` output!"
      ]
    },
    {
      "cell_type": "markdown",
      "metadata": {
        "id": "d9Rh-2JssvG6"
      },
      "source": [
        "We can `show()` the computed information:"
      ]
    },
    {
      "cell_type": "code",
      "execution_count": null,
      "metadata": {
        "id": "xBgriORksvG6",
        "outputId": "08263136-4c16-437e-f032-4d94e0008094"
      },
      "outputs": [
        {
          "name": "stderr",
          "output_type": "stream",
          "text": [
            "[Stage 22:=============================>                            (2 + 2) / 4]\r"
          ]
        },
        {
          "data": {
            "text/html": [
              "<table><thead><tr><td style=\"white-space: nowrap; max-width: 500px; overflow: hidden; text-overflow: ellipsis; \" colspan=\"1\"><div style=\"text-align: left;\"></div></td><td style=\"white-space: nowrap; max-width: 500px; overflow: hidden; text-overflow: ellipsis; \" colspan=\"1\"><div style=\"text-align: left;\"></div></td><td style=\"white-space: nowrap; max-width: 500px; overflow: hidden; text-overflow: ellipsis; \" colspan=\"21\"><div style=\"text-align: left;\"></div></td></tr><tr><td style=\"white-space: nowrap; max-width: 500px; overflow: hidden; text-overflow: ellipsis; \" colspan=\"1\"><div style=\"text-align: left;\"></div></td><td style=\"white-space: nowrap; max-width: 500px; overflow: hidden; text-overflow: ellipsis; \" colspan=\"1\"><div style=\"text-align: left;\"></div></td><td style=\"white-space: nowrap; max-width: 500px; overflow: hidden; text-overflow: ellipsis; \" colspan=\"21\"><div style=\"text-align: left;border-bottom: solid 2px #000; padding-bottom: 5px\">variant_qc</div></td></tr><tr><td style=\"white-space: nowrap; max-width: 500px; overflow: hidden; text-overflow: ellipsis; \" colspan=\"1\"><div style=\"text-align: left;\"></div></td><td style=\"white-space: nowrap; max-width: 500px; overflow: hidden; text-overflow: ellipsis; \" colspan=\"1\"><div style=\"text-align: left;\"></div></td><td style=\"white-space: nowrap; max-width: 500px; overflow: hidden; text-overflow: ellipsis; \" colspan=\"4\"><div style=\"text-align: left;border-bottom: solid 2px #000; padding-bottom: 5px\">dp_stats</div></td><td style=\"white-space: nowrap; max-width: 500px; overflow: hidden; text-overflow: ellipsis; \" colspan=\"4\"><div style=\"text-align: left;border-bottom: solid 2px #000; padding-bottom: 5px\">gq_stats</div></td><td style=\"white-space: nowrap; max-width: 500px; overflow: hidden; text-overflow: ellipsis; \" colspan=\"1\"><div style=\"text-align: left;\"></div></td><td style=\"white-space: nowrap; max-width: 500px; overflow: hidden; text-overflow: ellipsis; \" colspan=\"1\"><div style=\"text-align: left;\"></div></td><td style=\"white-space: nowrap; max-width: 500px; overflow: hidden; text-overflow: ellipsis; \" colspan=\"1\"><div style=\"text-align: left;\"></div></td><td style=\"white-space: nowrap; max-width: 500px; overflow: hidden; text-overflow: ellipsis; \" colspan=\"1\"><div style=\"text-align: left;\"></div></td><td style=\"white-space: nowrap; max-width: 500px; overflow: hidden; text-overflow: ellipsis; \" colspan=\"1\"><div style=\"text-align: left;\"></div></td><td style=\"white-space: nowrap; max-width: 500px; overflow: hidden; text-overflow: ellipsis; \" colspan=\"1\"><div style=\"text-align: left;\"></div></td><td style=\"white-space: nowrap; max-width: 500px; overflow: hidden; text-overflow: ellipsis; \" colspan=\"1\"><div style=\"text-align: left;\"></div></td><td style=\"white-space: nowrap; max-width: 500px; overflow: hidden; text-overflow: ellipsis; \" colspan=\"1\"><div style=\"text-align: left;\"></div></td><td style=\"white-space: nowrap; max-width: 500px; overflow: hidden; text-overflow: ellipsis; \" colspan=\"1\"><div style=\"text-align: left;\"></div></td><td style=\"white-space: nowrap; max-width: 500px; overflow: hidden; text-overflow: ellipsis; \" colspan=\"1\"><div style=\"text-align: left;\"></div></td><td style=\"white-space: nowrap; max-width: 500px; overflow: hidden; text-overflow: ellipsis; \" colspan=\"1\"><div style=\"text-align: left;\"></div></td><td style=\"white-space: nowrap; max-width: 500px; overflow: hidden; text-overflow: ellipsis; \" colspan=\"1\"><div style=\"text-align: left;\"></div></td><td style=\"white-space: nowrap; max-width: 500px; overflow: hidden; text-overflow: ellipsis; \" colspan=\"1\"><div style=\"text-align: left;\"></div></td></tr><tr><td style=\"white-space: nowrap; max-width: 500px; overflow: hidden; text-overflow: ellipsis; \" colspan=\"1\"><div style=\"text-align: left;border-bottom: solid 2px #000; padding-bottom: 5px\">locus</div></td><td style=\"white-space: nowrap; max-width: 500px; overflow: hidden; text-overflow: ellipsis; \" colspan=\"1\"><div style=\"text-align: left;border-bottom: solid 2px #000; padding-bottom: 5px\">alleles</div></td><td style=\"white-space: nowrap; max-width: 500px; overflow: hidden; text-overflow: ellipsis; \" colspan=\"1\"><div style=\"text-align: left;border-bottom: solid 2px #000; padding-bottom: 5px\">mean</div></td><td style=\"white-space: nowrap; max-width: 500px; overflow: hidden; text-overflow: ellipsis; \" colspan=\"1\"><div style=\"text-align: left;border-bottom: solid 2px #000; padding-bottom: 5px\">stdev</div></td><td style=\"white-space: nowrap; max-width: 500px; overflow: hidden; text-overflow: ellipsis; \" colspan=\"1\"><div style=\"text-align: left;border-bottom: solid 2px #000; padding-bottom: 5px\">min</div></td><td style=\"white-space: nowrap; max-width: 500px; overflow: hidden; text-overflow: ellipsis; \" colspan=\"1\"><div style=\"text-align: left;border-bottom: solid 2px #000; padding-bottom: 5px\">max</div></td><td style=\"white-space: nowrap; max-width: 500px; overflow: hidden; text-overflow: ellipsis; \" colspan=\"1\"><div style=\"text-align: left;border-bottom: solid 2px #000; padding-bottom: 5px\">mean</div></td><td style=\"white-space: nowrap; max-width: 500px; overflow: hidden; text-overflow: ellipsis; \" colspan=\"1\"><div style=\"text-align: left;border-bottom: solid 2px #000; padding-bottom: 5px\">stdev</div></td><td style=\"white-space: nowrap; max-width: 500px; overflow: hidden; text-overflow: ellipsis; \" colspan=\"1\"><div style=\"text-align: left;border-bottom: solid 2px #000; padding-bottom: 5px\">min</div></td><td style=\"white-space: nowrap; max-width: 500px; overflow: hidden; text-overflow: ellipsis; \" colspan=\"1\"><div style=\"text-align: left;border-bottom: solid 2px #000; padding-bottom: 5px\">max</div></td><td style=\"white-space: nowrap; max-width: 500px; overflow: hidden; text-overflow: ellipsis; \" colspan=\"1\"><div style=\"text-align: left;border-bottom: solid 2px #000; padding-bottom: 5px\">AC</div></td><td style=\"white-space: nowrap; max-width: 500px; overflow: hidden; text-overflow: ellipsis; \" colspan=\"1\"><div style=\"text-align: left;border-bottom: solid 2px #000; padding-bottom: 5px\">AF</div></td><td style=\"white-space: nowrap; max-width: 500px; overflow: hidden; text-overflow: ellipsis; \" colspan=\"1\"><div style=\"text-align: left;border-bottom: solid 2px #000; padding-bottom: 5px\">AN</div></td><td style=\"white-space: nowrap; max-width: 500px; overflow: hidden; text-overflow: ellipsis; \" colspan=\"1\"><div style=\"text-align: left;border-bottom: solid 2px #000; padding-bottom: 5px\">homozygote_count</div></td><td style=\"white-space: nowrap; max-width: 500px; overflow: hidden; text-overflow: ellipsis; \" colspan=\"1\"><div style=\"text-align: left;border-bottom: solid 2px #000; padding-bottom: 5px\">call_rate</div></td><td style=\"white-space: nowrap; max-width: 500px; overflow: hidden; text-overflow: ellipsis; \" colspan=\"1\"><div style=\"text-align: left;border-bottom: solid 2px #000; padding-bottom: 5px\">n_called</div></td><td style=\"white-space: nowrap; max-width: 500px; overflow: hidden; text-overflow: ellipsis; \" colspan=\"1\"><div style=\"text-align: left;border-bottom: solid 2px #000; padding-bottom: 5px\">n_not_called</div></td><td style=\"white-space: nowrap; max-width: 500px; overflow: hidden; text-overflow: ellipsis; \" colspan=\"1\"><div style=\"text-align: left;border-bottom: solid 2px #000; padding-bottom: 5px\">n_filtered</div></td><td style=\"white-space: nowrap; max-width: 500px; overflow: hidden; text-overflow: ellipsis; \" colspan=\"1\"><div style=\"text-align: left;border-bottom: solid 2px #000; padding-bottom: 5px\">n_het</div></td><td style=\"white-space: nowrap; max-width: 500px; overflow: hidden; text-overflow: ellipsis; \" colspan=\"1\"><div style=\"text-align: left;border-bottom: solid 2px #000; padding-bottom: 5px\">n_non_ref</div></td><td style=\"white-space: nowrap; max-width: 500px; overflow: hidden; text-overflow: ellipsis; \" colspan=\"1\"><div style=\"text-align: left;border-bottom: solid 2px #000; padding-bottom: 5px\">het_freq_hwe</div></td><td style=\"white-space: nowrap; max-width: 500px; overflow: hidden; text-overflow: ellipsis; \" colspan=\"1\"><div style=\"text-align: left;border-bottom: solid 2px #000; padding-bottom: 5px\">p_value_hwe</div></td><td style=\"white-space: nowrap; max-width: 500px; overflow: hidden; text-overflow: ellipsis; \" colspan=\"1\"><div style=\"text-align: left;border-bottom: solid 2px #000; padding-bottom: 5px\">p_value_excess_het</div></td></tr><tr><td style=\"white-space: nowrap; max-width: 500px; overflow: hidden; text-overflow: ellipsis; text-align: left;\">locus&lt;GRCh38&gt;</td><td style=\"white-space: nowrap; max-width: 500px; overflow: hidden; text-overflow: ellipsis; text-align: left;\">array&lt;str&gt;</td><td style=\"white-space: nowrap; max-width: 500px; overflow: hidden; text-overflow: ellipsis; text-align: left;\">float64</td><td style=\"white-space: nowrap; max-width: 500px; overflow: hidden; text-overflow: ellipsis; text-align: left;\">float64</td><td style=\"white-space: nowrap; max-width: 500px; overflow: hidden; text-overflow: ellipsis; text-align: left;\">float64</td><td style=\"white-space: nowrap; max-width: 500px; overflow: hidden; text-overflow: ellipsis; text-align: left;\">float64</td><td style=\"white-space: nowrap; max-width: 500px; overflow: hidden; text-overflow: ellipsis; text-align: left;\">float64</td><td style=\"white-space: nowrap; max-width: 500px; overflow: hidden; text-overflow: ellipsis; text-align: left;\">float64</td><td style=\"white-space: nowrap; max-width: 500px; overflow: hidden; text-overflow: ellipsis; text-align: left;\">float64</td><td style=\"white-space: nowrap; max-width: 500px; overflow: hidden; text-overflow: ellipsis; text-align: left;\">float64</td><td style=\"white-space: nowrap; max-width: 500px; overflow: hidden; text-overflow: ellipsis; text-align: left;\">array&lt;int32&gt;</td><td style=\"white-space: nowrap; max-width: 500px; overflow: hidden; text-overflow: ellipsis; text-align: left;\">array&lt;float64&gt;</td><td style=\"white-space: nowrap; max-width: 500px; overflow: hidden; text-overflow: ellipsis; text-align: left;\">int32</td><td style=\"white-space: nowrap; max-width: 500px; overflow: hidden; text-overflow: ellipsis; text-align: left;\">array&lt;int32&gt;</td><td style=\"white-space: nowrap; max-width: 500px; overflow: hidden; text-overflow: ellipsis; text-align: left;\">float64</td><td style=\"white-space: nowrap; max-width: 500px; overflow: hidden; text-overflow: ellipsis; text-align: left;\">int64</td><td style=\"white-space: nowrap; max-width: 500px; overflow: hidden; text-overflow: ellipsis; text-align: left;\">int64</td><td style=\"white-space: nowrap; max-width: 500px; overflow: hidden; text-overflow: ellipsis; text-align: left;\">int64</td><td style=\"white-space: nowrap; max-width: 500px; overflow: hidden; text-overflow: ellipsis; text-align: left;\">int64</td><td style=\"white-space: nowrap; max-width: 500px; overflow: hidden; text-overflow: ellipsis; text-align: left;\">int64</td><td style=\"white-space: nowrap; max-width: 500px; overflow: hidden; text-overflow: ellipsis; text-align: left;\">float64</td><td style=\"white-space: nowrap; max-width: 500px; overflow: hidden; text-overflow: ellipsis; text-align: left;\">float64</td><td style=\"white-space: nowrap; max-width: 500px; overflow: hidden; text-overflow: ellipsis; text-align: left;\">float64</td></tr>\n",
              "</thead><tbody><tr><td style=\"white-space: nowrap; max-width: 500px; overflow: hidden; text-overflow: ellipsis; \">chr1:17379</td><td style=\"white-space: nowrap; max-width: 500px; overflow: hidden; text-overflow: ellipsis; \">[&quot;G&quot;,&quot;A&quot;]</td><td style=\"white-space: nowrap; max-width: 500px; overflow: hidden; text-overflow: ellipsis; \">4.95e+01</td><td style=\"white-space: nowrap; max-width: 500px; overflow: hidden; text-overflow: ellipsis; \">2.17e+01</td><td style=\"white-space: nowrap; max-width: 500px; overflow: hidden; text-overflow: ellipsis; \">7.00e+00</td><td style=\"white-space: nowrap; max-width: 500px; overflow: hidden; text-overflow: ellipsis; \">1.41e+02</td><td style=\"white-space: nowrap; max-width: 500px; overflow: hidden; text-overflow: ellipsis; \">6.44e+01</td><td style=\"white-space: nowrap; max-width: 500px; overflow: hidden; text-overflow: ellipsis; \">2.84e+01</td><td style=\"white-space: nowrap; max-width: 500px; overflow: hidden; text-overflow: ellipsis; \">2.00e+01</td><td style=\"white-space: nowrap; max-width: 500px; overflow: hidden; text-overflow: ellipsis; \">9.90e+01</td><td style=\"white-space: nowrap; max-width: 500px; overflow: hidden; text-overflow: ellipsis; \">[752,10]</td><td style=\"white-space: nowrap; max-width: 500px; overflow: hidden; text-overflow: ellipsis; \">[9.87e-01,1.31e-02]</td><td style=\"white-space: nowrap; max-width: 500px; overflow: hidden; text-overflow: ellipsis; \">762</td><td style=\"white-space: nowrap; max-width: 500px; overflow: hidden; text-overflow: ellipsis; \">[371,0]</td><td style=\"white-space: nowrap; max-width: 500px; overflow: hidden; text-overflow: ellipsis; \">9.90e-01</td><td style=\"white-space: nowrap; max-width: 500px; overflow: hidden; text-overflow: ellipsis; \">381</td><td style=\"white-space: nowrap; max-width: 500px; overflow: hidden; text-overflow: ellipsis; \">4</td><td style=\"white-space: nowrap; max-width: 500px; overflow: hidden; text-overflow: ellipsis; \">0</td><td style=\"white-space: nowrap; max-width: 500px; overflow: hidden; text-overflow: ellipsis; \">10</td><td style=\"white-space: nowrap; max-width: 500px; overflow: hidden; text-overflow: ellipsis; \">10</td><td style=\"white-space: nowrap; max-width: 500px; overflow: hidden; text-overflow: ellipsis; \">2.59e-02</td><td style=\"white-space: nowrap; max-width: 500px; overflow: hidden; text-overflow: ellipsis; \">5.29e-01</td><td style=\"white-space: nowrap; max-width: 500px; overflow: hidden; text-overflow: ellipsis; \">4.71e-01</td></tr>\n",
              "<tr><td style=\"white-space: nowrap; max-width: 500px; overflow: hidden; text-overflow: ellipsis; \">chr1:95068</td><td style=\"white-space: nowrap; max-width: 500px; overflow: hidden; text-overflow: ellipsis; \">[&quot;G&quot;,&quot;A&quot;]</td><td style=\"white-space: nowrap; max-width: 500px; overflow: hidden; text-overflow: ellipsis; \">2.28e+01</td><td style=\"white-space: nowrap; max-width: 500px; overflow: hidden; text-overflow: ellipsis; \">1.19e+01</td><td style=\"white-space: nowrap; max-width: 500px; overflow: hidden; text-overflow: ellipsis; \">4.00e+00</td><td style=\"white-space: nowrap; max-width: 500px; overflow: hidden; text-overflow: ellipsis; \">1.06e+02</td><td style=\"white-space: nowrap; max-width: 500px; overflow: hidden; text-overflow: ellipsis; \">4.36e+01</td><td style=\"white-space: nowrap; max-width: 500px; overflow: hidden; text-overflow: ellipsis; \">3.19e+01</td><td style=\"white-space: nowrap; max-width: 500px; overflow: hidden; text-overflow: ellipsis; \">1.20e+01</td><td style=\"white-space: nowrap; max-width: 500px; overflow: hidden; text-overflow: ellipsis; \">9.90e+01</td><td style=\"white-space: nowrap; max-width: 500px; overflow: hidden; text-overflow: ellipsis; \">[556,122]</td><td style=\"white-space: nowrap; max-width: 500px; overflow: hidden; text-overflow: ellipsis; \">[8.20e-01,1.80e-01]</td><td style=\"white-space: nowrap; max-width: 500px; overflow: hidden; text-overflow: ellipsis; \">678</td><td style=\"white-space: nowrap; max-width: 500px; overflow: hidden; text-overflow: ellipsis; \">[219,2]</td><td style=\"white-space: nowrap; max-width: 500px; overflow: hidden; text-overflow: ellipsis; \">8.81e-01</td><td style=\"white-space: nowrap; max-width: 500px; overflow: hidden; text-overflow: ellipsis; \">339</td><td style=\"white-space: nowrap; max-width: 500px; overflow: hidden; text-overflow: ellipsis; \">46</td><td style=\"white-space: nowrap; max-width: 500px; overflow: hidden; text-overflow: ellipsis; \">0</td><td style=\"white-space: nowrap; max-width: 500px; overflow: hidden; text-overflow: ellipsis; \">118</td><td style=\"white-space: nowrap; max-width: 500px; overflow: hidden; text-overflow: ellipsis; \">120</td><td style=\"white-space: nowrap; max-width: 500px; overflow: hidden; text-overflow: ellipsis; \">2.96e-01</td><td style=\"white-space: nowrap; max-width: 500px; overflow: hidden; text-overflow: ellipsis; \">2.55e-04</td><td style=\"white-space: nowrap; max-width: 500px; overflow: hidden; text-overflow: ellipsis; \">1.36e-04</td></tr>\n",
              "<tr><td style=\"white-space: nowrap; max-width: 500px; overflow: hidden; text-overflow: ellipsis; \">chr1:111735</td><td style=\"white-space: nowrap; max-width: 500px; overflow: hidden; text-overflow: ellipsis; \">[&quot;C&quot;,&quot;A&quot;]</td><td style=\"white-space: nowrap; max-width: 500px; overflow: hidden; text-overflow: ellipsis; \">1.42e+01</td><td style=\"white-space: nowrap; max-width: 500px; overflow: hidden; text-overflow: ellipsis; \">6.02e+00</td><td style=\"white-space: nowrap; max-width: 500px; overflow: hidden; text-overflow: ellipsis; \">2.00e+00</td><td style=\"white-space: nowrap; max-width: 500px; overflow: hidden; text-overflow: ellipsis; \">2.80e+01</td><td style=\"white-space: nowrap; max-width: 500px; overflow: hidden; text-overflow: ellipsis; \">2.73e+01</td><td style=\"white-space: nowrap; max-width: 500px; overflow: hidden; text-overflow: ellipsis; \">1.87e+01</td><td style=\"white-space: nowrap; max-width: 500px; overflow: hidden; text-overflow: ellipsis; \">1.00e+00</td><td style=\"white-space: nowrap; max-width: 500px; overflow: hidden; text-overflow: ellipsis; \">9.90e+01</td><td style=\"white-space: nowrap; max-width: 500px; overflow: hidden; text-overflow: ellipsis; \">[538,84]</td><td style=\"white-space: nowrap; max-width: 500px; overflow: hidden; text-overflow: ellipsis; \">[8.65e-01,1.35e-01]</td><td style=\"white-space: nowrap; max-width: 500px; overflow: hidden; text-overflow: ellipsis; \">622</td><td style=\"white-space: nowrap; max-width: 500px; overflow: hidden; text-overflow: ellipsis; \">[235,8]</td><td style=\"white-space: nowrap; max-width: 500px; overflow: hidden; text-overflow: ellipsis; \">8.08e-01</td><td style=\"white-space: nowrap; max-width: 500px; overflow: hidden; text-overflow: ellipsis; \">311</td><td style=\"white-space: nowrap; max-width: 500px; overflow: hidden; text-overflow: ellipsis; \">74</td><td style=\"white-space: nowrap; max-width: 500px; overflow: hidden; text-overflow: ellipsis; \">0</td><td style=\"white-space: nowrap; max-width: 500px; overflow: hidden; text-overflow: ellipsis; \">68</td><td style=\"white-space: nowrap; max-width: 500px; overflow: hidden; text-overflow: ellipsis; \">76</td><td style=\"white-space: nowrap; max-width: 500px; overflow: hidden; text-overflow: ellipsis; \">2.34e-01</td><td style=\"white-space: nowrap; max-width: 500px; overflow: hidden; text-overflow: ellipsis; \">1.85e-01</td><td style=\"white-space: nowrap; max-width: 500px; overflow: hidden; text-overflow: ellipsis; \">8.70e-01</td></tr>\n",
              "<tr><td style=\"white-space: nowrap; max-width: 500px; overflow: hidden; text-overflow: ellipsis; \">chr1:134610</td><td style=\"white-space: nowrap; max-width: 500px; overflow: hidden; text-overflow: ellipsis; \">[&quot;G&quot;,&quot;A&quot;]</td><td style=\"white-space: nowrap; max-width: 500px; overflow: hidden; text-overflow: ellipsis; \">1.36e+01</td><td style=\"white-space: nowrap; max-width: 500px; overflow: hidden; text-overflow: ellipsis; \">5.46e+00</td><td style=\"white-space: nowrap; max-width: 500px; overflow: hidden; text-overflow: ellipsis; \">2.00e+00</td><td style=\"white-space: nowrap; max-width: 500px; overflow: hidden; text-overflow: ellipsis; \">2.80e+01</td><td style=\"white-space: nowrap; max-width: 500px; overflow: hidden; text-overflow: ellipsis; \">2.28e+01</td><td style=\"white-space: nowrap; max-width: 500px; overflow: hidden; text-overflow: ellipsis; \">6.94e+00</td><td style=\"white-space: nowrap; max-width: 500px; overflow: hidden; text-overflow: ellipsis; \">6.00e+00</td><td style=\"white-space: nowrap; max-width: 500px; overflow: hidden; text-overflow: ellipsis; \">5.60e+01</td><td style=\"white-space: nowrap; max-width: 500px; overflow: hidden; text-overflow: ellipsis; \">[439,15]</td><td style=\"white-space: nowrap; max-width: 500px; overflow: hidden; text-overflow: ellipsis; \">[9.67e-01,3.30e-02]</td><td style=\"white-space: nowrap; max-width: 500px; overflow: hidden; text-overflow: ellipsis; \">454</td><td style=\"white-space: nowrap; max-width: 500px; overflow: hidden; text-overflow: ellipsis; \">[213,1]</td><td style=\"white-space: nowrap; max-width: 500px; overflow: hidden; text-overflow: ellipsis; \">5.90e-01</td><td style=\"white-space: nowrap; max-width: 500px; overflow: hidden; text-overflow: ellipsis; \">227</td><td style=\"white-space: nowrap; max-width: 500px; overflow: hidden; text-overflow: ellipsis; \">158</td><td style=\"white-space: nowrap; max-width: 500px; overflow: hidden; text-overflow: ellipsis; \">0</td><td style=\"white-space: nowrap; max-width: 500px; overflow: hidden; text-overflow: ellipsis; \">13</td><td style=\"white-space: nowrap; max-width: 500px; overflow: hidden; text-overflow: ellipsis; \">14</td><td style=\"white-space: nowrap; max-width: 500px; overflow: hidden; text-overflow: ellipsis; \">6.40e-02</td><td style=\"white-space: nowrap; max-width: 500px; overflow: hidden; text-overflow: ellipsis; \">1.16e-01</td><td style=\"white-space: nowrap; max-width: 500px; overflow: hidden; text-overflow: ellipsis; \">8.84e-01</td></tr>\n",
              "<tr><td style=\"white-space: nowrap; max-width: 500px; overflow: hidden; text-overflow: ellipsis; \">chr1:414783</td><td style=\"white-space: nowrap; max-width: 500px; overflow: hidden; text-overflow: ellipsis; \">[&quot;T&quot;,&quot;C&quot;]</td><td style=\"white-space: nowrap; max-width: 500px; overflow: hidden; text-overflow: ellipsis; \">6.27e+00</td><td style=\"white-space: nowrap; max-width: 500px; overflow: hidden; text-overflow: ellipsis; \">2.65e+00</td><td style=\"white-space: nowrap; max-width: 500px; overflow: hidden; text-overflow: ellipsis; \">1.00e+00</td><td style=\"white-space: nowrap; max-width: 500px; overflow: hidden; text-overflow: ellipsis; \">1.40e+01</td><td style=\"white-space: nowrap; max-width: 500px; overflow: hidden; text-overflow: ellipsis; \">1.50e+01</td><td style=\"white-space: nowrap; max-width: 500px; overflow: hidden; text-overflow: ellipsis; \">4.73e+00</td><td style=\"white-space: nowrap; max-width: 500px; overflow: hidden; text-overflow: ellipsis; \">3.00e+00</td><td style=\"white-space: nowrap; max-width: 500px; overflow: hidden; text-overflow: ellipsis; \">2.60e+01</td><td style=\"white-space: nowrap; max-width: 500px; overflow: hidden; text-overflow: ellipsis; \">[110,8]</td><td style=\"white-space: nowrap; max-width: 500px; overflow: hidden; text-overflow: ellipsis; \">[9.32e-01,6.78e-02]</td><td style=\"white-space: nowrap; max-width: 500px; overflow: hidden; text-overflow: ellipsis; \">118</td><td style=\"white-space: nowrap; max-width: 500px; overflow: hidden; text-overflow: ellipsis; \">[54,3]</td><td style=\"white-space: nowrap; max-width: 500px; overflow: hidden; text-overflow: ellipsis; \">1.53e-01</td><td style=\"white-space: nowrap; max-width: 500px; overflow: hidden; text-overflow: ellipsis; \">59</td><td style=\"white-space: nowrap; max-width: 500px; overflow: hidden; text-overflow: ellipsis; \">326</td><td style=\"white-space: nowrap; max-width: 500px; overflow: hidden; text-overflow: ellipsis; \">0</td><td style=\"white-space: nowrap; max-width: 500px; overflow: hidden; text-overflow: ellipsis; \">2</td><td style=\"white-space: nowrap; max-width: 500px; overflow: hidden; text-overflow: ellipsis; \">5</td><td style=\"white-space: nowrap; max-width: 500px; overflow: hidden; text-overflow: ellipsis; \">1.27e-01</td><td style=\"white-space: nowrap; max-width: 500px; overflow: hidden; text-overflow: ellipsis; \">1.37e-04</td><td style=\"white-space: nowrap; max-width: 500px; overflow: hidden; text-overflow: ellipsis; \">1.00e+00</td></tr>\n",
              "<tr><td style=\"white-space: nowrap; max-width: 500px; overflow: hidden; text-overflow: ellipsis; \">chr1:1130877</td><td style=\"white-space: nowrap; max-width: 500px; overflow: hidden; text-overflow: ellipsis; \">[&quot;C&quot;,&quot;G&quot;]</td><td style=\"white-space: nowrap; max-width: 500px; overflow: hidden; text-overflow: ellipsis; \">3.75e+01</td><td style=\"white-space: nowrap; max-width: 500px; overflow: hidden; text-overflow: ellipsis; \">7.77e+00</td><td style=\"white-space: nowrap; max-width: 500px; overflow: hidden; text-overflow: ellipsis; \">1.90e+01</td><td style=\"white-space: nowrap; max-width: 500px; overflow: hidden; text-overflow: ellipsis; \">6.50e+01</td><td style=\"white-space: nowrap; max-width: 500px; overflow: hidden; text-overflow: ellipsis; \">5.50e+01</td><td style=\"white-space: nowrap; max-width: 500px; overflow: hidden; text-overflow: ellipsis; \">2.82e+01</td><td style=\"white-space: nowrap; max-width: 500px; overflow: hidden; text-overflow: ellipsis; \">2.00e+01</td><td style=\"white-space: nowrap; max-width: 500px; overflow: hidden; text-overflow: ellipsis; \">9.90e+01</td><td style=\"white-space: nowrap; max-width: 500px; overflow: hidden; text-overflow: ellipsis; \">[758,12]</td><td style=\"white-space: nowrap; max-width: 500px; overflow: hidden; text-overflow: ellipsis; \">[9.84e-01,1.56e-02]</td><td style=\"white-space: nowrap; max-width: 500px; overflow: hidden; text-overflow: ellipsis; \">770</td><td style=\"white-space: nowrap; max-width: 500px; overflow: hidden; text-overflow: ellipsis; \">[373,0]</td><td style=\"white-space: nowrap; max-width: 500px; overflow: hidden; text-overflow: ellipsis; \">1.00e+00</td><td style=\"white-space: nowrap; max-width: 500px; overflow: hidden; text-overflow: ellipsis; \">385</td><td style=\"white-space: nowrap; max-width: 500px; overflow: hidden; text-overflow: ellipsis; \">0</td><td style=\"white-space: nowrap; max-width: 500px; overflow: hidden; text-overflow: ellipsis; \">0</td><td style=\"white-space: nowrap; max-width: 500px; overflow: hidden; text-overflow: ellipsis; \">12</td><td style=\"white-space: nowrap; max-width: 500px; overflow: hidden; text-overflow: ellipsis; \">12</td><td style=\"white-space: nowrap; max-width: 500px; overflow: hidden; text-overflow: ellipsis; \">3.07e-02</td><td style=\"white-space: nowrap; max-width: 500px; overflow: hidden; text-overflow: ellipsis; \">5.42e-01</td><td style=\"white-space: nowrap; max-width: 500px; overflow: hidden; text-overflow: ellipsis; \">4.58e-01</td></tr>\n",
              "<tr><td style=\"white-space: nowrap; max-width: 500px; overflow: hidden; text-overflow: ellipsis; \">chr1:1226707</td><td style=\"white-space: nowrap; max-width: 500px; overflow: hidden; text-overflow: ellipsis; \">[&quot;C&quot;,&quot;G&quot;]</td><td style=\"white-space: nowrap; max-width: 500px; overflow: hidden; text-overflow: ellipsis; \">3.61e+01</td><td style=\"white-space: nowrap; max-width: 500px; overflow: hidden; text-overflow: ellipsis; \">6.28e+00</td><td style=\"white-space: nowrap; max-width: 500px; overflow: hidden; text-overflow: ellipsis; \">2.30e+01</td><td style=\"white-space: nowrap; max-width: 500px; overflow: hidden; text-overflow: ellipsis; \">7.70e+01</td><td style=\"white-space: nowrap; max-width: 500px; overflow: hidden; text-overflow: ellipsis; \">5.26e+01</td><td style=\"white-space: nowrap; max-width: 500px; overflow: hidden; text-overflow: ellipsis; \">2.16e+01</td><td style=\"white-space: nowrap; max-width: 500px; overflow: hidden; text-overflow: ellipsis; \">2.00e+01</td><td style=\"white-space: nowrap; max-width: 500px; overflow: hidden; text-overflow: ellipsis; \">9.90e+01</td><td style=\"white-space: nowrap; max-width: 500px; overflow: hidden; text-overflow: ellipsis; \">[768,2]</td><td style=\"white-space: nowrap; max-width: 500px; overflow: hidden; text-overflow: ellipsis; \">[9.97e-01,2.60e-03]</td><td style=\"white-space: nowrap; max-width: 500px; overflow: hidden; text-overflow: ellipsis; \">770</td><td style=\"white-space: nowrap; max-width: 500px; overflow: hidden; text-overflow: ellipsis; \">[383,0]</td><td style=\"white-space: nowrap; max-width: 500px; overflow: hidden; text-overflow: ellipsis; \">1.00e+00</td><td style=\"white-space: nowrap; max-width: 500px; overflow: hidden; text-overflow: ellipsis; \">385</td><td style=\"white-space: nowrap; max-width: 500px; overflow: hidden; text-overflow: ellipsis; \">0</td><td style=\"white-space: nowrap; max-width: 500px; overflow: hidden; text-overflow: ellipsis; \">0</td><td style=\"white-space: nowrap; max-width: 500px; overflow: hidden; text-overflow: ellipsis; \">2</td><td style=\"white-space: nowrap; max-width: 500px; overflow: hidden; text-overflow: ellipsis; \">2</td><td style=\"white-space: nowrap; max-width: 500px; overflow: hidden; text-overflow: ellipsis; \">5.19e-03</td><td style=\"white-space: nowrap; max-width: 500px; overflow: hidden; text-overflow: ellipsis; \">5.01e-01</td><td style=\"white-space: nowrap; max-width: 500px; overflow: hidden; text-overflow: ellipsis; \">4.99e-01</td></tr>\n",
              "<tr><td style=\"white-space: nowrap; max-width: 500px; overflow: hidden; text-overflow: ellipsis; \">chr1:1491494</td><td style=\"white-space: nowrap; max-width: 500px; overflow: hidden; text-overflow: ellipsis; \">[&quot;G&quot;,&quot;A&quot;]</td><td style=\"white-space: nowrap; max-width: 500px; overflow: hidden; text-overflow: ellipsis; \">3.41e+01</td><td style=\"white-space: nowrap; max-width: 500px; overflow: hidden; text-overflow: ellipsis; \">5.39e+00</td><td style=\"white-space: nowrap; max-width: 500px; overflow: hidden; text-overflow: ellipsis; \">1.90e+01</td><td style=\"white-space: nowrap; max-width: 500px; overflow: hidden; text-overflow: ellipsis; \">7.30e+01</td><td style=\"white-space: nowrap; max-width: 500px; overflow: hidden; text-overflow: ellipsis; \">3.97e+01</td><td style=\"white-space: nowrap; max-width: 500px; overflow: hidden; text-overflow: ellipsis; \">1.92e+01</td><td style=\"white-space: nowrap; max-width: 500px; overflow: hidden; text-overflow: ellipsis; \">2.00e+01</td><td style=\"white-space: nowrap; max-width: 500px; overflow: hidden; text-overflow: ellipsis; \">9.90e+01</td><td style=\"white-space: nowrap; max-width: 500px; overflow: hidden; text-overflow: ellipsis; \">[761,9]</td><td style=\"white-space: nowrap; max-width: 500px; overflow: hidden; text-overflow: ellipsis; \">[9.88e-01,1.17e-02]</td><td style=\"white-space: nowrap; max-width: 500px; overflow: hidden; text-overflow: ellipsis; \">770</td><td style=\"white-space: nowrap; max-width: 500px; overflow: hidden; text-overflow: ellipsis; \">[376,0]</td><td style=\"white-space: nowrap; max-width: 500px; overflow: hidden; text-overflow: ellipsis; \">1.00e+00</td><td style=\"white-space: nowrap; max-width: 500px; overflow: hidden; text-overflow: ellipsis; \">385</td><td style=\"white-space: nowrap; max-width: 500px; overflow: hidden; text-overflow: ellipsis; \">0</td><td style=\"white-space: nowrap; max-width: 500px; overflow: hidden; text-overflow: ellipsis; \">0</td><td style=\"white-space: nowrap; max-width: 500px; overflow: hidden; text-overflow: ellipsis; \">9</td><td style=\"white-space: nowrap; max-width: 500px; overflow: hidden; text-overflow: ellipsis; \">9</td><td style=\"white-space: nowrap; max-width: 500px; overflow: hidden; text-overflow: ellipsis; \">2.31e-02</td><td style=\"white-space: nowrap; max-width: 500px; overflow: hidden; text-overflow: ellipsis; \">5.23e-01</td><td style=\"white-space: nowrap; max-width: 500px; overflow: hidden; text-overflow: ellipsis; \">4.77e-01</td></tr>\n",
              "<tr><td style=\"white-space: nowrap; max-width: 500px; overflow: hidden; text-overflow: ellipsis; \">chr1:1618118</td><td style=\"white-space: nowrap; max-width: 500px; overflow: hidden; text-overflow: ellipsis; \">[&quot;G&quot;,&quot;A&quot;]</td><td style=\"white-space: nowrap; max-width: 500px; overflow: hidden; text-overflow: ellipsis; \">3.63e+01</td><td style=\"white-space: nowrap; max-width: 500px; overflow: hidden; text-overflow: ellipsis; \">6.23e+00</td><td style=\"white-space: nowrap; max-width: 500px; overflow: hidden; text-overflow: ellipsis; \">2.10e+01</td><td style=\"white-space: nowrap; max-width: 500px; overflow: hidden; text-overflow: ellipsis; \">7.60e+01</td><td style=\"white-space: nowrap; max-width: 500px; overflow: hidden; text-overflow: ellipsis; \">6.50e+01</td><td style=\"white-space: nowrap; max-width: 500px; overflow: hidden; text-overflow: ellipsis; \">2.67e+01</td><td style=\"white-space: nowrap; max-width: 500px; overflow: hidden; text-overflow: ellipsis; \">2.00e+01</td><td style=\"white-space: nowrap; max-width: 500px; overflow: hidden; text-overflow: ellipsis; \">9.90e+01</td><td style=\"white-space: nowrap; max-width: 500px; overflow: hidden; text-overflow: ellipsis; \">[639,129]</td><td style=\"white-space: nowrap; max-width: 500px; overflow: hidden; text-overflow: ellipsis; \">[8.32e-01,1.68e-01]</td><td style=\"white-space: nowrap; max-width: 500px; overflow: hidden; text-overflow: ellipsis; \">768</td><td style=\"white-space: nowrap; max-width: 500px; overflow: hidden; text-overflow: ellipsis; \">[277,22]</td><td style=\"white-space: nowrap; max-width: 500px; overflow: hidden; text-overflow: ellipsis; \">9.97e-01</td><td style=\"white-space: nowrap; max-width: 500px; overflow: hidden; text-overflow: ellipsis; \">384</td><td style=\"white-space: nowrap; max-width: 500px; overflow: hidden; text-overflow: ellipsis; \">1</td><td style=\"white-space: nowrap; max-width: 500px; overflow: hidden; text-overflow: ellipsis; \">0</td><td style=\"white-space: nowrap; max-width: 500px; overflow: hidden; text-overflow: ellipsis; \">85</td><td style=\"white-space: nowrap; max-width: 500px; overflow: hidden; text-overflow: ellipsis; \">107</td><td style=\"white-space: nowrap; max-width: 500px; overflow: hidden; text-overflow: ellipsis; \">2.80e-01</td><td style=\"white-space: nowrap; max-width: 500px; overflow: hidden; text-overflow: ellipsis; \">1.15e-04</td><td style=\"white-space: nowrap; max-width: 500px; overflow: hidden; text-overflow: ellipsis; \">1.00e+00</td></tr>\n",
              "<tr><td style=\"white-space: nowrap; max-width: 500px; overflow: hidden; text-overflow: ellipsis; \">chr1:2078529</td><td style=\"white-space: nowrap; max-width: 500px; overflow: hidden; text-overflow: ellipsis; \">[&quot;G&quot;,&quot;A&quot;]</td><td style=\"white-space: nowrap; max-width: 500px; overflow: hidden; text-overflow: ellipsis; \">3.41e+01</td><td style=\"white-space: nowrap; max-width: 500px; overflow: hidden; text-overflow: ellipsis; \">4.28e+00</td><td style=\"white-space: nowrap; max-width: 500px; overflow: hidden; text-overflow: ellipsis; \">2.20e+01</td><td style=\"white-space: nowrap; max-width: 500px; overflow: hidden; text-overflow: ellipsis; \">5.80e+01</td><td style=\"white-space: nowrap; max-width: 500px; overflow: hidden; text-overflow: ellipsis; \">4.13e+01</td><td style=\"white-space: nowrap; max-width: 500px; overflow: hidden; text-overflow: ellipsis; \">1.60e+01</td><td style=\"white-space: nowrap; max-width: 500px; overflow: hidden; text-overflow: ellipsis; \">2.00e+01</td><td style=\"white-space: nowrap; max-width: 500px; overflow: hidden; text-overflow: ellipsis; \">9.90e+01</td><td style=\"white-space: nowrap; max-width: 500px; overflow: hidden; text-overflow: ellipsis; \">[770,0]</td><td style=\"white-space: nowrap; max-width: 500px; overflow: hidden; text-overflow: ellipsis; \">[1.00e+00,0.00e+00]</td><td style=\"white-space: nowrap; max-width: 500px; overflow: hidden; text-overflow: ellipsis; \">770</td><td style=\"white-space: nowrap; max-width: 500px; overflow: hidden; text-overflow: ellipsis; \">[385,0]</td><td style=\"white-space: nowrap; max-width: 500px; overflow: hidden; text-overflow: ellipsis; \">1.00e+00</td><td style=\"white-space: nowrap; max-width: 500px; overflow: hidden; text-overflow: ellipsis; \">385</td><td style=\"white-space: nowrap; max-width: 500px; overflow: hidden; text-overflow: ellipsis; \">0</td><td style=\"white-space: nowrap; max-width: 500px; overflow: hidden; text-overflow: ellipsis; \">0</td><td style=\"white-space: nowrap; max-width: 500px; overflow: hidden; text-overflow: ellipsis; \">0</td><td style=\"white-space: nowrap; max-width: 500px; overflow: hidden; text-overflow: ellipsis; \">0</td><td style=\"white-space: nowrap; max-width: 500px; overflow: hidden; text-overflow: ellipsis; \">0.00e+00</td><td style=\"white-space: nowrap; max-width: 500px; overflow: hidden; text-overflow: ellipsis; \">5.00e-01</td><td style=\"white-space: nowrap; max-width: 500px; overflow: hidden; text-overflow: ellipsis; \">5.00e-01</td></tr>\n",
              "</tbody></table><p style=\"background: #fdd; padding: 0.4em;\">showing top 10 rows</p>\n"
            ],
            "text/plain": [
              "+---------------+------------+--------------------------+\n",
              "| locus         | alleles    | variant_qc.dp_stats.mean |\n",
              "+---------------+------------+--------------------------+\n",
              "| locus<GRCh38> | array<str> |                  float64 |\n",
              "+---------------+------------+--------------------------+\n",
              "| chr1:17379    | [\"G\",\"A\"]  |                 4.95e+01 |\n",
              "| chr1:95068    | [\"G\",\"A\"]  |                 2.28e+01 |\n",
              "| chr1:111735   | [\"C\",\"A\"]  |                 1.42e+01 |\n",
              "| chr1:134610   | [\"G\",\"A\"]  |                 1.36e+01 |\n",
              "| chr1:414783   | [\"T\",\"C\"]  |                 6.27e+00 |\n",
              "| chr1:1130877  | [\"C\",\"G\"]  |                 3.75e+01 |\n",
              "| chr1:1226707  | [\"C\",\"G\"]  |                 3.61e+01 |\n",
              "| chr1:1491494  | [\"G\",\"A\"]  |                 3.41e+01 |\n",
              "| chr1:1618118  | [\"G\",\"A\"]  |                 3.63e+01 |\n",
              "| chr1:2078529  | [\"G\",\"A\"]  |                 3.41e+01 |\n",
              "+---------------+------------+--------------------------+\n",
              "\n",
              "+---------------------------+-------------------------+\n",
              "| variant_qc.dp_stats.stdev | variant_qc.dp_stats.min |\n",
              "+---------------------------+-------------------------+\n",
              "|                   float64 |                 float64 |\n",
              "+---------------------------+-------------------------+\n",
              "|                  2.17e+01 |                7.00e+00 |\n",
              "|                  1.19e+01 |                4.00e+00 |\n",
              "|                  6.02e+00 |                2.00e+00 |\n",
              "|                  5.46e+00 |                2.00e+00 |\n",
              "|                  2.65e+00 |                1.00e+00 |\n",
              "|                  7.77e+00 |                1.90e+01 |\n",
              "|                  6.28e+00 |                2.30e+01 |\n",
              "|                  5.39e+00 |                1.90e+01 |\n",
              "|                  6.23e+00 |                2.10e+01 |\n",
              "|                  4.28e+00 |                2.20e+01 |\n",
              "+---------------------------+-------------------------+\n",
              "\n",
              "+-------------------------+--------------------------+\n",
              "| variant_qc.dp_stats.max | variant_qc.gq_stats.mean |\n",
              "+-------------------------+--------------------------+\n",
              "|                 float64 |                  float64 |\n",
              "+-------------------------+--------------------------+\n",
              "|                1.41e+02 |                 6.44e+01 |\n",
              "|                1.06e+02 |                 4.36e+01 |\n",
              "|                2.80e+01 |                 2.73e+01 |\n",
              "|                2.80e+01 |                 2.28e+01 |\n",
              "|                1.40e+01 |                 1.50e+01 |\n",
              "|                6.50e+01 |                 5.50e+01 |\n",
              "|                7.70e+01 |                 5.26e+01 |\n",
              "|                7.30e+01 |                 3.97e+01 |\n",
              "|                7.60e+01 |                 6.50e+01 |\n",
              "|                5.80e+01 |                 4.13e+01 |\n",
              "+-------------------------+--------------------------+\n",
              "\n",
              "+---------------------------+-------------------------+\n",
              "| variant_qc.gq_stats.stdev | variant_qc.gq_stats.min |\n",
              "+---------------------------+-------------------------+\n",
              "|                   float64 |                 float64 |\n",
              "+---------------------------+-------------------------+\n",
              "|                  2.84e+01 |                2.00e+01 |\n",
              "|                  3.19e+01 |                1.20e+01 |\n",
              "|                  1.87e+01 |                1.00e+00 |\n",
              "|                  6.94e+00 |                6.00e+00 |\n",
              "|                  4.73e+00 |                3.00e+00 |\n",
              "|                  2.82e+01 |                2.00e+01 |\n",
              "|                  2.16e+01 |                2.00e+01 |\n",
              "|                  1.92e+01 |                2.00e+01 |\n",
              "|                  2.67e+01 |                2.00e+01 |\n",
              "|                  1.60e+01 |                2.00e+01 |\n",
              "+---------------------------+-------------------------+\n",
              "\n",
              "+-------------------------+---------------+---------------------+\n",
              "| variant_qc.gq_stats.max | variant_qc.AC | variant_qc.AF       |\n",
              "+-------------------------+---------------+---------------------+\n",
              "|                 float64 | array<int32>  | array<float64>      |\n",
              "+-------------------------+---------------+---------------------+\n",
              "|                9.90e+01 | [752,10]      | [9.87e-01,1.31e-02] |\n",
              "|                9.90e+01 | [556,122]     | [8.20e-01,1.80e-01] |\n",
              "|                9.90e+01 | [538,84]      | [8.65e-01,1.35e-01] |\n",
              "|                5.60e+01 | [439,15]      | [9.67e-01,3.30e-02] |\n",
              "|                2.60e+01 | [110,8]       | [9.32e-01,6.78e-02] |\n",
              "|                9.90e+01 | [758,12]      | [9.84e-01,1.56e-02] |\n",
              "|                9.90e+01 | [768,2]       | [9.97e-01,2.60e-03] |\n",
              "|                9.90e+01 | [761,9]       | [9.88e-01,1.17e-02] |\n",
              "|                9.90e+01 | [639,129]     | [8.32e-01,1.68e-01] |\n",
              "|                9.90e+01 | [770,0]       | [1.00e+00,0.00e+00] |\n",
              "+-------------------------+---------------+---------------------+\n",
              "\n",
              "+---------------+-----------------------------+----------------------+\n",
              "| variant_qc.AN | variant_qc.homozygote_count | variant_qc.call_rate |\n",
              "+---------------+-----------------------------+----------------------+\n",
              "|         int32 | array<int32>                |              float64 |\n",
              "+---------------+-----------------------------+----------------------+\n",
              "|           762 | [371,0]                     |             9.90e-01 |\n",
              "|           678 | [219,2]                     |             8.81e-01 |\n",
              "|           622 | [235,8]                     |             8.08e-01 |\n",
              "|           454 | [213,1]                     |             5.90e-01 |\n",
              "|           118 | [54,3]                      |             1.53e-01 |\n",
              "|           770 | [373,0]                     |             1.00e+00 |\n",
              "|           770 | [383,0]                     |             1.00e+00 |\n",
              "|           770 | [376,0]                     |             1.00e+00 |\n",
              "|           768 | [277,22]                    |             9.97e-01 |\n",
              "|           770 | [385,0]                     |             1.00e+00 |\n",
              "+---------------+-----------------------------+----------------------+\n",
              "\n",
              "+---------------------+-------------------------+-----------------------+\n",
              "| variant_qc.n_called | variant_qc.n_not_called | variant_qc.n_filtered |\n",
              "+---------------------+-------------------------+-----------------------+\n",
              "|               int64 |                   int64 |                 int64 |\n",
              "+---------------------+-------------------------+-----------------------+\n",
              "|                 381 |                       4 |                     0 |\n",
              "|                 339 |                      46 |                     0 |\n",
              "|                 311 |                      74 |                     0 |\n",
              "|                 227 |                     158 |                     0 |\n",
              "|                  59 |                     326 |                     0 |\n",
              "|                 385 |                       0 |                     0 |\n",
              "|                 385 |                       0 |                     0 |\n",
              "|                 385 |                       0 |                     0 |\n",
              "|                 384 |                       1 |                     0 |\n",
              "|                 385 |                       0 |                     0 |\n",
              "+---------------------+-------------------------+-----------------------+\n",
              "\n",
              "+------------------+----------------------+-------------------------+\n",
              "| variant_qc.n_het | variant_qc.n_non_ref | variant_qc.het_freq_hwe |\n",
              "+------------------+----------------------+-------------------------+\n",
              "|            int64 |                int64 |                 float64 |\n",
              "+------------------+----------------------+-------------------------+\n",
              "|               10 |                   10 |                2.59e-02 |\n",
              "|              118 |                  120 |                2.96e-01 |\n",
              "|               68 |                   76 |                2.34e-01 |\n",
              "|               13 |                   14 |                6.40e-02 |\n",
              "|                2 |                    5 |                1.27e-01 |\n",
              "|               12 |                   12 |                3.07e-02 |\n",
              "|                2 |                    2 |                5.19e-03 |\n",
              "|                9 |                    9 |                2.31e-02 |\n",
              "|               85 |                  107 |                2.80e-01 |\n",
              "|                0 |                    0 |                0.00e+00 |\n",
              "+------------------+----------------------+-------------------------+\n",
              "\n",
              "+------------------------+-------------------------------+\n",
              "| variant_qc.p_value_hwe | variant_qc.p_value_excess_het |\n",
              "+------------------------+-------------------------------+\n",
              "|                float64 |                       float64 |\n",
              "+------------------------+-------------------------------+\n",
              "|               5.29e-01 |                      4.71e-01 |\n",
              "|               2.55e-04 |                      1.36e-04 |\n",
              "|               1.85e-01 |                      8.70e-01 |\n",
              "|               1.16e-01 |                      8.84e-01 |\n",
              "|               1.37e-04 |                      1.00e+00 |\n",
              "|               5.42e-01 |                      4.58e-01 |\n",
              "|               5.01e-01 |                      4.99e-01 |\n",
              "|               5.23e-01 |                      4.77e-01 |\n",
              "|               1.15e-04 |                      1.00e+00 |\n",
              "|               5.00e-01 |                      5.00e-01 |\n",
              "+------------------------+-------------------------------+\n",
              "showing top 10 rows"
            ]
          },
          "metadata": {},
          "output_type": "display_data"
        }
      ],
      "source": [
        "mt.variant_qc.show()"
      ]
    },
    {
      "cell_type": "markdown",
      "metadata": {
        "id": "K1MPrnH5svG6"
      },
      "source": [
        "Metrics like `call_rate` are important for QC. Let's plot the cumulative density function of call rate per variant:"
      ]
    },
    {
      "cell_type": "code",
      "execution_count": null,
      "metadata": {
        "id": "KX7Qc3CssvG6",
        "outputId": "0097064a-9564-4990-8c93-46068280d893"
      },
      "outputs": [
        {
          "data": {
            "text/html": [
              "<iframe\n",
              "    scrolling=\"no\"\n",
              "    width=\"100%\"\n",
              "    height=\"545px\"\n",
              "    src=\"iframe_figures/figure_31.html\"\n",
              "    frameborder=\"0\"\n",
              "    allowfullscreen\n",
              "></iframe>\n"
            ],
            "text/plain": [
              "<hail.ggplot.ggplot.GGPlot at 0x7fe3621a0f70>"
            ]
          },
          "execution_count": 31,
          "metadata": {},
          "output_type": "execute_result"
        }
      ],
      "source": [
        "ggplot(mt, aes(x=mt.variant_qc.call_rate)) + geom_density() + xlab('Variant Call Rate') + ylab('Density')"
      ]
    },
    {
      "cell_type": "markdown",
      "metadata": {
        "id": "npf6R2SSsvG6"
      },
      "source": [
        "Before filtering variants, we should compute a raw variant count:"
      ]
    },
    {
      "cell_type": "code",
      "execution_count": null,
      "metadata": {
        "id": "W-t6jHQXsvG6",
        "outputId": "3d31b3b8-46e7-4553-e24d-4458079e7fe6"
      },
      "outputs": [
        {
          "data": {
            "text/plain": [
              "10441"
            ]
          },
          "execution_count": 32,
          "metadata": {},
          "output_type": "execute_result"
        }
      ],
      "source": [
        "# pre-qc variant count\n",
        "mt.count_rows()"
      ]
    },
    {
      "cell_type": "markdown",
      "metadata": {
        "id": "s_6gnB6ksvG7"
      },
      "source": [
        "`filter_rows` removes entire rows of the matrix table. Here, we keep rows where the `call_rate` is over 95%:"
      ]
    },
    {
      "cell_type": "code",
      "execution_count": null,
      "metadata": {
        "id": "3AcUw_X-svG7"
      },
      "outputs": [],
      "source": [
        "mt = mt.filter_rows(mt.variant_qc.call_rate > 0.95)"
      ]
    },
    {
      "cell_type": "markdown",
      "metadata": {
        "id": "J31OLNs4svG7"
      },
      "source": [
        "### Hardy-Weinberg filter\n",
        "\n",
        "In past sessions, you have seen filters on Hardy-Weinberg equilibrium using tools like PLINK.\n",
        "\n",
        "Hail can do the same. First, let's plot the log-scaled HWE p-values per variant:"
      ]
    },
    {
      "cell_type": "code",
      "execution_count": null,
      "metadata": {
        "id": "0j2vXR6csvG7",
        "outputId": "ec2d1b64-5900-4c00-acf1-ce1111f22f27"
      },
      "outputs": [
        {
          "name": "stderr",
          "output_type": "stream",
          "text": [
            "[Stage 30:===========================================>              (3 + 1) / 4]\r"
          ]
        },
        {
          "data": {
            "text/html": [
              "<iframe\n",
              "    scrolling=\"no\"\n",
              "    width=\"100%\"\n",
              "    height=\"545px\"\n",
              "    src=\"iframe_figures/figure_34.html\"\n",
              "    frameborder=\"0\"\n",
              "    allowfullscreen\n",
              "></iframe>\n"
            ],
            "text/plain": [
              "<hail.ggplot.ggplot.GGPlot at 0x7fe3621aae20>"
            ]
          },
          "execution_count": 34,
          "metadata": {},
          "output_type": "execute_result"
        }
      ],
      "source": [
        "(ggplot(mt, aes(x=-hl.log10(mt.variant_qc.p_value_hwe)))\n",
        " + geom_histogram()\n",
        " + xlab(\"-log10 pHWE\")\n",
        " + ylab(\"density\"))"
      ]
    },
    {
      "cell_type": "markdown",
      "metadata": {
        "id": "bfZ6MfcnsvG7"
      },
      "source": [
        "There are some **extremely** bad variants here, with p-values smaller than 1e-100. Let's look at some of these variants:"
      ]
    },
    {
      "cell_type": "code",
      "execution_count": null,
      "metadata": {
        "id": "n5cKcrbxsvG7",
        "outputId": "560003c9-734a-4070-9b37-a034a0a18486"
      },
      "outputs": [
        {
          "name": "stderr",
          "output_type": "stream",
          "text": [
            "[Stage 33:=============================>                            (2 + 2) / 4]\r"
          ]
        },
        {
          "data": {
            "text/html": [
              "<table><thead><tr><td style=\"white-space: nowrap; max-width: 500px; overflow: hidden; text-overflow: ellipsis; \" colspan=\"1\"><div style=\"text-align: left;\"></div></td><td style=\"white-space: nowrap; max-width: 500px; overflow: hidden; text-overflow: ellipsis; \" colspan=\"1\"><div style=\"text-align: left;\"></div></td><td style=\"white-space: nowrap; max-width: 500px; overflow: hidden; text-overflow: ellipsis; \" colspan=\"1\"><div style=\"text-align: left;\"></div></td><td style=\"white-space: nowrap; max-width: 500px; overflow: hidden; text-overflow: ellipsis; \" colspan=\"1\"><div style=\"text-align: left;\"></div></td><td style=\"white-space: nowrap; max-width: 500px; overflow: hidden; text-overflow: ellipsis; \" colspan=\"1\"><div style=\"text-align: left;\"></div></td><td style=\"white-space: nowrap; max-width: 500px; overflow: hidden; text-overflow: ellipsis; \" colspan=\"25\"><div style=\"text-align: left;\"></div></td><td style=\"white-space: nowrap; max-width: 500px; overflow: hidden; text-overflow: ellipsis; \" colspan=\"21\"><div style=\"text-align: left;\"></div></td></tr><tr><td style=\"white-space: nowrap; max-width: 500px; overflow: hidden; text-overflow: ellipsis; \" colspan=\"1\"><div style=\"text-align: left;\"></div></td><td style=\"white-space: nowrap; max-width: 500px; overflow: hidden; text-overflow: ellipsis; \" colspan=\"1\"><div style=\"text-align: left;\"></div></td><td style=\"white-space: nowrap; max-width: 500px; overflow: hidden; text-overflow: ellipsis; \" colspan=\"1\"><div style=\"text-align: left;\"></div></td><td style=\"white-space: nowrap; max-width: 500px; overflow: hidden; text-overflow: ellipsis; \" colspan=\"1\"><div style=\"text-align: left;\"></div></td><td style=\"white-space: nowrap; max-width: 500px; overflow: hidden; text-overflow: ellipsis; \" colspan=\"1\"><div style=\"text-align: left;\"></div></td><td style=\"white-space: nowrap; max-width: 500px; overflow: hidden; text-overflow: ellipsis; \" colspan=\"25\"><div style=\"text-align: left;\"></div></td><td style=\"white-space: nowrap; max-width: 500px; overflow: hidden; text-overflow: ellipsis; \" colspan=\"21\"><div style=\"text-align: left;border-bottom: solid 2px #000; padding-bottom: 5px\">variant_qc</div></td></tr><tr><td style=\"white-space: nowrap; max-width: 500px; overflow: hidden; text-overflow: ellipsis; \" colspan=\"1\"><div style=\"text-align: left;\"></div></td><td style=\"white-space: nowrap; max-width: 500px; overflow: hidden; text-overflow: ellipsis; \" colspan=\"1\"><div style=\"text-align: left;\"></div></td><td style=\"white-space: nowrap; max-width: 500px; overflow: hidden; text-overflow: ellipsis; \" colspan=\"1\"><div style=\"text-align: left;\"></div></td><td style=\"white-space: nowrap; max-width: 500px; overflow: hidden; text-overflow: ellipsis; \" colspan=\"1\"><div style=\"text-align: left;\"></div></td><td style=\"white-space: nowrap; max-width: 500px; overflow: hidden; text-overflow: ellipsis; \" colspan=\"1\"><div style=\"text-align: left;\"></div></td><td style=\"white-space: nowrap; max-width: 500px; overflow: hidden; text-overflow: ellipsis; \" colspan=\"25\"><div style=\"text-align: left;border-bottom: solid 2px #000; padding-bottom: 5px\">info</div></td><td style=\"white-space: nowrap; max-width: 500px; overflow: hidden; text-overflow: ellipsis; \" colspan=\"4\"><div style=\"text-align: left;border-bottom: solid 2px #000; padding-bottom: 5px\">dp_stats</div></td><td style=\"white-space: nowrap; max-width: 500px; overflow: hidden; text-overflow: ellipsis; \" colspan=\"4\"><div style=\"text-align: left;border-bottom: solid 2px #000; padding-bottom: 5px\">gq_stats</div></td><td style=\"white-space: nowrap; max-width: 500px; overflow: hidden; text-overflow: ellipsis; \" colspan=\"1\"><div style=\"text-align: left;\"></div></td><td style=\"white-space: nowrap; max-width: 500px; overflow: hidden; text-overflow: ellipsis; \" colspan=\"1\"><div style=\"text-align: left;\"></div></td><td style=\"white-space: nowrap; max-width: 500px; overflow: hidden; text-overflow: ellipsis; \" colspan=\"1\"><div style=\"text-align: left;\"></div></td><td style=\"white-space: nowrap; max-width: 500px; overflow: hidden; text-overflow: ellipsis; \" colspan=\"1\"><div style=\"text-align: left;\"></div></td><td style=\"white-space: nowrap; max-width: 500px; overflow: hidden; text-overflow: ellipsis; \" colspan=\"1\"><div style=\"text-align: left;\"></div></td><td style=\"white-space: nowrap; max-width: 500px; overflow: hidden; text-overflow: ellipsis; \" colspan=\"1\"><div style=\"text-align: left;\"></div></td><td style=\"white-space: nowrap; max-width: 500px; overflow: hidden; text-overflow: ellipsis; \" colspan=\"1\"><div style=\"text-align: left;\"></div></td><td style=\"white-space: nowrap; max-width: 500px; overflow: hidden; text-overflow: ellipsis; \" colspan=\"1\"><div style=\"text-align: left;\"></div></td><td style=\"white-space: nowrap; max-width: 500px; overflow: hidden; text-overflow: ellipsis; \" colspan=\"1\"><div style=\"text-align: left;\"></div></td><td style=\"white-space: nowrap; max-width: 500px; overflow: hidden; text-overflow: ellipsis; \" colspan=\"1\"><div style=\"text-align: left;\"></div></td><td style=\"white-space: nowrap; max-width: 500px; overflow: hidden; text-overflow: ellipsis; \" colspan=\"1\"><div style=\"text-align: left;\"></div></td><td style=\"white-space: nowrap; max-width: 500px; overflow: hidden; text-overflow: ellipsis; \" colspan=\"1\"><div style=\"text-align: left;\"></div></td><td style=\"white-space: nowrap; max-width: 500px; overflow: hidden; text-overflow: ellipsis; \" colspan=\"1\"><div style=\"text-align: left;\"></div></td></tr><tr><td style=\"white-space: nowrap; max-width: 500px; overflow: hidden; text-overflow: ellipsis; \" colspan=\"1\"><div style=\"text-align: left;border-bottom: solid 2px #000; padding-bottom: 5px\">locus</div></td><td style=\"white-space: nowrap; max-width: 500px; overflow: hidden; text-overflow: ellipsis; \" colspan=\"1\"><div style=\"text-align: left;border-bottom: solid 2px #000; padding-bottom: 5px\">alleles</div></td><td style=\"white-space: nowrap; max-width: 500px; overflow: hidden; text-overflow: ellipsis; \" colspan=\"1\"><div style=\"text-align: left;border-bottom: solid 2px #000; padding-bottom: 5px\">rsid</div></td><td style=\"white-space: nowrap; max-width: 500px; overflow: hidden; text-overflow: ellipsis; \" colspan=\"1\"><div style=\"text-align: left;border-bottom: solid 2px #000; padding-bottom: 5px\">qual</div></td><td style=\"white-space: nowrap; max-width: 500px; overflow: hidden; text-overflow: ellipsis; \" colspan=\"1\"><div style=\"text-align: left;border-bottom: solid 2px #000; padding-bottom: 5px\">filters</div></td><td style=\"white-space: nowrap; max-width: 500px; overflow: hidden; text-overflow: ellipsis; \" colspan=\"1\"><div style=\"text-align: left;border-bottom: solid 2px #000; padding-bottom: 5px\">QUALapprox</div></td><td style=\"white-space: nowrap; max-width: 500px; overflow: hidden; text-overflow: ellipsis; \" colspan=\"1\"><div style=\"text-align: left;border-bottom: solid 2px #000; padding-bottom: 5px\">SB</div></td><td style=\"white-space: nowrap; max-width: 500px; overflow: hidden; text-overflow: ellipsis; \" colspan=\"1\"><div style=\"text-align: left;border-bottom: solid 2px #000; padding-bottom: 5px\">MQ</div></td><td style=\"white-space: nowrap; max-width: 500px; overflow: hidden; text-overflow: ellipsis; \" colspan=\"1\"><div style=\"text-align: left;border-bottom: solid 2px #000; padding-bottom: 5px\">MQRankSum</div></td><td style=\"white-space: nowrap; max-width: 500px; overflow: hidden; text-overflow: ellipsis; \" colspan=\"1\"><div style=\"text-align: left;border-bottom: solid 2px #000; padding-bottom: 5px\">VarDP</div></td><td style=\"white-space: nowrap; max-width: 500px; overflow: hidden; text-overflow: ellipsis; \" colspan=\"1\"><div style=\"text-align: left;border-bottom: solid 2px #000; padding-bottom: 5px\">AS_ReadPosRankSum</div></td><td style=\"white-space: nowrap; max-width: 500px; overflow: hidden; text-overflow: ellipsis; \" colspan=\"1\"><div style=\"text-align: left;border-bottom: solid 2px #000; padding-bottom: 5px\">AS_pab_max</div></td><td style=\"white-space: nowrap; max-width: 500px; overflow: hidden; text-overflow: ellipsis; \" colspan=\"1\"><div style=\"text-align: left;border-bottom: solid 2px #000; padding-bottom: 5px\">AS_QD</div></td><td style=\"white-space: nowrap; max-width: 500px; overflow: hidden; text-overflow: ellipsis; \" colspan=\"1\"><div style=\"text-align: left;border-bottom: solid 2px #000; padding-bottom: 5px\">AS_MQ</div></td><td style=\"white-space: nowrap; max-width: 500px; overflow: hidden; text-overflow: ellipsis; \" colspan=\"1\"><div style=\"text-align: left;border-bottom: solid 2px #000; padding-bottom: 5px\">QD</div></td><td style=\"white-space: nowrap; max-width: 500px; overflow: hidden; text-overflow: ellipsis; \" colspan=\"1\"><div style=\"text-align: left;border-bottom: solid 2px #000; padding-bottom: 5px\">AS_MQRankSum</div></td><td style=\"white-space: nowrap; max-width: 500px; overflow: hidden; text-overflow: ellipsis; \" colspan=\"1\"><div style=\"text-align: left;border-bottom: solid 2px #000; padding-bottom: 5px\">FS</div></td><td style=\"white-space: nowrap; max-width: 500px; overflow: hidden; text-overflow: ellipsis; \" colspan=\"1\"><div style=\"text-align: left;border-bottom: solid 2px #000; padding-bottom: 5px\">AS_FS</div></td><td style=\"white-space: nowrap; max-width: 500px; overflow: hidden; text-overflow: ellipsis; \" colspan=\"1\"><div style=\"text-align: left;border-bottom: solid 2px #000; padding-bottom: 5px\">ReadPosRankSum</div></td><td style=\"white-space: nowrap; max-width: 500px; overflow: hidden; text-overflow: ellipsis; \" colspan=\"1\"><div style=\"text-align: left;border-bottom: solid 2px #000; padding-bottom: 5px\">AS_QUALapprox</div></td><td style=\"white-space: nowrap; max-width: 500px; overflow: hidden; text-overflow: ellipsis; \" colspan=\"1\"><div style=\"text-align: left;border-bottom: solid 2px #000; padding-bottom: 5px\">AS_SB_TABLE</div></td><td style=\"white-space: nowrap; max-width: 500px; overflow: hidden; text-overflow: ellipsis; \" colspan=\"1\"><div style=\"text-align: left;border-bottom: solid 2px #000; padding-bottom: 5px\">AS_VarDP</div></td><td style=\"white-space: nowrap; max-width: 500px; overflow: hidden; text-overflow: ellipsis; \" colspan=\"1\"><div style=\"text-align: left;border-bottom: solid 2px #000; padding-bottom: 5px\">AS_SOR</div></td><td style=\"white-space: nowrap; max-width: 500px; overflow: hidden; text-overflow: ellipsis; \" colspan=\"1\"><div style=\"text-align: left;border-bottom: solid 2px #000; padding-bottom: 5px\">SOR</div></td><td style=\"white-space: nowrap; max-width: 500px; overflow: hidden; text-overflow: ellipsis; \" colspan=\"1\"><div style=\"text-align: left;border-bottom: solid 2px #000; padding-bottom: 5px\">transmitted_singleton</div></td><td style=\"white-space: nowrap; max-width: 500px; overflow: hidden; text-overflow: ellipsis; \" colspan=\"1\"><div style=\"text-align: left;border-bottom: solid 2px #000; padding-bottom: 5px\">omni</div></td><td style=\"white-space: nowrap; max-width: 500px; overflow: hidden; text-overflow: ellipsis; \" colspan=\"1\"><div style=\"text-align: left;border-bottom: solid 2px #000; padding-bottom: 5px\">mills</div></td><td style=\"white-space: nowrap; max-width: 500px; overflow: hidden; text-overflow: ellipsis; \" colspan=\"1\"><div style=\"text-align: left;border-bottom: solid 2px #000; padding-bottom: 5px\">monoallelic</div></td><td style=\"white-space: nowrap; max-width: 500px; overflow: hidden; text-overflow: ellipsis; \" colspan=\"1\"><div style=\"text-align: left;border-bottom: solid 2px #000; padding-bottom: 5px\">AS_VQSLOD</div></td><td style=\"white-space: nowrap; max-width: 500px; overflow: hidden; text-overflow: ellipsis; \" colspan=\"1\"><div style=\"text-align: left;border-bottom: solid 2px #000; padding-bottom: 5px\">InbreedingCoeff</div></td><td style=\"white-space: nowrap; max-width: 500px; overflow: hidden; text-overflow: ellipsis; \" colspan=\"1\"><div style=\"text-align: left;border-bottom: solid 2px #000; padding-bottom: 5px\">mean</div></td><td style=\"white-space: nowrap; max-width: 500px; overflow: hidden; text-overflow: ellipsis; \" colspan=\"1\"><div style=\"text-align: left;border-bottom: solid 2px #000; padding-bottom: 5px\">stdev</div></td><td style=\"white-space: nowrap; max-width: 500px; overflow: hidden; text-overflow: ellipsis; \" colspan=\"1\"><div style=\"text-align: left;border-bottom: solid 2px #000; padding-bottom: 5px\">min</div></td><td style=\"white-space: nowrap; max-width: 500px; overflow: hidden; text-overflow: ellipsis; \" colspan=\"1\"><div style=\"text-align: left;border-bottom: solid 2px #000; padding-bottom: 5px\">max</div></td><td style=\"white-space: nowrap; max-width: 500px; overflow: hidden; text-overflow: ellipsis; \" colspan=\"1\"><div style=\"text-align: left;border-bottom: solid 2px #000; padding-bottom: 5px\">mean</div></td><td style=\"white-space: nowrap; max-width: 500px; overflow: hidden; text-overflow: ellipsis; \" colspan=\"1\"><div style=\"text-align: left;border-bottom: solid 2px #000; padding-bottom: 5px\">stdev</div></td><td style=\"white-space: nowrap; max-width: 500px; overflow: hidden; text-overflow: ellipsis; \" colspan=\"1\"><div style=\"text-align: left;border-bottom: solid 2px #000; padding-bottom: 5px\">min</div></td><td style=\"white-space: nowrap; max-width: 500px; overflow: hidden; text-overflow: ellipsis; \" colspan=\"1\"><div style=\"text-align: left;border-bottom: solid 2px #000; padding-bottom: 5px\">max</div></td><td style=\"white-space: nowrap; max-width: 500px; overflow: hidden; text-overflow: ellipsis; \" colspan=\"1\"><div style=\"text-align: left;border-bottom: solid 2px #000; padding-bottom: 5px\">AC</div></td><td style=\"white-space: nowrap; max-width: 500px; overflow: hidden; text-overflow: ellipsis; \" colspan=\"1\"><div style=\"text-align: left;border-bottom: solid 2px #000; padding-bottom: 5px\">AF</div></td><td style=\"white-space: nowrap; max-width: 500px; overflow: hidden; text-overflow: ellipsis; \" colspan=\"1\"><div style=\"text-align: left;border-bottom: solid 2px #000; padding-bottom: 5px\">AN</div></td><td style=\"white-space: nowrap; max-width: 500px; overflow: hidden; text-overflow: ellipsis; \" colspan=\"1\"><div style=\"text-align: left;border-bottom: solid 2px #000; padding-bottom: 5px\">homozygote_count</div></td><td style=\"white-space: nowrap; max-width: 500px; overflow: hidden; text-overflow: ellipsis; \" colspan=\"1\"><div style=\"text-align: left;border-bottom: solid 2px #000; padding-bottom: 5px\">call_rate</div></td><td style=\"white-space: nowrap; max-width: 500px; overflow: hidden; text-overflow: ellipsis; \" colspan=\"1\"><div style=\"text-align: left;border-bottom: solid 2px #000; padding-bottom: 5px\">n_called</div></td><td style=\"white-space: nowrap; max-width: 500px; overflow: hidden; text-overflow: ellipsis; \" colspan=\"1\"><div style=\"text-align: left;border-bottom: solid 2px #000; padding-bottom: 5px\">n_not_called</div></td><td style=\"white-space: nowrap; max-width: 500px; overflow: hidden; text-overflow: ellipsis; \" colspan=\"1\"><div style=\"text-align: left;border-bottom: solid 2px #000; padding-bottom: 5px\">n_filtered</div></td><td style=\"white-space: nowrap; max-width: 500px; overflow: hidden; text-overflow: ellipsis; \" colspan=\"1\"><div style=\"text-align: left;border-bottom: solid 2px #000; padding-bottom: 5px\">n_het</div></td><td style=\"white-space: nowrap; max-width: 500px; overflow: hidden; text-overflow: ellipsis; \" colspan=\"1\"><div style=\"text-align: left;border-bottom: solid 2px #000; padding-bottom: 5px\">n_non_ref</div></td><td style=\"white-space: nowrap; max-width: 500px; overflow: hidden; text-overflow: ellipsis; \" colspan=\"1\"><div style=\"text-align: left;border-bottom: solid 2px #000; padding-bottom: 5px\">het_freq_hwe</div></td><td style=\"white-space: nowrap; max-width: 500px; overflow: hidden; text-overflow: ellipsis; \" colspan=\"1\"><div style=\"text-align: left;border-bottom: solid 2px #000; padding-bottom: 5px\">p_value_hwe</div></td><td style=\"white-space: nowrap; max-width: 500px; overflow: hidden; text-overflow: ellipsis; \" colspan=\"1\"><div style=\"text-align: left;border-bottom: solid 2px #000; padding-bottom: 5px\">p_value_excess_het</div></td></tr><tr><td style=\"white-space: nowrap; max-width: 500px; overflow: hidden; text-overflow: ellipsis; text-align: left;\">locus&lt;GRCh38&gt;</td><td style=\"white-space: nowrap; max-width: 500px; overflow: hidden; text-overflow: ellipsis; text-align: left;\">array&lt;str&gt;</td><td style=\"white-space: nowrap; max-width: 500px; overflow: hidden; text-overflow: ellipsis; text-align: left;\">str</td><td style=\"white-space: nowrap; max-width: 500px; overflow: hidden; text-overflow: ellipsis; text-align: left;\">float64</td><td style=\"white-space: nowrap; max-width: 500px; overflow: hidden; text-overflow: ellipsis; text-align: left;\">set&lt;str&gt;</td><td style=\"white-space: nowrap; max-width: 500px; overflow: hidden; text-overflow: ellipsis; text-align: left;\">int32</td><td style=\"white-space: nowrap; max-width: 500px; overflow: hidden; text-overflow: ellipsis; text-align: left;\">array&lt;int32&gt;</td><td style=\"white-space: nowrap; max-width: 500px; overflow: hidden; text-overflow: ellipsis; text-align: left;\">float64</td><td style=\"white-space: nowrap; max-width: 500px; overflow: hidden; text-overflow: ellipsis; text-align: left;\">float64</td><td style=\"white-space: nowrap; max-width: 500px; overflow: hidden; text-overflow: ellipsis; text-align: left;\">int32</td><td style=\"white-space: nowrap; max-width: 500px; overflow: hidden; text-overflow: ellipsis; text-align: left;\">float64</td><td style=\"white-space: nowrap; max-width: 500px; overflow: hidden; text-overflow: ellipsis; text-align: left;\">float64</td><td style=\"white-space: nowrap; max-width: 500px; overflow: hidden; text-overflow: ellipsis; text-align: left;\">float64</td><td style=\"white-space: nowrap; max-width: 500px; overflow: hidden; text-overflow: ellipsis; text-align: left;\">float64</td><td style=\"white-space: nowrap; max-width: 500px; overflow: hidden; text-overflow: ellipsis; text-align: left;\">float64</td><td style=\"white-space: nowrap; max-width: 500px; overflow: hidden; text-overflow: ellipsis; text-align: left;\">float64</td><td style=\"white-space: nowrap; max-width: 500px; overflow: hidden; text-overflow: ellipsis; text-align: left;\">float64</td><td style=\"white-space: nowrap; max-width: 500px; overflow: hidden; text-overflow: ellipsis; text-align: left;\">float64</td><td style=\"white-space: nowrap; max-width: 500px; overflow: hidden; text-overflow: ellipsis; text-align: left;\">float64</td><td style=\"white-space: nowrap; max-width: 500px; overflow: hidden; text-overflow: ellipsis; text-align: left;\">int32</td><td style=\"white-space: nowrap; max-width: 500px; overflow: hidden; text-overflow: ellipsis; text-align: left;\">array&lt;int32&gt;</td><td style=\"white-space: nowrap; max-width: 500px; overflow: hidden; text-overflow: ellipsis; text-align: left;\">int32</td><td style=\"white-space: nowrap; max-width: 500px; overflow: hidden; text-overflow: ellipsis; text-align: left;\">float64</td><td style=\"white-space: nowrap; max-width: 500px; overflow: hidden; text-overflow: ellipsis; text-align: left;\">float64</td><td style=\"white-space: nowrap; max-width: 500px; overflow: hidden; text-overflow: ellipsis; text-align: left;\">bool</td><td style=\"white-space: nowrap; max-width: 500px; overflow: hidden; text-overflow: ellipsis; text-align: left;\">bool</td><td style=\"white-space: nowrap; max-width: 500px; overflow: hidden; text-overflow: ellipsis; text-align: left;\">bool</td><td style=\"white-space: nowrap; max-width: 500px; overflow: hidden; text-overflow: ellipsis; text-align: left;\">bool</td><td style=\"white-space: nowrap; max-width: 500px; overflow: hidden; text-overflow: ellipsis; text-align: left;\">float64</td><td style=\"white-space: nowrap; max-width: 500px; overflow: hidden; text-overflow: ellipsis; text-align: left;\">float64</td><td style=\"white-space: nowrap; max-width: 500px; overflow: hidden; text-overflow: ellipsis; text-align: left;\">float64</td><td style=\"white-space: nowrap; max-width: 500px; overflow: hidden; text-overflow: ellipsis; text-align: left;\">float64</td><td style=\"white-space: nowrap; max-width: 500px; overflow: hidden; text-overflow: ellipsis; text-align: left;\">float64</td><td style=\"white-space: nowrap; max-width: 500px; overflow: hidden; text-overflow: ellipsis; text-align: left;\">float64</td><td style=\"white-space: nowrap; max-width: 500px; overflow: hidden; text-overflow: ellipsis; text-align: left;\">float64</td><td style=\"white-space: nowrap; max-width: 500px; overflow: hidden; text-overflow: ellipsis; text-align: left;\">float64</td><td style=\"white-space: nowrap; max-width: 500px; overflow: hidden; text-overflow: ellipsis; text-align: left;\">float64</td><td style=\"white-space: nowrap; max-width: 500px; overflow: hidden; text-overflow: ellipsis; text-align: left;\">float64</td><td style=\"white-space: nowrap; max-width: 500px; overflow: hidden; text-overflow: ellipsis; text-align: left;\">array&lt;int32&gt;</td><td style=\"white-space: nowrap; max-width: 500px; overflow: hidden; text-overflow: ellipsis; text-align: left;\">array&lt;float64&gt;</td><td style=\"white-space: nowrap; max-width: 500px; overflow: hidden; text-overflow: ellipsis; text-align: left;\">int32</td><td style=\"white-space: nowrap; max-width: 500px; overflow: hidden; text-overflow: ellipsis; text-align: left;\">array&lt;int32&gt;</td><td style=\"white-space: nowrap; max-width: 500px; overflow: hidden; text-overflow: ellipsis; text-align: left;\">float64</td><td style=\"white-space: nowrap; max-width: 500px; overflow: hidden; text-overflow: ellipsis; text-align: left;\">int64</td><td style=\"white-space: nowrap; max-width: 500px; overflow: hidden; text-overflow: ellipsis; text-align: left;\">int64</td><td style=\"white-space: nowrap; max-width: 500px; overflow: hidden; text-overflow: ellipsis; text-align: left;\">int64</td><td style=\"white-space: nowrap; max-width: 500px; overflow: hidden; text-overflow: ellipsis; text-align: left;\">int64</td><td style=\"white-space: nowrap; max-width: 500px; overflow: hidden; text-overflow: ellipsis; text-align: left;\">int64</td><td style=\"white-space: nowrap; max-width: 500px; overflow: hidden; text-overflow: ellipsis; text-align: left;\">float64</td><td style=\"white-space: nowrap; max-width: 500px; overflow: hidden; text-overflow: ellipsis; text-align: left;\">float64</td><td style=\"white-space: nowrap; max-width: 500px; overflow: hidden; text-overflow: ellipsis; text-align: left;\">float64</td></tr>\n",
              "</thead><tbody><tr><td style=\"white-space: nowrap; max-width: 500px; overflow: hidden; text-overflow: ellipsis; \">chr1:125165544</td><td style=\"white-space: nowrap; max-width: 500px; overflow: hidden; text-overflow: ellipsis; \">[&quot;G&quot;,&quot;T&quot;]</td><td style=\"white-space: nowrap; max-width: 500px; overflow: hidden; text-overflow: ellipsis; \">NA</td><td style=\"white-space: nowrap; max-width: 500px; overflow: hidden; text-overflow: ellipsis; \">-1.00e+01</td><td style=\"white-space: nowrap; max-width: 500px; overflow: hidden; text-overflow: ellipsis; \">{&quot;InbreedingCoeff&quot;}</td><td style=\"white-space: nowrap; max-width: 500px; overflow: hidden; text-overflow: ellipsis; \">332680306</td><td style=\"white-space: nowrap; max-width: 500px; overflow: hidden; text-overflow: ellipsis; \">[2530347,2658319,4674032,5445216]</td><td style=\"white-space: nowrap; max-width: 500px; overflow: hidden; text-overflow: ellipsis; \">5.92e+01</td><td style=\"white-space: nowrap; max-width: 500px; overflow: hidden; text-overflow: ellipsis; \">-1.72e-01</td><td style=\"white-space: nowrap; max-width: 500px; overflow: hidden; text-overflow: ellipsis; \">15307914</td><td style=\"white-space: nowrap; max-width: 500px; overflow: hidden; text-overflow: ellipsis; \">5.29e-01</td><td style=\"white-space: nowrap; max-width: 500px; overflow: hidden; text-overflow: ellipsis; \">1.00e+00</td><td style=\"white-space: nowrap; max-width: 500px; overflow: hidden; text-overflow: ellipsis; \">2.17e+01</td><td style=\"white-space: nowrap; max-width: 500px; overflow: hidden; text-overflow: ellipsis; \">5.92e+01</td><td style=\"white-space: nowrap; max-width: 500px; overflow: hidden; text-overflow: ellipsis; \">2.17e+01</td><td style=\"white-space: nowrap; max-width: 500px; overflow: hidden; text-overflow: ellipsis; \">-1.77e-01</td><td style=\"white-space: nowrap; max-width: 500px; overflow: hidden; text-overflow: ellipsis; \">1.17e+00</td><td style=\"white-space: nowrap; max-width: 500px; overflow: hidden; text-overflow: ellipsis; \">1.17e+00</td><td style=\"white-space: nowrap; max-width: 500px; overflow: hidden; text-overflow: ellipsis; \">5.15e-01</td><td style=\"white-space: nowrap; max-width: 500px; overflow: hidden; text-overflow: ellipsis; \">332680306</td><td style=\"white-space: nowrap; max-width: 500px; overflow: hidden; text-overflow: ellipsis; \">[2530759,2658686,4674032,5445216]</td><td style=\"white-space: nowrap; max-width: 500px; overflow: hidden; text-overflow: ellipsis; \">15307914</td><td style=\"white-space: nowrap; max-width: 500px; overflow: hidden; text-overflow: ellipsis; \">8.02e-01</td><td style=\"white-space: nowrap; max-width: 500px; overflow: hidden; text-overflow: ellipsis; \">8.02e-01</td><td style=\"white-space: nowrap; max-width: 500px; overflow: hidden; text-overflow: ellipsis; \">False</td><td style=\"white-space: nowrap; max-width: 500px; overflow: hidden; text-overflow: ellipsis; \">False</td><td style=\"white-space: nowrap; max-width: 500px; overflow: hidden; text-overflow: ellipsis; \">False</td><td style=\"white-space: nowrap; max-width: 500px; overflow: hidden; text-overflow: ellipsis; \">False</td><td style=\"white-space: nowrap; max-width: 500px; overflow: hidden; text-overflow: ellipsis; \">-1.62e+00</td><td style=\"white-space: nowrap; max-width: 500px; overflow: hidden; text-overflow: ellipsis; \">-9.98e-01</td><td style=\"white-space: nowrap; max-width: 500px; overflow: hidden; text-overflow: ellipsis; \">9.05e+01</td><td style=\"white-space: nowrap; max-width: 500px; overflow: hidden; text-overflow: ellipsis; \">2.26e+01</td><td style=\"white-space: nowrap; max-width: 500px; overflow: hidden; text-overflow: ellipsis; \">4.40e+01</td><td style=\"white-space: nowrap; max-width: 500px; overflow: hidden; text-overflow: ellipsis; \">3.13e+02</td><td style=\"white-space: nowrap; max-width: 500px; overflow: hidden; text-overflow: ellipsis; \">9.90e+01</td><td style=\"white-space: nowrap; max-width: 500px; overflow: hidden; text-overflow: ellipsis; \">0.00e+00</td><td style=\"white-space: nowrap; max-width: 500px; overflow: hidden; text-overflow: ellipsis; \">9.90e+01</td><td style=\"white-space: nowrap; max-width: 500px; overflow: hidden; text-overflow: ellipsis; \">9.90e+01</td><td style=\"white-space: nowrap; max-width: 500px; overflow: hidden; text-overflow: ellipsis; \">[385,385]</td><td style=\"white-space: nowrap; max-width: 500px; overflow: hidden; text-overflow: ellipsis; \">[5.00e-01,5.00e-01]</td><td style=\"white-space: nowrap; max-width: 500px; overflow: hidden; text-overflow: ellipsis; \">770</td><td style=\"white-space: nowrap; max-width: 500px; overflow: hidden; text-overflow: ellipsis; \">[0,0]</td><td style=\"white-space: nowrap; max-width: 500px; overflow: hidden; text-overflow: ellipsis; \">1.00e+00</td><td style=\"white-space: nowrap; max-width: 500px; overflow: hidden; text-overflow: ellipsis; \">385</td><td style=\"white-space: nowrap; max-width: 500px; overflow: hidden; text-overflow: ellipsis; \">0</td><td style=\"white-space: nowrap; max-width: 500px; overflow: hidden; text-overflow: ellipsis; \">0</td><td style=\"white-space: nowrap; max-width: 500px; overflow: hidden; text-overflow: ellipsis; \">385</td><td style=\"white-space: nowrap; max-width: 500px; overflow: hidden; text-overflow: ellipsis; \">385</td><td style=\"white-space: nowrap; max-width: 500px; overflow: hidden; text-overflow: ellipsis; \">5.01e-01</td><td style=\"white-space: nowrap; max-width: 500px; overflow: hidden; text-overflow: ellipsis; \">2.21e-115</td><td style=\"white-space: nowrap; max-width: 500px; overflow: hidden; text-overflow: ellipsis; \">2.21e-115</td></tr>\n",
              "<tr><td style=\"white-space: nowrap; max-width: 500px; overflow: hidden; text-overflow: ellipsis; \">chr2:94565722</td><td style=\"white-space: nowrap; max-width: 500px; overflow: hidden; text-overflow: ellipsis; \">[&quot;T&quot;,&quot;C&quot;]</td><td style=\"white-space: nowrap; max-width: 500px; overflow: hidden; text-overflow: ellipsis; \">&quot;rs1273701572&quot;</td><td style=\"white-space: nowrap; max-width: 500px; overflow: hidden; text-overflow: ellipsis; \">-1.00e+01</td><td style=\"white-space: nowrap; max-width: 500px; overflow: hidden; text-overflow: ellipsis; \">{&quot;InbreedingCoeff&quot;}</td><td style=\"white-space: nowrap; max-width: 500px; overflow: hidden; text-overflow: ellipsis; \">133145705</td><td style=\"white-space: nowrap; max-width: 500px; overflow: hidden; text-overflow: ellipsis; \">[2744392,2448688,2632227,938989]</td><td style=\"white-space: nowrap; max-width: 500px; overflow: hidden; text-overflow: ellipsis; \">5.38e+01</td><td style=\"white-space: nowrap; max-width: 500px; overflow: hidden; text-overflow: ellipsis; \">-5.59e+00</td><td style=\"white-space: nowrap; max-width: 500px; overflow: hidden; text-overflow: ellipsis; \">8764281</td><td style=\"white-space: nowrap; max-width: 500px; overflow: hidden; text-overflow: ellipsis; \">1.06e+00</td><td style=\"white-space: nowrap; max-width: 500px; overflow: hidden; text-overflow: ellipsis; \">1.00e+00</td><td style=\"white-space: nowrap; max-width: 500px; overflow: hidden; text-overflow: ellipsis; \">1.52e+01</td><td style=\"white-space: nowrap; max-width: 500px; overflow: hidden; text-overflow: ellipsis; \">5.38e+01</td><td style=\"white-space: nowrap; max-width: 500px; overflow: hidden; text-overflow: ellipsis; \">1.52e+01</td><td style=\"white-space: nowrap; max-width: 500px; overflow: hidden; text-overflow: ellipsis; \">-5.61e+00</td><td style=\"white-space: nowrap; max-width: 500px; overflow: hidden; text-overflow: ellipsis; \">2.52e+01</td><td style=\"white-space: nowrap; max-width: 500px; overflow: hidden; text-overflow: ellipsis; \">2.52e+01</td><td style=\"white-space: nowrap; max-width: 500px; overflow: hidden; text-overflow: ellipsis; \">1.05e+00</td><td style=\"white-space: nowrap; max-width: 500px; overflow: hidden; text-overflow: ellipsis; \">133145705</td><td style=\"white-space: nowrap; max-width: 500px; overflow: hidden; text-overflow: ellipsis; \">[2744392,2448688,2632227,938989]</td><td style=\"white-space: nowrap; max-width: 500px; overflow: hidden; text-overflow: ellipsis; \">8764281</td><td style=\"white-space: nowrap; max-width: 500px; overflow: hidden; text-overflow: ellipsis; \">1.98e+00</td><td style=\"white-space: nowrap; max-width: 500px; overflow: hidden; text-overflow: ellipsis; \">1.98e+00</td><td style=\"white-space: nowrap; max-width: 500px; overflow: hidden; text-overflow: ellipsis; \">False</td><td style=\"white-space: nowrap; max-width: 500px; overflow: hidden; text-overflow: ellipsis; \">False</td><td style=\"white-space: nowrap; max-width: 500px; overflow: hidden; text-overflow: ellipsis; \">False</td><td style=\"white-space: nowrap; max-width: 500px; overflow: hidden; text-overflow: ellipsis; \">False</td><td style=\"white-space: nowrap; max-width: 500px; overflow: hidden; text-overflow: ellipsis; \">-2.50e+00</td><td style=\"white-space: nowrap; max-width: 500px; overflow: hidden; text-overflow: ellipsis; \">-9.99e-01</td><td style=\"white-space: nowrap; max-width: 500px; overflow: hidden; text-overflow: ellipsis; \">5.63e+01</td><td style=\"white-space: nowrap; max-width: 500px; overflow: hidden; text-overflow: ellipsis; \">1.36e+01</td><td style=\"white-space: nowrap; max-width: 500px; overflow: hidden; text-overflow: ellipsis; \">2.80e+01</td><td style=\"white-space: nowrap; max-width: 500px; overflow: hidden; text-overflow: ellipsis; \">1.29e+02</td><td style=\"white-space: nowrap; max-width: 500px; overflow: hidden; text-overflow: ellipsis; \">9.90e+01</td><td style=\"white-space: nowrap; max-width: 500px; overflow: hidden; text-overflow: ellipsis; \">0.00e+00</td><td style=\"white-space: nowrap; max-width: 500px; overflow: hidden; text-overflow: ellipsis; \">9.90e+01</td><td style=\"white-space: nowrap; max-width: 500px; overflow: hidden; text-overflow: ellipsis; \">9.90e+01</td><td style=\"white-space: nowrap; max-width: 500px; overflow: hidden; text-overflow: ellipsis; \">[385,385]</td><td style=\"white-space: nowrap; max-width: 500px; overflow: hidden; text-overflow: ellipsis; \">[5.00e-01,5.00e-01]</td><td style=\"white-space: nowrap; max-width: 500px; overflow: hidden; text-overflow: ellipsis; \">770</td><td style=\"white-space: nowrap; max-width: 500px; overflow: hidden; text-overflow: ellipsis; \">[0,0]</td><td style=\"white-space: nowrap; max-width: 500px; overflow: hidden; text-overflow: ellipsis; \">1.00e+00</td><td style=\"white-space: nowrap; max-width: 500px; overflow: hidden; text-overflow: ellipsis; \">385</td><td style=\"white-space: nowrap; max-width: 500px; overflow: hidden; text-overflow: ellipsis; \">0</td><td style=\"white-space: nowrap; max-width: 500px; overflow: hidden; text-overflow: ellipsis; \">0</td><td style=\"white-space: nowrap; max-width: 500px; overflow: hidden; text-overflow: ellipsis; \">385</td><td style=\"white-space: nowrap; max-width: 500px; overflow: hidden; text-overflow: ellipsis; \">385</td><td style=\"white-space: nowrap; max-width: 500px; overflow: hidden; text-overflow: ellipsis; \">5.01e-01</td><td style=\"white-space: nowrap; max-width: 500px; overflow: hidden; text-overflow: ellipsis; \">2.21e-115</td><td style=\"white-space: nowrap; max-width: 500px; overflow: hidden; text-overflow: ellipsis; \">2.21e-115</td></tr>\n",
              "<tr><td style=\"white-space: nowrap; max-width: 500px; overflow: hidden; text-overflow: ellipsis; \">chr2:113591601</td><td style=\"white-space: nowrap; max-width: 500px; overflow: hidden; text-overflow: ellipsis; \">[&quot;G&quot;,&quot;A&quot;]</td><td style=\"white-space: nowrap; max-width: 500px; overflow: hidden; text-overflow: ellipsis; \">&quot;rs6419550&quot;</td><td style=\"white-space: nowrap; max-width: 500px; overflow: hidden; text-overflow: ellipsis; \">-1.00e+01</td><td style=\"white-space: nowrap; max-width: 500px; overflow: hidden; text-overflow: ellipsis; \">{&quot;InbreedingCoeff&quot;}</td><td style=\"white-space: nowrap; max-width: 500px; overflow: hidden; text-overflow: ellipsis; \">124592291</td><td style=\"white-space: nowrap; max-width: 500px; overflow: hidden; text-overflow: ellipsis; \">[3447869,3213349,2778556,2338468]</td><td style=\"white-space: nowrap; max-width: 500px; overflow: hidden; text-overflow: ellipsis; \">4.69e+01</td><td style=\"white-space: nowrap; max-width: 500px; overflow: hidden; text-overflow: ellipsis; \">-2.27e+00</td><td style=\"white-space: nowrap; max-width: 500px; overflow: hidden; text-overflow: ellipsis; \">11778240</td><td style=\"white-space: nowrap; max-width: 500px; overflow: hidden; text-overflow: ellipsis; \">9.33e-01</td><td style=\"white-space: nowrap; max-width: 500px; overflow: hidden; text-overflow: ellipsis; \">1.00e+00</td><td style=\"white-space: nowrap; max-width: 500px; overflow: hidden; text-overflow: ellipsis; \">1.06e+01</td><td style=\"white-space: nowrap; max-width: 500px; overflow: hidden; text-overflow: ellipsis; \">4.69e+01</td><td style=\"white-space: nowrap; max-width: 500px; overflow: hidden; text-overflow: ellipsis; \">1.06e+01</td><td style=\"white-space: nowrap; max-width: 500px; overflow: hidden; text-overflow: ellipsis; \">-2.29e+00</td><td style=\"white-space: nowrap; max-width: 500px; overflow: hidden; text-overflow: ellipsis; \">1.11e+00</td><td style=\"white-space: nowrap; max-width: 500px; overflow: hidden; text-overflow: ellipsis; \">1.11e+00</td><td style=\"white-space: nowrap; max-width: 500px; overflow: hidden; text-overflow: ellipsis; \">9.38e-01</td><td style=\"white-space: nowrap; max-width: 500px; overflow: hidden; text-overflow: ellipsis; \">124592291</td><td style=\"white-space: nowrap; max-width: 500px; overflow: hidden; text-overflow: ellipsis; \">[3447869,3213349,2778556,2338468]</td><td style=\"white-space: nowrap; max-width: 500px; overflow: hidden; text-overflow: ellipsis; \">11778240</td><td style=\"white-space: nowrap; max-width: 500px; overflow: hidden; text-overflow: ellipsis; \">8.00e-01</td><td style=\"white-space: nowrap; max-width: 500px; overflow: hidden; text-overflow: ellipsis; \">8.00e-01</td><td style=\"white-space: nowrap; max-width: 500px; overflow: hidden; text-overflow: ellipsis; \">False</td><td style=\"white-space: nowrap; max-width: 500px; overflow: hidden; text-overflow: ellipsis; \">False</td><td style=\"white-space: nowrap; max-width: 500px; overflow: hidden; text-overflow: ellipsis; \">False</td><td style=\"white-space: nowrap; max-width: 500px; overflow: hidden; text-overflow: ellipsis; \">False</td><td style=\"white-space: nowrap; max-width: 500px; overflow: hidden; text-overflow: ellipsis; \">-3.95e-01</td><td style=\"white-space: nowrap; max-width: 500px; overflow: hidden; text-overflow: ellipsis; \">-1.00e+00</td><td style=\"white-space: nowrap; max-width: 500px; overflow: hidden; text-overflow: ellipsis; \">9.17e+01</td><td style=\"white-space: nowrap; max-width: 500px; overflow: hidden; text-overflow: ellipsis; \">1.96e+01</td><td style=\"white-space: nowrap; max-width: 500px; overflow: hidden; text-overflow: ellipsis; \">4.70e+01</td><td style=\"white-space: nowrap; max-width: 500px; overflow: hidden; text-overflow: ellipsis; \">1.76e+02</td><td style=\"white-space: nowrap; max-width: 500px; overflow: hidden; text-overflow: ellipsis; \">9.90e+01</td><td style=\"white-space: nowrap; max-width: 500px; overflow: hidden; text-overflow: ellipsis; \">0.00e+00</td><td style=\"white-space: nowrap; max-width: 500px; overflow: hidden; text-overflow: ellipsis; \">9.90e+01</td><td style=\"white-space: nowrap; max-width: 500px; overflow: hidden; text-overflow: ellipsis; \">9.90e+01</td><td style=\"white-space: nowrap; max-width: 500px; overflow: hidden; text-overflow: ellipsis; \">[385,385]</td><td style=\"white-space: nowrap; max-width: 500px; overflow: hidden; text-overflow: ellipsis; \">[5.00e-01,5.00e-01]</td><td style=\"white-space: nowrap; max-width: 500px; overflow: hidden; text-overflow: ellipsis; \">770</td><td style=\"white-space: nowrap; max-width: 500px; overflow: hidden; text-overflow: ellipsis; \">[0,0]</td><td style=\"white-space: nowrap; max-width: 500px; overflow: hidden; text-overflow: ellipsis; \">1.00e+00</td><td style=\"white-space: nowrap; max-width: 500px; overflow: hidden; text-overflow: ellipsis; \">385</td><td style=\"white-space: nowrap; max-width: 500px; overflow: hidden; text-overflow: ellipsis; \">0</td><td style=\"white-space: nowrap; max-width: 500px; overflow: hidden; text-overflow: ellipsis; \">0</td><td style=\"white-space: nowrap; max-width: 500px; overflow: hidden; text-overflow: ellipsis; \">385</td><td style=\"white-space: nowrap; max-width: 500px; overflow: hidden; text-overflow: ellipsis; \">385</td><td style=\"white-space: nowrap; max-width: 500px; overflow: hidden; text-overflow: ellipsis; \">5.01e-01</td><td style=\"white-space: nowrap; max-width: 500px; overflow: hidden; text-overflow: ellipsis; \">2.21e-115</td><td style=\"white-space: nowrap; max-width: 500px; overflow: hidden; text-overflow: ellipsis; \">2.21e-115</td></tr>\n",
              "<tr><td style=\"white-space: nowrap; max-width: 500px; overflow: hidden; text-overflow: ellipsis; \">chr3:77780883</td><td style=\"white-space: nowrap; max-width: 500px; overflow: hidden; text-overflow: ellipsis; \">[&quot;A&quot;,&quot;T&quot;]</td><td style=\"white-space: nowrap; max-width: 500px; overflow: hidden; text-overflow: ellipsis; \">&quot;rs75079699&quot;</td><td style=\"white-space: nowrap; max-width: 500px; overflow: hidden; text-overflow: ellipsis; \">-1.00e+01</td><td style=\"white-space: nowrap; max-width: 500px; overflow: hidden; text-overflow: ellipsis; \">{&quot;InbreedingCoeff&quot;}</td><td style=\"white-space: nowrap; max-width: 500px; overflow: hidden; text-overflow: ellipsis; \">179360814</td><td style=\"white-space: nowrap; max-width: 500px; overflow: hidden; text-overflow: ellipsis; \">[2431382,2598153,2418400,2106424]</td><td style=\"white-space: nowrap; max-width: 500px; overflow: hidden; text-overflow: ellipsis; \">6.00e+01</td><td style=\"white-space: nowrap; max-width: 500px; overflow: hidden; text-overflow: ellipsis; \">0.00e+00</td><td style=\"white-space: nowrap; max-width: 500px; overflow: hidden; text-overflow: ellipsis; \">9554359</td><td style=\"white-space: nowrap; max-width: 500px; overflow: hidden; text-overflow: ellipsis; \">-1.42e-01</td><td style=\"white-space: nowrap; max-width: 500px; overflow: hidden; text-overflow: ellipsis; \">1.00e+00</td><td style=\"white-space: nowrap; max-width: 500px; overflow: hidden; text-overflow: ellipsis; \">1.88e+01</td><td style=\"white-space: nowrap; max-width: 500px; overflow: hidden; text-overflow: ellipsis; \">6.00e+01</td><td style=\"white-space: nowrap; max-width: 500px; overflow: hidden; text-overflow: ellipsis; \">1.88e+01</td><td style=\"white-space: nowrap; max-width: 500px; overflow: hidden; text-overflow: ellipsis; \">-6.00e-03</td><td style=\"white-space: nowrap; max-width: 500px; overflow: hidden; text-overflow: ellipsis; \">3.18e+00</td><td style=\"white-space: nowrap; max-width: 500px; overflow: hidden; text-overflow: ellipsis; \">3.18e+00</td><td style=\"white-space: nowrap; max-width: 500px; overflow: hidden; text-overflow: ellipsis; \">-1.27e-01</td><td style=\"white-space: nowrap; max-width: 500px; overflow: hidden; text-overflow: ellipsis; \">179360814</td><td style=\"white-space: nowrap; max-width: 500px; overflow: hidden; text-overflow: ellipsis; \">[2431382,2598153,2418400,2106424]</td><td style=\"white-space: nowrap; max-width: 500px; overflow: hidden; text-overflow: ellipsis; \">9554359</td><td style=\"white-space: nowrap; max-width: 500px; overflow: hidden; text-overflow: ellipsis; \">7.86e-01</td><td style=\"white-space: nowrap; max-width: 500px; overflow: hidden; text-overflow: ellipsis; \">7.86e-01</td><td style=\"white-space: nowrap; max-width: 500px; overflow: hidden; text-overflow: ellipsis; \">False</td><td style=\"white-space: nowrap; max-width: 500px; overflow: hidden; text-overflow: ellipsis; \">False</td><td style=\"white-space: nowrap; max-width: 500px; overflow: hidden; text-overflow: ellipsis; \">False</td><td style=\"white-space: nowrap; max-width: 500px; overflow: hidden; text-overflow: ellipsis; \">False</td><td style=\"white-space: nowrap; max-width: 500px; overflow: hidden; text-overflow: ellipsis; \">1.22e+00</td><td style=\"white-space: nowrap; max-width: 500px; overflow: hidden; text-overflow: ellipsis; \">-1.00e+00</td><td style=\"white-space: nowrap; max-width: 500px; overflow: hidden; text-overflow: ellipsis; \">5.81e+01</td><td style=\"white-space: nowrap; max-width: 500px; overflow: hidden; text-overflow: ellipsis; \">1.15e+01</td><td style=\"white-space: nowrap; max-width: 500px; overflow: hidden; text-overflow: ellipsis; \">3.20e+01</td><td style=\"white-space: nowrap; max-width: 500px; overflow: hidden; text-overflow: ellipsis; \">1.47e+02</td><td style=\"white-space: nowrap; max-width: 500px; overflow: hidden; text-overflow: ellipsis; \">9.90e+01</td><td style=\"white-space: nowrap; max-width: 500px; overflow: hidden; text-overflow: ellipsis; \">0.00e+00</td><td style=\"white-space: nowrap; max-width: 500px; overflow: hidden; text-overflow: ellipsis; \">9.90e+01</td><td style=\"white-space: nowrap; max-width: 500px; overflow: hidden; text-overflow: ellipsis; \">9.90e+01</td><td style=\"white-space: nowrap; max-width: 500px; overflow: hidden; text-overflow: ellipsis; \">[385,385]</td><td style=\"white-space: nowrap; max-width: 500px; overflow: hidden; text-overflow: ellipsis; \">[5.00e-01,5.00e-01]</td><td style=\"white-space: nowrap; max-width: 500px; overflow: hidden; text-overflow: ellipsis; \">770</td><td style=\"white-space: nowrap; max-width: 500px; overflow: hidden; text-overflow: ellipsis; \">[0,0]</td><td style=\"white-space: nowrap; max-width: 500px; overflow: hidden; text-overflow: ellipsis; \">1.00e+00</td><td style=\"white-space: nowrap; max-width: 500px; overflow: hidden; text-overflow: ellipsis; \">385</td><td style=\"white-space: nowrap; max-width: 500px; overflow: hidden; text-overflow: ellipsis; \">0</td><td style=\"white-space: nowrap; max-width: 500px; overflow: hidden; text-overflow: ellipsis; \">0</td><td style=\"white-space: nowrap; max-width: 500px; overflow: hidden; text-overflow: ellipsis; \">385</td><td style=\"white-space: nowrap; max-width: 500px; overflow: hidden; text-overflow: ellipsis; \">385</td><td style=\"white-space: nowrap; max-width: 500px; overflow: hidden; text-overflow: ellipsis; \">5.01e-01</td><td style=\"white-space: nowrap; max-width: 500px; overflow: hidden; text-overflow: ellipsis; \">2.21e-115</td><td style=\"white-space: nowrap; max-width: 500px; overflow: hidden; text-overflow: ellipsis; \">2.21e-115</td></tr>\n",
              "<tr><td style=\"white-space: nowrap; max-width: 500px; overflow: hidden; text-overflow: ellipsis; \">chr5:46433521</td><td style=\"white-space: nowrap; max-width: 500px; overflow: hidden; text-overflow: ellipsis; \">[&quot;G&quot;,&quot;C&quot;]</td><td style=\"white-space: nowrap; max-width: 500px; overflow: hidden; text-overflow: ellipsis; \">NA</td><td style=\"white-space: nowrap; max-width: 500px; overflow: hidden; text-overflow: ellipsis; \">-1.00e+01</td><td style=\"white-space: nowrap; max-width: 500px; overflow: hidden; text-overflow: ellipsis; \">{&quot;InbreedingCoeff&quot;}</td><td style=\"white-space: nowrap; max-width: 500px; overflow: hidden; text-overflow: ellipsis; \">115906887</td><td style=\"white-space: nowrap; max-width: 500px; overflow: hidden; text-overflow: ellipsis; \">[2362879,2344419,2204239,1144094]</td><td style=\"white-space: nowrap; max-width: 500px; overflow: hidden; text-overflow: ellipsis; \">5.32e+01</td><td style=\"white-space: nowrap; max-width: 500px; overflow: hidden; text-overflow: ellipsis; \">-2.23e+00</td><td style=\"white-space: nowrap; max-width: 500px; overflow: hidden; text-overflow: ellipsis; \">8055631</td><td style=\"white-space: nowrap; max-width: 500px; overflow: hidden; text-overflow: ellipsis; \">9.49e-01</td><td style=\"white-space: nowrap; max-width: 500px; overflow: hidden; text-overflow: ellipsis; \">1.00e+00</td><td style=\"white-space: nowrap; max-width: 500px; overflow: hidden; text-overflow: ellipsis; \">1.44e+01</td><td style=\"white-space: nowrap; max-width: 500px; overflow: hidden; text-overflow: ellipsis; \">5.32e+01</td><td style=\"white-space: nowrap; max-width: 500px; overflow: hidden; text-overflow: ellipsis; \">1.44e+01</td><td style=\"white-space: nowrap; max-width: 500px; overflow: hidden; text-overflow: ellipsis; \">-2.19e+00</td><td style=\"white-space: nowrap; max-width: 500px; overflow: hidden; text-overflow: ellipsis; \">1.53e+01</td><td style=\"white-space: nowrap; max-width: 500px; overflow: hidden; text-overflow: ellipsis; \">1.53e+01</td><td style=\"white-space: nowrap; max-width: 500px; overflow: hidden; text-overflow: ellipsis; \">9.54e-01</td><td style=\"white-space: nowrap; max-width: 500px; overflow: hidden; text-overflow: ellipsis; \">115906389</td><td style=\"white-space: nowrap; max-width: 500px; overflow: hidden; text-overflow: ellipsis; \">[2362886,2344431,2204225,1144085]</td><td style=\"white-space: nowrap; max-width: 500px; overflow: hidden; text-overflow: ellipsis; \">8055567</td><td style=\"white-space: nowrap; max-width: 500px; overflow: hidden; text-overflow: ellipsis; \">1.54e+00</td><td style=\"white-space: nowrap; max-width: 500px; overflow: hidden; text-overflow: ellipsis; \">1.54e+00</td><td style=\"white-space: nowrap; max-width: 500px; overflow: hidden; text-overflow: ellipsis; \">False</td><td style=\"white-space: nowrap; max-width: 500px; overflow: hidden; text-overflow: ellipsis; \">False</td><td style=\"white-space: nowrap; max-width: 500px; overflow: hidden; text-overflow: ellipsis; \">False</td><td style=\"white-space: nowrap; max-width: 500px; overflow: hidden; text-overflow: ellipsis; \">False</td><td style=\"white-space: nowrap; max-width: 500px; overflow: hidden; text-overflow: ellipsis; \">-1.18e+00</td><td style=\"white-space: nowrap; max-width: 500px; overflow: hidden; text-overflow: ellipsis; \">-9.97e-01</td><td style=\"white-space: nowrap; max-width: 500px; overflow: hidden; text-overflow: ellipsis; \">4.87e+01</td><td style=\"white-space: nowrap; max-width: 500px; overflow: hidden; text-overflow: ellipsis; \">1.02e+01</td><td style=\"white-space: nowrap; max-width: 500px; overflow: hidden; text-overflow: ellipsis; \">2.60e+01</td><td style=\"white-space: nowrap; max-width: 500px; overflow: hidden; text-overflow: ellipsis; \">1.16e+02</td><td style=\"white-space: nowrap; max-width: 500px; overflow: hidden; text-overflow: ellipsis; \">9.90e+01</td><td style=\"white-space: nowrap; max-width: 500px; overflow: hidden; text-overflow: ellipsis; \">0.00e+00</td><td style=\"white-space: nowrap; max-width: 500px; overflow: hidden; text-overflow: ellipsis; \">9.90e+01</td><td style=\"white-space: nowrap; max-width: 500px; overflow: hidden; text-overflow: ellipsis; \">9.90e+01</td><td style=\"white-space: nowrap; max-width: 500px; overflow: hidden; text-overflow: ellipsis; \">[385,385]</td><td style=\"white-space: nowrap; max-width: 500px; overflow: hidden; text-overflow: ellipsis; \">[5.00e-01,5.00e-01]</td><td style=\"white-space: nowrap; max-width: 500px; overflow: hidden; text-overflow: ellipsis; \">770</td><td style=\"white-space: nowrap; max-width: 500px; overflow: hidden; text-overflow: ellipsis; \">[0,0]</td><td style=\"white-space: nowrap; max-width: 500px; overflow: hidden; text-overflow: ellipsis; \">1.00e+00</td><td style=\"white-space: nowrap; max-width: 500px; overflow: hidden; text-overflow: ellipsis; \">385</td><td style=\"white-space: nowrap; max-width: 500px; overflow: hidden; text-overflow: ellipsis; \">0</td><td style=\"white-space: nowrap; max-width: 500px; overflow: hidden; text-overflow: ellipsis; \">0</td><td style=\"white-space: nowrap; max-width: 500px; overflow: hidden; text-overflow: ellipsis; \">385</td><td style=\"white-space: nowrap; max-width: 500px; overflow: hidden; text-overflow: ellipsis; \">385</td><td style=\"white-space: nowrap; max-width: 500px; overflow: hidden; text-overflow: ellipsis; \">5.01e-01</td><td style=\"white-space: nowrap; max-width: 500px; overflow: hidden; text-overflow: ellipsis; \">2.21e-115</td><td style=\"white-space: nowrap; max-width: 500px; overflow: hidden; text-overflow: ellipsis; \">2.21e-115</td></tr>\n",
              "<tr><td style=\"white-space: nowrap; max-width: 500px; overflow: hidden; text-overflow: ellipsis; \">chr5:170833888</td><td style=\"white-space: nowrap; max-width: 500px; overflow: hidden; text-overflow: ellipsis; \">[&quot;C&quot;,&quot;T&quot;]</td><td style=\"white-space: nowrap; max-width: 500px; overflow: hidden; text-overflow: ellipsis; \">&quot;rs79126011&quot;</td><td style=\"white-space: nowrap; max-width: 500px; overflow: hidden; text-overflow: ellipsis; \">-1.00e+01</td><td style=\"white-space: nowrap; max-width: 500px; overflow: hidden; text-overflow: ellipsis; \">{&quot;InbreedingCoeff&quot;}</td><td style=\"white-space: nowrap; max-width: 500px; overflow: hidden; text-overflow: ellipsis; \">157871544</td><td style=\"white-space: nowrap; max-width: 500px; overflow: hidden; text-overflow: ellipsis; \">[1038041,2758564,1388629,2553316]</td><td style=\"white-space: nowrap; max-width: 500px; overflow: hidden; text-overflow: ellipsis; \">5.99e+01</td><td style=\"white-space: nowrap; max-width: 500px; overflow: hidden; text-overflow: ellipsis; \">-5.50e-02</td><td style=\"white-space: nowrap; max-width: 500px; overflow: hidden; text-overflow: ellipsis; \">7738550</td><td style=\"white-space: nowrap; max-width: 500px; overflow: hidden; text-overflow: ellipsis; \">-7.80e-02</td><td style=\"white-space: nowrap; max-width: 500px; overflow: hidden; text-overflow: ellipsis; \">1.00e+00</td><td style=\"white-space: nowrap; max-width: 500px; overflow: hidden; text-overflow: ellipsis; \">2.04e+01</td><td style=\"white-space: nowrap; max-width: 500px; overflow: hidden; text-overflow: ellipsis; \">5.99e+01</td><td style=\"white-space: nowrap; max-width: 500px; overflow: hidden; text-overflow: ellipsis; \">2.04e+01</td><td style=\"white-space: nowrap; max-width: 500px; overflow: hidden; text-overflow: ellipsis; \">-1.60e-02</td><td style=\"white-space: nowrap; max-width: 500px; overflow: hidden; text-overflow: ellipsis; \">6.53e+00</td><td style=\"white-space: nowrap; max-width: 500px; overflow: hidden; text-overflow: ellipsis; \">6.53e+00</td><td style=\"white-space: nowrap; max-width: 500px; overflow: hidden; text-overflow: ellipsis; \">-6.50e-02</td><td style=\"white-space: nowrap; max-width: 500px; overflow: hidden; text-overflow: ellipsis; \">157871544</td><td style=\"white-space: nowrap; max-width: 500px; overflow: hidden; text-overflow: ellipsis; \">[1038041,2758564,1388629,2553316]</td><td style=\"white-space: nowrap; max-width: 500px; overflow: hidden; text-overflow: ellipsis; \">7738550</td><td style=\"white-space: nowrap; max-width: 500px; overflow: hidden; text-overflow: ellipsis; \">3.91e-01</td><td style=\"white-space: nowrap; max-width: 500px; overflow: hidden; text-overflow: ellipsis; \">3.91e-01</td><td style=\"white-space: nowrap; max-width: 500px; overflow: hidden; text-overflow: ellipsis; \">False</td><td style=\"white-space: nowrap; max-width: 500px; overflow: hidden; text-overflow: ellipsis; \">False</td><td style=\"white-space: nowrap; max-width: 500px; overflow: hidden; text-overflow: ellipsis; \">False</td><td style=\"white-space: nowrap; max-width: 500px; overflow: hidden; text-overflow: ellipsis; \">False</td><td style=\"white-space: nowrap; max-width: 500px; overflow: hidden; text-overflow: ellipsis; \">-1.80e-03</td><td style=\"white-space: nowrap; max-width: 500px; overflow: hidden; text-overflow: ellipsis; \">-1.00e+00</td><td style=\"white-space: nowrap; max-width: 500px; overflow: hidden; text-overflow: ellipsis; \">4.53e+01</td><td style=\"white-space: nowrap; max-width: 500px; overflow: hidden; text-overflow: ellipsis; \">9.72e+00</td><td style=\"white-space: nowrap; max-width: 500px; overflow: hidden; text-overflow: ellipsis; \">2.50e+01</td><td style=\"white-space: nowrap; max-width: 500px; overflow: hidden; text-overflow: ellipsis; \">1.23e+02</td><td style=\"white-space: nowrap; max-width: 500px; overflow: hidden; text-overflow: ellipsis; \">9.90e+01</td><td style=\"white-space: nowrap; max-width: 500px; overflow: hidden; text-overflow: ellipsis; \">0.00e+00</td><td style=\"white-space: nowrap; max-width: 500px; overflow: hidden; text-overflow: ellipsis; \">9.90e+01</td><td style=\"white-space: nowrap; max-width: 500px; overflow: hidden; text-overflow: ellipsis; \">9.90e+01</td><td style=\"white-space: nowrap; max-width: 500px; overflow: hidden; text-overflow: ellipsis; \">[385,385]</td><td style=\"white-space: nowrap; max-width: 500px; overflow: hidden; text-overflow: ellipsis; \">[5.00e-01,5.00e-01]</td><td style=\"white-space: nowrap; max-width: 500px; overflow: hidden; text-overflow: ellipsis; \">770</td><td style=\"white-space: nowrap; max-width: 500px; overflow: hidden; text-overflow: ellipsis; \">[0,0]</td><td style=\"white-space: nowrap; max-width: 500px; overflow: hidden; text-overflow: ellipsis; \">1.00e+00</td><td style=\"white-space: nowrap; max-width: 500px; overflow: hidden; text-overflow: ellipsis; \">385</td><td style=\"white-space: nowrap; max-width: 500px; overflow: hidden; text-overflow: ellipsis; \">0</td><td style=\"white-space: nowrap; max-width: 500px; overflow: hidden; text-overflow: ellipsis; \">0</td><td style=\"white-space: nowrap; max-width: 500px; overflow: hidden; text-overflow: ellipsis; \">385</td><td style=\"white-space: nowrap; max-width: 500px; overflow: hidden; text-overflow: ellipsis; \">385</td><td style=\"white-space: nowrap; max-width: 500px; overflow: hidden; text-overflow: ellipsis; \">5.01e-01</td><td style=\"white-space: nowrap; max-width: 500px; overflow: hidden; text-overflow: ellipsis; \">2.21e-115</td><td style=\"white-space: nowrap; max-width: 500px; overflow: hidden; text-overflow: ellipsis; \">2.21e-115</td></tr>\n",
              "<tr><td style=\"white-space: nowrap; max-width: 500px; overflow: hidden; text-overflow: ellipsis; \">chr9:63771196</td><td style=\"white-space: nowrap; max-width: 500px; overflow: hidden; text-overflow: ellipsis; \">[&quot;C&quot;,&quot;T&quot;]</td><td style=\"white-space: nowrap; max-width: 500px; overflow: hidden; text-overflow: ellipsis; \">&quot;rs4310313&quot;</td><td style=\"white-space: nowrap; max-width: 500px; overflow: hidden; text-overflow: ellipsis; \">-1.00e+01</td><td style=\"white-space: nowrap; max-width: 500px; overflow: hidden; text-overflow: ellipsis; \">{&quot;InbreedingCoeff&quot;}</td><td style=\"white-space: nowrap; max-width: 500px; overflow: hidden; text-overflow: ellipsis; \">113903241</td><td style=\"white-space: nowrap; max-width: 500px; overflow: hidden; text-overflow: ellipsis; \">[9577761,6255003,2256377,1811696]</td><td style=\"white-space: nowrap; max-width: 500px; overflow: hidden; text-overflow: ellipsis; \">4.26e+01</td><td style=\"white-space: nowrap; max-width: 500px; overflow: hidden; text-overflow: ellipsis; \">-6.49e-01</td><td style=\"white-space: nowrap; max-width: 500px; overflow: hidden; text-overflow: ellipsis; \">19900836</td><td style=\"white-space: nowrap; max-width: 500px; overflow: hidden; text-overflow: ellipsis; \">5.55e-01</td><td style=\"white-space: nowrap; max-width: 500px; overflow: hidden; text-overflow: ellipsis; \">1.00e+00</td><td style=\"white-space: nowrap; max-width: 500px; overflow: hidden; text-overflow: ellipsis; \">5.72e+00</td><td style=\"white-space: nowrap; max-width: 500px; overflow: hidden; text-overflow: ellipsis; \">4.26e+01</td><td style=\"white-space: nowrap; max-width: 500px; overflow: hidden; text-overflow: ellipsis; \">5.72e+00</td><td style=\"white-space: nowrap; max-width: 500px; overflow: hidden; text-overflow: ellipsis; \">-6.74e-01</td><td style=\"white-space: nowrap; max-width: 500px; overflow: hidden; text-overflow: ellipsis; \">2.30e+00</td><td style=\"white-space: nowrap; max-width: 500px; overflow: hidden; text-overflow: ellipsis; \">2.30e+00</td><td style=\"white-space: nowrap; max-width: 500px; overflow: hidden; text-overflow: ellipsis; \">5.50e-01</td><td style=\"white-space: nowrap; max-width: 500px; overflow: hidden; text-overflow: ellipsis; \">113903241</td><td style=\"white-space: nowrap; max-width: 500px; overflow: hidden; text-overflow: ellipsis; \">[9577761,6255003,2256377,1811696]</td><td style=\"white-space: nowrap; max-width: 500px; overflow: hidden; text-overflow: ellipsis; \">19900836</td><td style=\"white-space: nowrap; max-width: 500px; overflow: hidden; text-overflow: ellipsis; \">5.08e-01</td><td style=\"white-space: nowrap; max-width: 500px; overflow: hidden; text-overflow: ellipsis; \">5.08e-01</td><td style=\"white-space: nowrap; max-width: 500px; overflow: hidden; text-overflow: ellipsis; \">False</td><td style=\"white-space: nowrap; max-width: 500px; overflow: hidden; text-overflow: ellipsis; \">False</td><td style=\"white-space: nowrap; max-width: 500px; overflow: hidden; text-overflow: ellipsis; \">False</td><td style=\"white-space: nowrap; max-width: 500px; overflow: hidden; text-overflow: ellipsis; \">False</td><td style=\"white-space: nowrap; max-width: 500px; overflow: hidden; text-overflow: ellipsis; \">-1.05e+00</td><td style=\"white-space: nowrap; max-width: 500px; overflow: hidden; text-overflow: ellipsis; \">-9.98e-01</td><td style=\"white-space: nowrap; max-width: 500px; overflow: hidden; text-overflow: ellipsis; \">1.08e+02</td><td style=\"white-space: nowrap; max-width: 500px; overflow: hidden; text-overflow: ellipsis; \">2.95e+01</td><td style=\"white-space: nowrap; max-width: 500px; overflow: hidden; text-overflow: ellipsis; \">6.50e+01</td><td style=\"white-space: nowrap; max-width: 500px; overflow: hidden; text-overflow: ellipsis; \">4.78e+02</td><td style=\"white-space: nowrap; max-width: 500px; overflow: hidden; text-overflow: ellipsis; \">9.90e+01</td><td style=\"white-space: nowrap; max-width: 500px; overflow: hidden; text-overflow: ellipsis; \">3.56e-01</td><td style=\"white-space: nowrap; max-width: 500px; overflow: hidden; text-overflow: ellipsis; \">9.20e+01</td><td style=\"white-space: nowrap; max-width: 500px; overflow: hidden; text-overflow: ellipsis; \">9.90e+01</td><td style=\"white-space: nowrap; max-width: 500px; overflow: hidden; text-overflow: ellipsis; \">[385,385]</td><td style=\"white-space: nowrap; max-width: 500px; overflow: hidden; text-overflow: ellipsis; \">[5.00e-01,5.00e-01]</td><td style=\"white-space: nowrap; max-width: 500px; overflow: hidden; text-overflow: ellipsis; \">770</td><td style=\"white-space: nowrap; max-width: 500px; overflow: hidden; text-overflow: ellipsis; \">[0,0]</td><td style=\"white-space: nowrap; max-width: 500px; overflow: hidden; text-overflow: ellipsis; \">1.00e+00</td><td style=\"white-space: nowrap; max-width: 500px; overflow: hidden; text-overflow: ellipsis; \">385</td><td style=\"white-space: nowrap; max-width: 500px; overflow: hidden; text-overflow: ellipsis; \">0</td><td style=\"white-space: nowrap; max-width: 500px; overflow: hidden; text-overflow: ellipsis; \">0</td><td style=\"white-space: nowrap; max-width: 500px; overflow: hidden; text-overflow: ellipsis; \">385</td><td style=\"white-space: nowrap; max-width: 500px; overflow: hidden; text-overflow: ellipsis; \">385</td><td style=\"white-space: nowrap; max-width: 500px; overflow: hidden; text-overflow: ellipsis; \">5.01e-01</td><td style=\"white-space: nowrap; max-width: 500px; overflow: hidden; text-overflow: ellipsis; \">2.21e-115</td><td style=\"white-space: nowrap; max-width: 500px; overflow: hidden; text-overflow: ellipsis; \">2.21e-115</td></tr>\n",
              "<tr><td style=\"white-space: nowrap; max-width: 500px; overflow: hidden; text-overflow: ellipsis; \">chr10:46546502</td><td style=\"white-space: nowrap; max-width: 500px; overflow: hidden; text-overflow: ellipsis; \">[&quot;G&quot;,&quot;A&quot;]</td><td style=\"white-space: nowrap; max-width: 500px; overflow: hidden; text-overflow: ellipsis; \">&quot;rs3127692&quot;</td><td style=\"white-space: nowrap; max-width: 500px; overflow: hidden; text-overflow: ellipsis; \">-1.00e+01</td><td style=\"white-space: nowrap; max-width: 500px; overflow: hidden; text-overflow: ellipsis; \">{&quot;InbreedingCoeff&quot;}</td><td style=\"white-space: nowrap; max-width: 500px; overflow: hidden; text-overflow: ellipsis; \">152605413</td><td style=\"white-space: nowrap; max-width: 500px; overflow: hidden; text-overflow: ellipsis; \">[2875916,2474502,3025177,2601488]</td><td style=\"white-space: nowrap; max-width: 500px; overflow: hidden; text-overflow: ellipsis; \">6.00e+01</td><td style=\"white-space: nowrap; max-width: 500px; overflow: hidden; text-overflow: ellipsis; \">-4.00e-03</td><td style=\"white-space: nowrap; max-width: 500px; overflow: hidden; text-overflow: ellipsis; \">10977076</td><td style=\"white-space: nowrap; max-width: 500px; overflow: hidden; text-overflow: ellipsis; \">4.96e-01</td><td style=\"white-space: nowrap; max-width: 500px; overflow: hidden; text-overflow: ellipsis; \">1.00e+00</td><td style=\"white-space: nowrap; max-width: 500px; overflow: hidden; text-overflow: ellipsis; \">1.39e+01</td><td style=\"white-space: nowrap; max-width: 500px; overflow: hidden; text-overflow: ellipsis; \">6.00e+01</td><td style=\"white-space: nowrap; max-width: 500px; overflow: hidden; text-overflow: ellipsis; \">1.39e+01</td><td style=\"white-space: nowrap; max-width: 500px; overflow: hidden; text-overflow: ellipsis; \">0.00e+00</td><td style=\"white-space: nowrap; max-width: 500px; overflow: hidden; text-overflow: ellipsis; \">0.00e+00</td><td style=\"white-space: nowrap; max-width: 500px; overflow: hidden; text-overflow: ellipsis; \">0.00e+00</td><td style=\"white-space: nowrap; max-width: 500px; overflow: hidden; text-overflow: ellipsis; \">4.96e-01</td><td style=\"white-space: nowrap; max-width: 500px; overflow: hidden; text-overflow: ellipsis; \">152604571</td><td style=\"white-space: nowrap; max-width: 500px; overflow: hidden; text-overflow: ellipsis; \">[2875919,2474509,3025151,2601452]</td><td style=\"white-space: nowrap; max-width: 500px; overflow: hidden; text-overflow: ellipsis; \">10976952</td><td style=\"white-space: nowrap; max-width: 500px; overflow: hidden; text-overflow: ellipsis; \">6.94e-01</td><td style=\"white-space: nowrap; max-width: 500px; overflow: hidden; text-overflow: ellipsis; \">6.94e-01</td><td style=\"white-space: nowrap; max-width: 500px; overflow: hidden; text-overflow: ellipsis; \">False</td><td style=\"white-space: nowrap; max-width: 500px; overflow: hidden; text-overflow: ellipsis; \">False</td><td style=\"white-space: nowrap; max-width: 500px; overflow: hidden; text-overflow: ellipsis; \">False</td><td style=\"white-space: nowrap; max-width: 500px; overflow: hidden; text-overflow: ellipsis; \">False</td><td style=\"white-space: nowrap; max-width: 500px; overflow: hidden; text-overflow: ellipsis; \">1.87e+01</td><td style=\"white-space: nowrap; max-width: 500px; overflow: hidden; text-overflow: ellipsis; \">-9.91e-01</td><td style=\"white-space: nowrap; max-width: 500px; overflow: hidden; text-overflow: ellipsis; \">7.18e+01</td><td style=\"white-space: nowrap; max-width: 500px; overflow: hidden; text-overflow: ellipsis; \">1.52e+01</td><td style=\"white-space: nowrap; max-width: 500px; overflow: hidden; text-overflow: ellipsis; \">4.10e+01</td><td style=\"white-space: nowrap; max-width: 500px; overflow: hidden; text-overflow: ellipsis; \">1.52e+02</td><td style=\"white-space: nowrap; max-width: 500px; overflow: hidden; text-overflow: ellipsis; \">9.90e+01</td><td style=\"white-space: nowrap; max-width: 500px; overflow: hidden; text-overflow: ellipsis; \">0.00e+00</td><td style=\"white-space: nowrap; max-width: 500px; overflow: hidden; text-overflow: ellipsis; \">9.90e+01</td><td style=\"white-space: nowrap; max-width: 500px; overflow: hidden; text-overflow: ellipsis; \">9.90e+01</td><td style=\"white-space: nowrap; max-width: 500px; overflow: hidden; text-overflow: ellipsis; \">[385,385]</td><td style=\"white-space: nowrap; max-width: 500px; overflow: hidden; text-overflow: ellipsis; \">[5.00e-01,5.00e-01]</td><td style=\"white-space: nowrap; max-width: 500px; overflow: hidden; text-overflow: ellipsis; \">770</td><td style=\"white-space: nowrap; max-width: 500px; overflow: hidden; text-overflow: ellipsis; \">[0,0]</td><td style=\"white-space: nowrap; max-width: 500px; overflow: hidden; text-overflow: ellipsis; \">1.00e+00</td><td style=\"white-space: nowrap; max-width: 500px; overflow: hidden; text-overflow: ellipsis; \">385</td><td style=\"white-space: nowrap; max-width: 500px; overflow: hidden; text-overflow: ellipsis; \">0</td><td style=\"white-space: nowrap; max-width: 500px; overflow: hidden; text-overflow: ellipsis; \">0</td><td style=\"white-space: nowrap; max-width: 500px; overflow: hidden; text-overflow: ellipsis; \">385</td><td style=\"white-space: nowrap; max-width: 500px; overflow: hidden; text-overflow: ellipsis; \">385</td><td style=\"white-space: nowrap; max-width: 500px; overflow: hidden; text-overflow: ellipsis; \">5.01e-01</td><td style=\"white-space: nowrap; max-width: 500px; overflow: hidden; text-overflow: ellipsis; \">2.21e-115</td><td style=\"white-space: nowrap; max-width: 500px; overflow: hidden; text-overflow: ellipsis; \">2.21e-115</td></tr>\n",
              "<tr><td style=\"white-space: nowrap; max-width: 500px; overflow: hidden; text-overflow: ellipsis; \">chr17:21291540</td><td style=\"white-space: nowrap; max-width: 500px; overflow: hidden; text-overflow: ellipsis; \">[&quot;G&quot;,&quot;A&quot;]</td><td style=\"white-space: nowrap; max-width: 500px; overflow: hidden; text-overflow: ellipsis; \">&quot;rs72840058&quot;</td><td style=\"white-space: nowrap; max-width: 500px; overflow: hidden; text-overflow: ellipsis; \">-1.00e+01</td><td style=\"white-space: nowrap; max-width: 500px; overflow: hidden; text-overflow: ellipsis; \">{&quot;InbreedingCoeff&quot;}</td><td style=\"white-space: nowrap; max-width: 500px; overflow: hidden; text-overflow: ellipsis; \">204637824</td><td style=\"white-space: nowrap; max-width: 500px; overflow: hidden; text-overflow: ellipsis; \">[2818670,2658428,2716858,2427104]</td><td style=\"white-space: nowrap; max-width: 500px; overflow: hidden; text-overflow: ellipsis; \">6.00e+01</td><td style=\"white-space: nowrap; max-width: 500px; overflow: hidden; text-overflow: ellipsis; \">-1.40e-02</td><td style=\"white-space: nowrap; max-width: 500px; overflow: hidden; text-overflow: ellipsis; \">10621059</td><td style=\"white-space: nowrap; max-width: 500px; overflow: hidden; text-overflow: ellipsis; \">3.76e-01</td><td style=\"white-space: nowrap; max-width: 500px; overflow: hidden; text-overflow: ellipsis; \">1.00e+00</td><td style=\"white-space: nowrap; max-width: 500px; overflow: hidden; text-overflow: ellipsis; \">1.93e+01</td><td style=\"white-space: nowrap; max-width: 500px; overflow: hidden; text-overflow: ellipsis; \">6.00e+01</td><td style=\"white-space: nowrap; max-width: 500px; overflow: hidden; text-overflow: ellipsis; \">1.93e+01</td><td style=\"white-space: nowrap; max-width: 500px; overflow: hidden; text-overflow: ellipsis; \">0.00e+00</td><td style=\"white-space: nowrap; max-width: 500px; overflow: hidden; text-overflow: ellipsis; \">5.20e-01</td><td style=\"white-space: nowrap; max-width: 500px; overflow: hidden; text-overflow: ellipsis; \">5.20e-01</td><td style=\"white-space: nowrap; max-width: 500px; overflow: hidden; text-overflow: ellipsis; \">3.64e-01</td><td style=\"white-space: nowrap; max-width: 500px; overflow: hidden; text-overflow: ellipsis; \">204637824</td><td style=\"white-space: nowrap; max-width: 500px; overflow: hidden; text-overflow: ellipsis; \">[2818670,2658428,2716858,2427104]</td><td style=\"white-space: nowrap; max-width: 500px; overflow: hidden; text-overflow: ellipsis; \">10621059</td><td style=\"white-space: nowrap; max-width: 500px; overflow: hidden; text-overflow: ellipsis; \">7.49e-01</td><td style=\"white-space: nowrap; max-width: 500px; overflow: hidden; text-overflow: ellipsis; \">7.49e-01</td><td style=\"white-space: nowrap; max-width: 500px; overflow: hidden; text-overflow: ellipsis; \">False</td><td style=\"white-space: nowrap; max-width: 500px; overflow: hidden; text-overflow: ellipsis; \">False</td><td style=\"white-space: nowrap; max-width: 500px; overflow: hidden; text-overflow: ellipsis; \">False</td><td style=\"white-space: nowrap; max-width: 500px; overflow: hidden; text-overflow: ellipsis; \">False</td><td style=\"white-space: nowrap; max-width: 500px; overflow: hidden; text-overflow: ellipsis; \">3.95e+00</td><td style=\"white-space: nowrap; max-width: 500px; overflow: hidden; text-overflow: ellipsis; \">-1.00e+00</td><td style=\"white-space: nowrap; max-width: 500px; overflow: hidden; text-overflow: ellipsis; \">6.83e+01</td><td style=\"white-space: nowrap; max-width: 500px; overflow: hidden; text-overflow: ellipsis; \">1.17e+01</td><td style=\"white-space: nowrap; max-width: 500px; overflow: hidden; text-overflow: ellipsis; \">3.90e+01</td><td style=\"white-space: nowrap; max-width: 500px; overflow: hidden; text-overflow: ellipsis; \">1.35e+02</td><td style=\"white-space: nowrap; max-width: 500px; overflow: hidden; text-overflow: ellipsis; \">9.90e+01</td><td style=\"white-space: nowrap; max-width: 500px; overflow: hidden; text-overflow: ellipsis; \">0.00e+00</td><td style=\"white-space: nowrap; max-width: 500px; overflow: hidden; text-overflow: ellipsis; \">9.90e+01</td><td style=\"white-space: nowrap; max-width: 500px; overflow: hidden; text-overflow: ellipsis; \">9.90e+01</td><td style=\"white-space: nowrap; max-width: 500px; overflow: hidden; text-overflow: ellipsis; \">[385,385]</td><td style=\"white-space: nowrap; max-width: 500px; overflow: hidden; text-overflow: ellipsis; \">[5.00e-01,5.00e-01]</td><td style=\"white-space: nowrap; max-width: 500px; overflow: hidden; text-overflow: ellipsis; \">770</td><td style=\"white-space: nowrap; max-width: 500px; overflow: hidden; text-overflow: ellipsis; \">[0,0]</td><td style=\"white-space: nowrap; max-width: 500px; overflow: hidden; text-overflow: ellipsis; \">1.00e+00</td><td style=\"white-space: nowrap; max-width: 500px; overflow: hidden; text-overflow: ellipsis; \">385</td><td style=\"white-space: nowrap; max-width: 500px; overflow: hidden; text-overflow: ellipsis; \">0</td><td style=\"white-space: nowrap; max-width: 500px; overflow: hidden; text-overflow: ellipsis; \">0</td><td style=\"white-space: nowrap; max-width: 500px; overflow: hidden; text-overflow: ellipsis; \">385</td><td style=\"white-space: nowrap; max-width: 500px; overflow: hidden; text-overflow: ellipsis; \">385</td><td style=\"white-space: nowrap; max-width: 500px; overflow: hidden; text-overflow: ellipsis; \">5.01e-01</td><td style=\"white-space: nowrap; max-width: 500px; overflow: hidden; text-overflow: ellipsis; \">2.21e-115</td><td style=\"white-space: nowrap; max-width: 500px; overflow: hidden; text-overflow: ellipsis; \">2.21e-115</td></tr>\n",
              "<tr><td style=\"white-space: nowrap; max-width: 500px; overflow: hidden; text-overflow: ellipsis; \">chr17:21302646</td><td style=\"white-space: nowrap; max-width: 500px; overflow: hidden; text-overflow: ellipsis; \">[&quot;A&quot;,&quot;G&quot;]</td><td style=\"white-space: nowrap; max-width: 500px; overflow: hidden; text-overflow: ellipsis; \">&quot;rs62057725&quot;</td><td style=\"white-space: nowrap; max-width: 500px; overflow: hidden; text-overflow: ellipsis; \">-1.00e+01</td><td style=\"white-space: nowrap; max-width: 500px; overflow: hidden; text-overflow: ellipsis; \">{&quot;InbreedingCoeff&quot;}</td><td style=\"white-space: nowrap; max-width: 500px; overflow: hidden; text-overflow: ellipsis; \">166814776</td><td style=\"white-space: nowrap; max-width: 500px; overflow: hidden; text-overflow: ellipsis; \">[2745828,2529213,2725172,2431983]</td><td style=\"white-space: nowrap; max-width: 500px; overflow: hidden; text-overflow: ellipsis; \">6.00e+01</td><td style=\"white-space: nowrap; max-width: 500px; overflow: hidden; text-overflow: ellipsis; \">-8.00e-03</td><td style=\"white-space: nowrap; max-width: 500px; overflow: hidden; text-overflow: ellipsis; \">10432195</td><td style=\"white-space: nowrap; max-width: 500px; overflow: hidden; text-overflow: ellipsis; \">7.45e-01</td><td style=\"white-space: nowrap; max-width: 500px; overflow: hidden; text-overflow: ellipsis; \">1.00e+00</td><td style=\"white-space: nowrap; max-width: 500px; overflow: hidden; text-overflow: ellipsis; \">1.60e+01</td><td style=\"white-space: nowrap; max-width: 500px; overflow: hidden; text-overflow: ellipsis; \">6.00e+01</td><td style=\"white-space: nowrap; max-width: 500px; overflow: hidden; text-overflow: ellipsis; \">1.60e+01</td><td style=\"white-space: nowrap; max-width: 500px; overflow: hidden; text-overflow: ellipsis; \">1.10e-02</td><td style=\"white-space: nowrap; max-width: 500px; overflow: hidden; text-overflow: ellipsis; \">5.16e-01</td><td style=\"white-space: nowrap; max-width: 500px; overflow: hidden; text-overflow: ellipsis; \">5.16e-01</td><td style=\"white-space: nowrap; max-width: 500px; overflow: hidden; text-overflow: ellipsis; \">7.40e-01</td><td style=\"white-space: nowrap; max-width: 500px; overflow: hidden; text-overflow: ellipsis; \">166814776</td><td style=\"white-space: nowrap; max-width: 500px; overflow: hidden; text-overflow: ellipsis; \">[2745828,2529213,2725172,2431983]</td><td style=\"white-space: nowrap; max-width: 500px; overflow: hidden; text-overflow: ellipsis; \">10432195</td><td style=\"white-space: nowrap; max-width: 500px; overflow: hidden; text-overflow: ellipsis; \">7.25e-01</td><td style=\"white-space: nowrap; max-width: 500px; overflow: hidden; text-overflow: ellipsis; \">7.25e-01</td><td style=\"white-space: nowrap; max-width: 500px; overflow: hidden; text-overflow: ellipsis; \">False</td><td style=\"white-space: nowrap; max-width: 500px; overflow: hidden; text-overflow: ellipsis; \">False</td><td style=\"white-space: nowrap; max-width: 500px; overflow: hidden; text-overflow: ellipsis; \">False</td><td style=\"white-space: nowrap; max-width: 500px; overflow: hidden; text-overflow: ellipsis; \">False</td><td style=\"white-space: nowrap; max-width: 500px; overflow: hidden; text-overflow: ellipsis; \">2.60e+00</td><td style=\"white-space: nowrap; max-width: 500px; overflow: hidden; text-overflow: ellipsis; \">-1.00e+00</td><td style=\"white-space: nowrap; max-width: 500px; overflow: hidden; text-overflow: ellipsis; \">7.04e+01</td><td style=\"white-space: nowrap; max-width: 500px; overflow: hidden; text-overflow: ellipsis; \">1.26e+01</td><td style=\"white-space: nowrap; max-width: 500px; overflow: hidden; text-overflow: ellipsis; \">4.10e+01</td><td style=\"white-space: nowrap; max-width: 500px; overflow: hidden; text-overflow: ellipsis; \">1.34e+02</td><td style=\"white-space: nowrap; max-width: 500px; overflow: hidden; text-overflow: ellipsis; \">9.90e+01</td><td style=\"white-space: nowrap; max-width: 500px; overflow: hidden; text-overflow: ellipsis; \">0.00e+00</td><td style=\"white-space: nowrap; max-width: 500px; overflow: hidden; text-overflow: ellipsis; \">9.90e+01</td><td style=\"white-space: nowrap; max-width: 500px; overflow: hidden; text-overflow: ellipsis; \">9.90e+01</td><td style=\"white-space: nowrap; max-width: 500px; overflow: hidden; text-overflow: ellipsis; \">[385,385]</td><td style=\"white-space: nowrap; max-width: 500px; overflow: hidden; text-overflow: ellipsis; \">[5.00e-01,5.00e-01]</td><td style=\"white-space: nowrap; max-width: 500px; overflow: hidden; text-overflow: ellipsis; \">770</td><td style=\"white-space: nowrap; max-width: 500px; overflow: hidden; text-overflow: ellipsis; \">[0,0]</td><td style=\"white-space: nowrap; max-width: 500px; overflow: hidden; text-overflow: ellipsis; \">1.00e+00</td><td style=\"white-space: nowrap; max-width: 500px; overflow: hidden; text-overflow: ellipsis; \">385</td><td style=\"white-space: nowrap; max-width: 500px; overflow: hidden; text-overflow: ellipsis; \">0</td><td style=\"white-space: nowrap; max-width: 500px; overflow: hidden; text-overflow: ellipsis; \">0</td><td style=\"white-space: nowrap; max-width: 500px; overflow: hidden; text-overflow: ellipsis; \">385</td><td style=\"white-space: nowrap; max-width: 500px; overflow: hidden; text-overflow: ellipsis; \">385</td><td style=\"white-space: nowrap; max-width: 500px; overflow: hidden; text-overflow: ellipsis; \">5.01e-01</td><td style=\"white-space: nowrap; max-width: 500px; overflow: hidden; text-overflow: ellipsis; \">2.21e-115</td><td style=\"white-space: nowrap; max-width: 500px; overflow: hidden; text-overflow: ellipsis; \">2.21e-115</td></tr>\n",
              "</tbody></table><p style=\"background: #fdd; padding: 0.4em;\">showing top 10 rows</p>\n"
            ],
            "text/plain": [
              "+----------------+------------+----------------+-----------+\n",
              "| locus          | alleles    | rsid           |      qual |\n",
              "+----------------+------------+----------------+-----------+\n",
              "| locus<GRCh38>  | array<str> | str            |   float64 |\n",
              "+----------------+------------+----------------+-----------+\n",
              "| chr1:125165544 | [\"G\",\"T\"]  | NA             | -1.00e+01 |\n",
              "| chr2:94565722  | [\"T\",\"C\"]  | \"rs1273701572\" | -1.00e+01 |\n",
              "| chr2:113591601 | [\"G\",\"A\"]  | \"rs6419550\"    | -1.00e+01 |\n",
              "| chr3:77780883  | [\"A\",\"T\"]  | \"rs75079699\"   | -1.00e+01 |\n",
              "| chr5:46433521  | [\"G\",\"C\"]  | NA             | -1.00e+01 |\n",
              "| chr5:170833888 | [\"C\",\"T\"]  | \"rs79126011\"   | -1.00e+01 |\n",
              "| chr9:63771196  | [\"C\",\"T\"]  | \"rs4310313\"    | -1.00e+01 |\n",
              "| chr10:46546502 | [\"G\",\"A\"]  | \"rs3127692\"    | -1.00e+01 |\n",
              "| chr17:21291540 | [\"G\",\"A\"]  | \"rs72840058\"   | -1.00e+01 |\n",
              "| chr17:21302646 | [\"A\",\"G\"]  | \"rs62057725\"   | -1.00e+01 |\n",
              "+----------------+------------+----------------+-----------+\n",
              "\n",
              "+---------------------+-----------------+-----------------------------------+\n",
              "| filters             | info.QUALapprox | info.SB                           |\n",
              "+---------------------+-----------------+-----------------------------------+\n",
              "| set<str>            |           int32 | array<int32>                      |\n",
              "+---------------------+-----------------+-----------------------------------+\n",
              "| {\"InbreedingCoeff\"} |       332680306 | [2530347,2658319,4674032,5445216] |\n",
              "| {\"InbreedingCoeff\"} |       133145705 | [2744392,2448688,2632227,938989]  |\n",
              "| {\"InbreedingCoeff\"} |       124592291 | [3447869,3213349,2778556,2338468] |\n",
              "| {\"InbreedingCoeff\"} |       179360814 | [2431382,2598153,2418400,2106424] |\n",
              "| {\"InbreedingCoeff\"} |       115906887 | [2362879,2344419,2204239,1144094] |\n",
              "| {\"InbreedingCoeff\"} |       157871544 | [1038041,2758564,1388629,2553316] |\n",
              "| {\"InbreedingCoeff\"} |       113903241 | [9577761,6255003,2256377,1811696] |\n",
              "| {\"InbreedingCoeff\"} |       152605413 | [2875916,2474502,3025177,2601488] |\n",
              "| {\"InbreedingCoeff\"} |       204637824 | [2818670,2658428,2716858,2427104] |\n",
              "| {\"InbreedingCoeff\"} |       166814776 | [2745828,2529213,2725172,2431983] |\n",
              "+---------------------+-----------------+-----------------------------------+\n",
              "\n",
              "+----------+----------------+------------+------------------------+\n",
              "|  info.MQ | info.MQRankSum | info.VarDP | info.AS_ReadPosRankSum |\n",
              "+----------+----------------+------------+------------------------+\n",
              "|  float64 |        float64 |      int32 |                float64 |\n",
              "+----------+----------------+------------+------------------------+\n",
              "| 5.92e+01 |      -1.72e-01 |   15307914 |               5.29e-01 |\n",
              "| 5.38e+01 |      -5.59e+00 |    8764281 |               1.06e+00 |\n",
              "| 4.69e+01 |      -2.27e+00 |   11778240 |               9.33e-01 |\n",
              "| 6.00e+01 |       0.00e+00 |    9554359 |              -1.42e-01 |\n",
              "| 5.32e+01 |      -2.23e+00 |    8055631 |               9.49e-01 |\n",
              "| 5.99e+01 |      -5.50e-02 |    7738550 |              -7.80e-02 |\n",
              "| 4.26e+01 |      -6.49e-01 |   19900836 |               5.55e-01 |\n",
              "| 6.00e+01 |      -4.00e-03 |   10977076 |               4.96e-01 |\n",
              "| 6.00e+01 |      -1.40e-02 |   10621059 |               3.76e-01 |\n",
              "| 6.00e+01 |      -8.00e-03 |   10432195 |               7.45e-01 |\n",
              "+----------+----------------+------------+------------------------+\n",
              "\n",
              "+-----------------+------------+------------+----------+-------------------+\n",
              "| info.AS_pab_max | info.AS_QD | info.AS_MQ |  info.QD | info.AS_MQRankSum |\n",
              "+-----------------+------------+------------+----------+-------------------+\n",
              "|         float64 |    float64 |    float64 |  float64 |           float64 |\n",
              "+-----------------+------------+------------+----------+-------------------+\n",
              "|        1.00e+00 |   2.17e+01 |   5.92e+01 | 2.17e+01 |         -1.77e-01 |\n",
              "|        1.00e+00 |   1.52e+01 |   5.38e+01 | 1.52e+01 |         -5.61e+00 |\n",
              "|        1.00e+00 |   1.06e+01 |   4.69e+01 | 1.06e+01 |         -2.29e+00 |\n",
              "|        1.00e+00 |   1.88e+01 |   6.00e+01 | 1.88e+01 |         -6.00e-03 |\n",
              "|        1.00e+00 |   1.44e+01 |   5.32e+01 | 1.44e+01 |         -2.19e+00 |\n",
              "|        1.00e+00 |   2.04e+01 |   5.99e+01 | 2.04e+01 |         -1.60e-02 |\n",
              "|        1.00e+00 |   5.72e+00 |   4.26e+01 | 5.72e+00 |         -6.74e-01 |\n",
              "|        1.00e+00 |   1.39e+01 |   6.00e+01 | 1.39e+01 |          0.00e+00 |\n",
              "|        1.00e+00 |   1.93e+01 |   6.00e+01 | 1.93e+01 |          0.00e+00 |\n",
              "|        1.00e+00 |   1.60e+01 |   6.00e+01 | 1.60e+01 |          1.10e-02 |\n",
              "+-----------------+------------+------------+----------+-------------------+\n",
              "\n",
              "+----------+------------+---------------------+--------------------+\n",
              "|  info.FS | info.AS_FS | info.ReadPosRankSum | info.AS_QUALapprox |\n",
              "+----------+------------+---------------------+--------------------+\n",
              "|  float64 |    float64 |             float64 |              int32 |\n",
              "+----------+------------+---------------------+--------------------+\n",
              "| 1.17e+00 |   1.17e+00 |            5.15e-01 |          332680306 |\n",
              "| 2.52e+01 |   2.52e+01 |            1.05e+00 |          133145705 |\n",
              "| 1.11e+00 |   1.11e+00 |            9.38e-01 |          124592291 |\n",
              "| 3.18e+00 |   3.18e+00 |           -1.27e-01 |          179360814 |\n",
              "| 1.53e+01 |   1.53e+01 |            9.54e-01 |          115906389 |\n",
              "| 6.53e+00 |   6.53e+00 |           -6.50e-02 |          157871544 |\n",
              "| 2.30e+00 |   2.30e+00 |            5.50e-01 |          113903241 |\n",
              "| 0.00e+00 |   0.00e+00 |            4.96e-01 |          152604571 |\n",
              "| 5.20e-01 |   5.20e-01 |            3.64e-01 |          204637824 |\n",
              "| 5.16e-01 |   5.16e-01 |            7.40e-01 |          166814776 |\n",
              "+----------+------------+---------------------+--------------------+\n",
              "\n",
              "+-----------------------------------+---------------+-------------+----------+\n",
              "| info.AS_SB_TABLE                  | info.AS_VarDP | info.AS_SOR | info.SOR |\n",
              "+-----------------------------------+---------------+-------------+----------+\n",
              "| array<int32>                      |         int32 |     float64 |  float64 |\n",
              "+-----------------------------------+---------------+-------------+----------+\n",
              "| [2530759,2658686,4674032,5445216] |      15307914 |    8.02e-01 | 8.02e-01 |\n",
              "| [2744392,2448688,2632227,938989]  |       8764281 |    1.98e+00 | 1.98e+00 |\n",
              "| [3447869,3213349,2778556,2338468] |      11778240 |    8.00e-01 | 8.00e-01 |\n",
              "| [2431382,2598153,2418400,2106424] |       9554359 |    7.86e-01 | 7.86e-01 |\n",
              "| [2362886,2344431,2204225,1144085] |       8055567 |    1.54e+00 | 1.54e+00 |\n",
              "| [1038041,2758564,1388629,2553316] |       7738550 |    3.91e-01 | 3.91e-01 |\n",
              "| [9577761,6255003,2256377,1811696] |      19900836 |    5.08e-01 | 5.08e-01 |\n",
              "| [2875919,2474509,3025151,2601452] |      10976952 |    6.94e-01 | 6.94e-01 |\n",
              "| [2818670,2658428,2716858,2427104] |      10621059 |    7.49e-01 | 7.49e-01 |\n",
              "| [2745828,2529213,2725172,2431983] |      10432195 |    7.25e-01 | 7.25e-01 |\n",
              "+-----------------------------------+---------------+-------------+----------+\n",
              "\n",
              "+----------------------------+-----------+------------+------------------+\n",
              "| info.transmitted_singleton | info.omni | info.mills | info.monoallelic |\n",
              "+----------------------------+-----------+------------+------------------+\n",
              "|                       bool |      bool |       bool |             bool |\n",
              "+----------------------------+-----------+------------+------------------+\n",
              "|                      False |     False |      False |            False |\n",
              "|                      False |     False |      False |            False |\n",
              "|                      False |     False |      False |            False |\n",
              "|                      False |     False |      False |            False |\n",
              "|                      False |     False |      False |            False |\n",
              "|                      False |     False |      False |            False |\n",
              "|                      False |     False |      False |            False |\n",
              "|                      False |     False |      False |            False |\n",
              "|                      False |     False |      False |            False |\n",
              "|                      False |     False |      False |            False |\n",
              "+----------------------------+-----------+------------+------------------+\n",
              "\n",
              "+----------------+----------------------+--------------------------+\n",
              "| info.AS_VQSLOD | info.InbreedingCoeff | variant_qc.dp_stats.mean |\n",
              "+----------------+----------------------+--------------------------+\n",
              "|        float64 |              float64 |                  float64 |\n",
              "+----------------+----------------------+--------------------------+\n",
              "|      -1.62e+00 |            -9.98e-01 |                 9.05e+01 |\n",
              "|      -2.50e+00 |            -9.99e-01 |                 5.63e+01 |\n",
              "|      -3.95e-01 |            -1.00e+00 |                 9.17e+01 |\n",
              "|       1.22e+00 |            -1.00e+00 |                 5.81e+01 |\n",
              "|      -1.18e+00 |            -9.97e-01 |                 4.87e+01 |\n",
              "|      -1.80e-03 |            -1.00e+00 |                 4.53e+01 |\n",
              "|      -1.05e+00 |            -9.98e-01 |                 1.08e+02 |\n",
              "|       1.87e+01 |            -9.91e-01 |                 7.18e+01 |\n",
              "|       3.95e+00 |            -1.00e+00 |                 6.83e+01 |\n",
              "|       2.60e+00 |            -1.00e+00 |                 7.04e+01 |\n",
              "+----------------+----------------------+--------------------------+\n",
              "\n",
              "+---------------------------+-------------------------+\n",
              "| variant_qc.dp_stats.stdev | variant_qc.dp_stats.min |\n",
              "+---------------------------+-------------------------+\n",
              "|                   float64 |                 float64 |\n",
              "+---------------------------+-------------------------+\n",
              "|                  2.26e+01 |                4.40e+01 |\n",
              "|                  1.36e+01 |                2.80e+01 |\n",
              "|                  1.96e+01 |                4.70e+01 |\n",
              "|                  1.15e+01 |                3.20e+01 |\n",
              "|                  1.02e+01 |                2.60e+01 |\n",
              "|                  9.72e+00 |                2.50e+01 |\n",
              "|                  2.95e+01 |                6.50e+01 |\n",
              "|                  1.52e+01 |                4.10e+01 |\n",
              "|                  1.17e+01 |                3.90e+01 |\n",
              "|                  1.26e+01 |                4.10e+01 |\n",
              "+---------------------------+-------------------------+\n",
              "\n",
              "+-------------------------+--------------------------+\n",
              "| variant_qc.dp_stats.max | variant_qc.gq_stats.mean |\n",
              "+-------------------------+--------------------------+\n",
              "|                 float64 |                  float64 |\n",
              "+-------------------------+--------------------------+\n",
              "|                3.13e+02 |                 9.90e+01 |\n",
              "|                1.29e+02 |                 9.90e+01 |\n",
              "|                1.76e+02 |                 9.90e+01 |\n",
              "|                1.47e+02 |                 9.90e+01 |\n",
              "|                1.16e+02 |                 9.90e+01 |\n",
              "|                1.23e+02 |                 9.90e+01 |\n",
              "|                4.78e+02 |                 9.90e+01 |\n",
              "|                1.52e+02 |                 9.90e+01 |\n",
              "|                1.35e+02 |                 9.90e+01 |\n",
              "|                1.34e+02 |                 9.90e+01 |\n",
              "+-------------------------+--------------------------+\n",
              "\n",
              "+---------------------------+-------------------------+\n",
              "| variant_qc.gq_stats.stdev | variant_qc.gq_stats.min |\n",
              "+---------------------------+-------------------------+\n",
              "|                   float64 |                 float64 |\n",
              "+---------------------------+-------------------------+\n",
              "|                  0.00e+00 |                9.90e+01 |\n",
              "|                  0.00e+00 |                9.90e+01 |\n",
              "|                  0.00e+00 |                9.90e+01 |\n",
              "|                  0.00e+00 |                9.90e+01 |\n",
              "|                  0.00e+00 |                9.90e+01 |\n",
              "|                  0.00e+00 |                9.90e+01 |\n",
              "|                  3.56e-01 |                9.20e+01 |\n",
              "|                  0.00e+00 |                9.90e+01 |\n",
              "|                  0.00e+00 |                9.90e+01 |\n",
              "|                  0.00e+00 |                9.90e+01 |\n",
              "+---------------------------+-------------------------+\n",
              "\n",
              "+-------------------------+---------------+---------------------+\n",
              "| variant_qc.gq_stats.max | variant_qc.AC | variant_qc.AF       |\n",
              "+-------------------------+---------------+---------------------+\n",
              "|                 float64 | array<int32>  | array<float64>      |\n",
              "+-------------------------+---------------+---------------------+\n",
              "|                9.90e+01 | [385,385]     | [5.00e-01,5.00e-01] |\n",
              "|                9.90e+01 | [385,385]     | [5.00e-01,5.00e-01] |\n",
              "|                9.90e+01 | [385,385]     | [5.00e-01,5.00e-01] |\n",
              "|                9.90e+01 | [385,385]     | [5.00e-01,5.00e-01] |\n",
              "|                9.90e+01 | [385,385]     | [5.00e-01,5.00e-01] |\n",
              "|                9.90e+01 | [385,385]     | [5.00e-01,5.00e-01] |\n",
              "|                9.90e+01 | [385,385]     | [5.00e-01,5.00e-01] |\n",
              "|                9.90e+01 | [385,385]     | [5.00e-01,5.00e-01] |\n",
              "|                9.90e+01 | [385,385]     | [5.00e-01,5.00e-01] |\n",
              "|                9.90e+01 | [385,385]     | [5.00e-01,5.00e-01] |\n",
              "+-------------------------+---------------+---------------------+\n",
              "\n",
              "+---------------+-----------------------------+----------------------+\n",
              "| variant_qc.AN | variant_qc.homozygote_count | variant_qc.call_rate |\n",
              "+---------------+-----------------------------+----------------------+\n",
              "|         int32 | array<int32>                |              float64 |\n",
              "+---------------+-----------------------------+----------------------+\n",
              "|           770 | [0,0]                       |             1.00e+00 |\n",
              "|           770 | [0,0]                       |             1.00e+00 |\n",
              "|           770 | [0,0]                       |             1.00e+00 |\n",
              "|           770 | [0,0]                       |             1.00e+00 |\n",
              "|           770 | [0,0]                       |             1.00e+00 |\n",
              "|           770 | [0,0]                       |             1.00e+00 |\n",
              "|           770 | [0,0]                       |             1.00e+00 |\n",
              "|           770 | [0,0]                       |             1.00e+00 |\n",
              "|           770 | [0,0]                       |             1.00e+00 |\n",
              "|           770 | [0,0]                       |             1.00e+00 |\n",
              "+---------------+-----------------------------+----------------------+\n",
              "\n",
              "+---------------------+-------------------------+-----------------------+\n",
              "| variant_qc.n_called | variant_qc.n_not_called | variant_qc.n_filtered |\n",
              "+---------------------+-------------------------+-----------------------+\n",
              "|               int64 |                   int64 |                 int64 |\n",
              "+---------------------+-------------------------+-----------------------+\n",
              "|                 385 |                       0 |                     0 |\n",
              "|                 385 |                       0 |                     0 |\n",
              "|                 385 |                       0 |                     0 |\n",
              "|                 385 |                       0 |                     0 |\n",
              "|                 385 |                       0 |                     0 |\n",
              "|                 385 |                       0 |                     0 |\n",
              "|                 385 |                       0 |                     0 |\n",
              "|                 385 |                       0 |                     0 |\n",
              "|                 385 |                       0 |                     0 |\n",
              "|                 385 |                       0 |                     0 |\n",
              "+---------------------+-------------------------+-----------------------+\n",
              "\n",
              "+------------------+----------------------+-------------------------+\n",
              "| variant_qc.n_het | variant_qc.n_non_ref | variant_qc.het_freq_hwe |\n",
              "+------------------+----------------------+-------------------------+\n",
              "|            int64 |                int64 |                 float64 |\n",
              "+------------------+----------------------+-------------------------+\n",
              "|              385 |                  385 |                5.01e-01 |\n",
              "|              385 |                  385 |                5.01e-01 |\n",
              "|              385 |                  385 |                5.01e-01 |\n",
              "|              385 |                  385 |                5.01e-01 |\n",
              "|              385 |                  385 |                5.01e-01 |\n",
              "|              385 |                  385 |                5.01e-01 |\n",
              "|              385 |                  385 |                5.01e-01 |\n",
              "|              385 |                  385 |                5.01e-01 |\n",
              "|              385 |                  385 |                5.01e-01 |\n",
              "|              385 |                  385 |                5.01e-01 |\n",
              "+------------------+----------------------+-------------------------+\n",
              "\n",
              "+------------------------+-------------------------------+\n",
              "| variant_qc.p_value_hwe | variant_qc.p_value_excess_het |\n",
              "+------------------------+-------------------------------+\n",
              "|                float64 |                       float64 |\n",
              "+------------------------+-------------------------------+\n",
              "|              2.21e-115 |                     2.21e-115 |\n",
              "|              2.21e-115 |                     2.21e-115 |\n",
              "|              2.21e-115 |                     2.21e-115 |\n",
              "|              2.21e-115 |                     2.21e-115 |\n",
              "|              2.21e-115 |                     2.21e-115 |\n",
              "|              2.21e-115 |                     2.21e-115 |\n",
              "|              2.21e-115 |                     2.21e-115 |\n",
              "|              2.21e-115 |                     2.21e-115 |\n",
              "|              2.21e-115 |                     2.21e-115 |\n",
              "|              2.21e-115 |                     2.21e-115 |\n",
              "+------------------------+-------------------------------+\n",
              "showing top 10 rows"
            ]
          },
          "metadata": {},
          "output_type": "display_data"
        }
      ],
      "source": [
        "rows = mt.rows()\n",
        "rows.order_by(rows.variant_qc.p_value_hwe).show()"
      ]
    },
    {
      "cell_type": "markdown",
      "metadata": {
        "id": "wSK9TqdfsvG7"
      },
      "source": [
        "### Exercise 4\n",
        "\n",
        "There's a lot of information in the above output. Take a moment to look through, and remember, these are **bad-quality variants**. Why do these variants had such low HWE p-values? *Hint: scroll all the way to the right to the variant_qc output*."
      ]
    },
    {
      "cell_type": "markdown",
      "metadata": {
        "id": "zPH2poS7svG7"
      },
      "source": [
        "### The VCF `FILTERS` field\n",
        "\n",
        "You're not entirely on your own for variant QC -- most variant calling software generates its own filtering annotations that are present in the `FILTERS` field of the VCF. Lines of the VCF might have reasons to be filtered, or might be `PASS`. Above, almost every one of these bad variants has the `\"InbreedingCoeff\"` filter listed in its `mt.filters` field!\n",
        "\n",
        "We can remove all of these pre-filtered variants by keeping only variants which have no filters applied."
      ]
    },
    {
      "cell_type": "code",
      "execution_count": null,
      "metadata": {
        "id": "2aNWY62lsvG7"
      },
      "outputs": [],
      "source": [
        "mt = mt.filter_rows(hl.len(mt.filters) == 0)"
      ]
    },
    {
      "cell_type": "markdown",
      "metadata": {
        "id": "nD_gnFMysvG8"
      },
      "source": [
        "We can then compute the final sample and variant count:"
      ]
    },
    {
      "cell_type": "code",
      "execution_count": null,
      "metadata": {
        "id": "vpST3v1LsvG8",
        "outputId": "4d2cc045-045e-4ecf-b4f8-7d71d1a2667a"
      },
      "outputs": [
        {
          "name": "stderr",
          "output_type": "stream",
          "text": [
            "[Stage 37:=============================>                            (2 + 2) / 4]\r"
          ]
        },
        {
          "data": {
            "text/plain": [
              "(8538, 385)"
            ]
          },
          "execution_count": 37,
          "metadata": {},
          "output_type": "execute_result"
        }
      ],
      "source": [
        "mt.count()"
      ]
    },
    {
      "cell_type": "markdown",
      "metadata": {
        "id": "55td0Uv_svG8"
      },
      "source": [
        "How many variants did you lose from your variant QC? "
      ]
    },
    {
      "cell_type": "markdown",
      "metadata": {
        "id": "eqdZsWXGsvG8"
      },
      "source": [
        "# 7. Association Testing and PCA\n",
        "\n",
        "The goal of a GWAS is to find associations between genotypes and a trait of interest.\n",
        "\n",
        "First, we filter to common variants (those with a minor allele frequency over 1%). GWAS is not well-powered to detect signal from extremely rare variants, like those only observed in one individual.\n",
        "\n",
        "Our filter below removes variants where the minimum value of AF is below 1%. The AF array computed by `hl.variant_qc` contains one value for each allele, **including the reference**, and sums to 1.0.\n",
        "\n",
        "A variant with 5% MAF might have AF values `[0.95, 0.05]` or `[0.05, 0.95]`. A variant with 0.1% MAF might have AF values `[0.999, 0.001]` or `[0.001, 0.999]`. This filter ensures that we account for both cases."
      ]
    },
    {
      "cell_type": "code",
      "execution_count": null,
      "metadata": {
        "id": "omSCwNz4svG8"
      },
      "outputs": [],
      "source": [
        "base = mt\n",
        "mt = base.filter_rows(hl.min(base.variant_qc.AF) > 0.01)"
      ]
    },
    {
      "cell_type": "code",
      "execution_count": null,
      "metadata": {
        "id": "aBertwXBsvG8",
        "outputId": "d98a884b-27d1-44f0-b3f1-0e8ccd51b252"
      },
      "outputs": [
        {
          "name": "stderr",
          "output_type": "stream",
          "text": [
            "[Stage 39:=============================>                            (2 + 2) / 4]\r"
          ]
        },
        {
          "data": {
            "text/plain": [
              "(5862, 385)"
            ]
          },
          "execution_count": 39,
          "metadata": {},
          "output_type": "execute_result"
        }
      ],
      "source": [
        "mt.count()"
      ]
    },
    {
      "cell_type": "markdown",
      "metadata": {
        "id": "huK0nHWesvG8"
      },
      "source": [
        "How many variants did you lose from your common variant filter? "
      ]
    },
    {
      "cell_type": "markdown",
      "metadata": {
        "id": "aWTD-nA6svG8"
      },
      "source": [
        "Remember that in a GWAS we're running independent association tests on each variant.\n",
        "\n",
        "In Hail, the method we use is [hl.linear_regression_rows](https://hail.is/docs/0.2/methods/stats.html#hail.methods.linear_regression_rows). Why isn't this called `hl.gwas`? Modularity! There are applications for this statistical method other than genome wide association studies.\n",
        "\n",
        "We will start by using the `sleep_duration` phenotype. At the end, you will have a chance to try the others (you can do that by editing the string below to one of the other phenotypes and rerunning the rest of the notebook). The other phenotypes are:\n",
        "\n",
        " - 'tea_intake_daily'\n",
        " - 'general_happiness'\n",
        " - 'screen_time_per_day'"
      ]
    },
    {
      "cell_type": "code",
      "execution_count": null,
      "metadata": {
        "id": "_n4VmBBWsvG8"
      },
      "outputs": [],
      "source": [
        "phenotype = 'sleep_duration'"
      ]
    },
    {
      "cell_type": "code",
      "execution_count": null,
      "metadata": {
        "id": "_crbUl7OsvG8",
        "outputId": "8717b035-52c2-4a2d-8bff-86c1b1d1b55b"
      },
      "outputs": [
        {
          "name": "stderr",
          "output_type": "stream",
          "text": [
            "[Stage 44:=============================>                            (2 + 2) / 4]\r"
          ]
        }
      ],
      "source": [
        "gwas = hl.linear_regression_rows(y=mt.sample_data[phenotype], \n",
        "                                 x=mt.GT.n_alt_alleles(), \n",
        "                                 covariates=[1.0]  # intercept term\n",
        "                                )"
      ]
    },
    {
      "cell_type": "markdown",
      "metadata": {
        "id": "mPavBG_TsvG8"
      },
      "source": [
        "The resulting output from the line above is a `table`. Let's look at what the table looks like."
      ]
    },
    {
      "cell_type": "markdown",
      "metadata": {
        "id": "tQb2U10AsvG8"
      },
      "source": [
        "Out of all of the fields, we would recommend focusing your understanding of the p-value and beta effect when determining if you have a GWAS signal.\n",
        "\n",
        "**However**, keep in mind that the results thus far may need your model to be adjusted."
      ]
    },
    {
      "cell_type": "code",
      "execution_count": null,
      "metadata": {
        "id": "G7x_inVesvG9",
        "outputId": "b23ae8e9-1f85-429e-e174-c6378a83c8ef"
      },
      "outputs": [
        {
          "data": {
            "text/html": [
              "<table><thead><tr><td style=\"white-space: nowrap; max-width: 500px; overflow: hidden; text-overflow: ellipsis; \" colspan=\"1\"><div style=\"text-align: left;\"></div></td><td style=\"white-space: nowrap; max-width: 500px; overflow: hidden; text-overflow: ellipsis; \" colspan=\"1\"><div style=\"text-align: left;\"></div></td><td style=\"white-space: nowrap; max-width: 500px; overflow: hidden; text-overflow: ellipsis; \" colspan=\"1\"><div style=\"text-align: left;\"></div></td><td style=\"white-space: nowrap; max-width: 500px; overflow: hidden; text-overflow: ellipsis; \" colspan=\"1\"><div style=\"text-align: left;\"></div></td><td style=\"white-space: nowrap; max-width: 500px; overflow: hidden; text-overflow: ellipsis; \" colspan=\"1\"><div style=\"text-align: left;\"></div></td><td style=\"white-space: nowrap; max-width: 500px; overflow: hidden; text-overflow: ellipsis; \" colspan=\"1\"><div style=\"text-align: left;\"></div></td><td style=\"white-space: nowrap; max-width: 500px; overflow: hidden; text-overflow: ellipsis; \" colspan=\"1\"><div style=\"text-align: left;\"></div></td><td style=\"white-space: nowrap; max-width: 500px; overflow: hidden; text-overflow: ellipsis; \" colspan=\"1\"><div style=\"text-align: left;\"></div></td><td style=\"white-space: nowrap; max-width: 500px; overflow: hidden; text-overflow: ellipsis; \" colspan=\"1\"><div style=\"text-align: left;\"></div></td></tr><tr><td style=\"white-space: nowrap; max-width: 500px; overflow: hidden; text-overflow: ellipsis; \" colspan=\"1\"><div style=\"text-align: left;border-bottom: solid 2px #000; padding-bottom: 5px\">locus</div></td><td style=\"white-space: nowrap; max-width: 500px; overflow: hidden; text-overflow: ellipsis; \" colspan=\"1\"><div style=\"text-align: left;border-bottom: solid 2px #000; padding-bottom: 5px\">alleles</div></td><td style=\"white-space: nowrap; max-width: 500px; overflow: hidden; text-overflow: ellipsis; \" colspan=\"1\"><div style=\"text-align: left;border-bottom: solid 2px #000; padding-bottom: 5px\">n</div></td><td style=\"white-space: nowrap; max-width: 500px; overflow: hidden; text-overflow: ellipsis; \" colspan=\"1\"><div style=\"text-align: left;border-bottom: solid 2px #000; padding-bottom: 5px\">sum_x</div></td><td style=\"white-space: nowrap; max-width: 500px; overflow: hidden; text-overflow: ellipsis; \" colspan=\"1\"><div style=\"text-align: left;border-bottom: solid 2px #000; padding-bottom: 5px\">y_transpose_x</div></td><td style=\"white-space: nowrap; max-width: 500px; overflow: hidden; text-overflow: ellipsis; \" colspan=\"1\"><div style=\"text-align: left;border-bottom: solid 2px #000; padding-bottom: 5px\">beta</div></td><td style=\"white-space: nowrap; max-width: 500px; overflow: hidden; text-overflow: ellipsis; \" colspan=\"1\"><div style=\"text-align: left;border-bottom: solid 2px #000; padding-bottom: 5px\">standard_error</div></td><td style=\"white-space: nowrap; max-width: 500px; overflow: hidden; text-overflow: ellipsis; \" colspan=\"1\"><div style=\"text-align: left;border-bottom: solid 2px #000; padding-bottom: 5px\">t_stat</div></td><td style=\"white-space: nowrap; max-width: 500px; overflow: hidden; text-overflow: ellipsis; \" colspan=\"1\"><div style=\"text-align: left;border-bottom: solid 2px #000; padding-bottom: 5px\">p_value</div></td></tr><tr><td style=\"white-space: nowrap; max-width: 500px; overflow: hidden; text-overflow: ellipsis; text-align: left;\">locus&lt;GRCh38&gt;</td><td style=\"white-space: nowrap; max-width: 500px; overflow: hidden; text-overflow: ellipsis; text-align: left;\">array&lt;str&gt;</td><td style=\"white-space: nowrap; max-width: 500px; overflow: hidden; text-overflow: ellipsis; text-align: left;\">int32</td><td style=\"white-space: nowrap; max-width: 500px; overflow: hidden; text-overflow: ellipsis; text-align: left;\">float64</td><td style=\"white-space: nowrap; max-width: 500px; overflow: hidden; text-overflow: ellipsis; text-align: left;\">float64</td><td style=\"white-space: nowrap; max-width: 500px; overflow: hidden; text-overflow: ellipsis; text-align: left;\">float64</td><td style=\"white-space: nowrap; max-width: 500px; overflow: hidden; text-overflow: ellipsis; text-align: left;\">float64</td><td style=\"white-space: nowrap; max-width: 500px; overflow: hidden; text-overflow: ellipsis; text-align: left;\">float64</td><td style=\"white-space: nowrap; max-width: 500px; overflow: hidden; text-overflow: ellipsis; text-align: left;\">float64</td></tr>\n",
              "</thead><tbody><tr><td style=\"white-space: nowrap; max-width: 500px; overflow: hidden; text-overflow: ellipsis; \">chr1:17379</td><td style=\"white-space: nowrap; max-width: 500px; overflow: hidden; text-overflow: ellipsis; \">[&quot;G&quot;,&quot;A&quot;]</td><td style=\"white-space: nowrap; max-width: 500px; overflow: hidden; text-overflow: ellipsis; \">385</td><td style=\"white-space: nowrap; max-width: 500px; overflow: hidden; text-overflow: ellipsis; \">1.01e+01</td><td style=\"white-space: nowrap; max-width: 500px; overflow: hidden; text-overflow: ellipsis; \">5.18e+01</td><td style=\"white-space: nowrap; max-width: 500px; overflow: hidden; text-overflow: ellipsis; \">-9.35e-01</td><td style=\"white-space: nowrap; max-width: 500px; overflow: hidden; text-overflow: ellipsis; \">4.64e-01</td><td style=\"white-space: nowrap; max-width: 500px; overflow: hidden; text-overflow: ellipsis; \">-2.02e+00</td><td style=\"white-space: nowrap; max-width: 500px; overflow: hidden; text-overflow: ellipsis; \">4.45e-02</td></tr>\n",
              "<tr><td style=\"white-space: nowrap; max-width: 500px; overflow: hidden; text-overflow: ellipsis; \">chr1:1130877</td><td style=\"white-space: nowrap; max-width: 500px; overflow: hidden; text-overflow: ellipsis; \">[&quot;C&quot;,&quot;G&quot;]</td><td style=\"white-space: nowrap; max-width: 500px; overflow: hidden; text-overflow: ellipsis; \">385</td><td style=\"white-space: nowrap; max-width: 500px; overflow: hidden; text-overflow: ellipsis; \">1.20e+01</td><td style=\"white-space: nowrap; max-width: 500px; overflow: hidden; text-overflow: ellipsis; \">7.20e+01</td><td style=\"white-space: nowrap; max-width: 500px; overflow: hidden; text-overflow: ellipsis; \">-2.41e-02</td><td style=\"white-space: nowrap; max-width: 500px; overflow: hidden; text-overflow: ellipsis; \">4.27e-01</td><td style=\"white-space: nowrap; max-width: 500px; overflow: hidden; text-overflow: ellipsis; \">-5.65e-02</td><td style=\"white-space: nowrap; max-width: 500px; overflow: hidden; text-overflow: ellipsis; \">9.55e-01</td></tr>\n",
              "<tr><td style=\"white-space: nowrap; max-width: 500px; overflow: hidden; text-overflow: ellipsis; \">chr1:1491494</td><td style=\"white-space: nowrap; max-width: 500px; overflow: hidden; text-overflow: ellipsis; \">[&quot;G&quot;,&quot;A&quot;]</td><td style=\"white-space: nowrap; max-width: 500px; overflow: hidden; text-overflow: ellipsis; \">385</td><td style=\"white-space: nowrap; max-width: 500px; overflow: hidden; text-overflow: ellipsis; \">9.00e+00</td><td style=\"white-space: nowrap; max-width: 500px; overflow: hidden; text-overflow: ellipsis; \">5.30e+01</td><td style=\"white-space: nowrap; max-width: 500px; overflow: hidden; text-overflow: ellipsis; \">-1.38e-01</td><td style=\"white-space: nowrap; max-width: 500px; overflow: hidden; text-overflow: ellipsis; \">4.91e-01</td><td style=\"white-space: nowrap; max-width: 500px; overflow: hidden; text-overflow: ellipsis; \">-2.81e-01</td><td style=\"white-space: nowrap; max-width: 500px; overflow: hidden; text-overflow: ellipsis; \">7.79e-01</td></tr>\n",
              "<tr><td style=\"white-space: nowrap; max-width: 500px; overflow: hidden; text-overflow: ellipsis; \">chr1:1618118</td><td style=\"white-space: nowrap; max-width: 500px; overflow: hidden; text-overflow: ellipsis; \">[&quot;G&quot;,&quot;A&quot;]</td><td style=\"white-space: nowrap; max-width: 500px; overflow: hidden; text-overflow: ellipsis; \">385</td><td style=\"white-space: nowrap; max-width: 500px; overflow: hidden; text-overflow: ellipsis; \">1.29e+02</td><td style=\"white-space: nowrap; max-width: 500px; overflow: hidden; text-overflow: ellipsis; \">7.67e+02</td><td style=\"white-space: nowrap; max-width: 500px; overflow: hidden; text-overflow: ellipsis; \">-9.27e-02</td><td style=\"white-space: nowrap; max-width: 500px; overflow: hidden; text-overflow: ellipsis; \">1.28e-01</td><td style=\"white-space: nowrap; max-width: 500px; overflow: hidden; text-overflow: ellipsis; \">-7.26e-01</td><td style=\"white-space: nowrap; max-width: 500px; overflow: hidden; text-overflow: ellipsis; \">4.68e-01</td></tr>\n",
              "<tr><td style=\"white-space: nowrap; max-width: 500px; overflow: hidden; text-overflow: ellipsis; \">chr1:3008858</td><td style=\"white-space: nowrap; max-width: 500px; overflow: hidden; text-overflow: ellipsis; \">[&quot;A&quot;,&quot;G&quot;]</td><td style=\"white-space: nowrap; max-width: 500px; overflow: hidden; text-overflow: ellipsis; \">385</td><td style=\"white-space: nowrap; max-width: 500px; overflow: hidden; text-overflow: ellipsis; \">2.33e+02</td><td style=\"white-space: nowrap; max-width: 500px; overflow: hidden; text-overflow: ellipsis; \">1.44e+03</td><td style=\"white-space: nowrap; max-width: 500px; overflow: hidden; text-overflow: ellipsis; \">1.52e-01</td><td style=\"white-space: nowrap; max-width: 500px; overflow: hidden; text-overflow: ellipsis; \">1.01e-01</td><td style=\"white-space: nowrap; max-width: 500px; overflow: hidden; text-overflow: ellipsis; \">1.51e+00</td><td style=\"white-space: nowrap; max-width: 500px; overflow: hidden; text-overflow: ellipsis; \">1.32e-01</td></tr>\n",
              "<tr><td style=\"white-space: nowrap; max-width: 500px; overflow: hidden; text-overflow: ellipsis; \">chr1:3254545</td><td style=\"white-space: nowrap; max-width: 500px; overflow: hidden; text-overflow: ellipsis; \">[&quot;T&quot;,&quot;C&quot;]</td><td style=\"white-space: nowrap; max-width: 500px; overflow: hidden; text-overflow: ellipsis; \">385</td><td style=\"white-space: nowrap; max-width: 500px; overflow: hidden; text-overflow: ellipsis; \">2.83e+02</td><td style=\"white-space: nowrap; max-width: 500px; overflow: hidden; text-overflow: ellipsis; \">1.76e+03</td><td style=\"white-space: nowrap; max-width: 500px; overflow: hidden; text-overflow: ellipsis; \">2.53e-01</td><td style=\"white-space: nowrap; max-width: 500px; overflow: hidden; text-overflow: ellipsis; \">9.75e-02</td><td style=\"white-space: nowrap; max-width: 500px; overflow: hidden; text-overflow: ellipsis; \">2.59e+00</td><td style=\"white-space: nowrap; max-width: 500px; overflow: hidden; text-overflow: ellipsis; \">9.83e-03</td></tr>\n",
              "<tr><td style=\"white-space: nowrap; max-width: 500px; overflow: hidden; text-overflow: ellipsis; \">chr1:3779436</td><td style=\"white-space: nowrap; max-width: 500px; overflow: hidden; text-overflow: ellipsis; \">[&quot;T&quot;,&quot;C&quot;]</td><td style=\"white-space: nowrap; max-width: 500px; overflow: hidden; text-overflow: ellipsis; \">385</td><td style=\"white-space: nowrap; max-width: 500px; overflow: hidden; text-overflow: ellipsis; \">3.72e+02</td><td style=\"white-space: nowrap; max-width: 500px; overflow: hidden; text-overflow: ellipsis; \">2.17e+03</td><td style=\"white-space: nowrap; max-width: 500px; overflow: hidden; text-overflow: ellipsis; \">-2.60e-01</td><td style=\"white-space: nowrap; max-width: 500px; overflow: hidden; text-overflow: ellipsis; \">8.92e-02</td><td style=\"white-space: nowrap; max-width: 500px; overflow: hidden; text-overflow: ellipsis; \">-2.91e+00</td><td style=\"white-space: nowrap; max-width: 500px; overflow: hidden; text-overflow: ellipsis; \">3.78e-03</td></tr>\n",
              "<tr><td style=\"white-space: nowrap; max-width: 500px; overflow: hidden; text-overflow: ellipsis; \">chr1:4156721</td><td style=\"white-space: nowrap; max-width: 500px; overflow: hidden; text-overflow: ellipsis; \">[&quot;C&quot;,&quot;T&quot;]</td><td style=\"white-space: nowrap; max-width: 500px; overflow: hidden; text-overflow: ellipsis; \">385</td><td style=\"white-space: nowrap; max-width: 500px; overflow: hidden; text-overflow: ellipsis; \">2.31e+01</td><td style=\"white-space: nowrap; max-width: 500px; overflow: hidden; text-overflow: ellipsis; \">1.46e+02</td><td style=\"white-space: nowrap; max-width: 500px; overflow: hidden; text-overflow: ellipsis; \">2.76e-01</td><td style=\"white-space: nowrap; max-width: 500px; overflow: hidden; text-overflow: ellipsis; \">2.99e-01</td><td style=\"white-space: nowrap; max-width: 500px; overflow: hidden; text-overflow: ellipsis; \">9.23e-01</td><td style=\"white-space: nowrap; max-width: 500px; overflow: hidden; text-overflow: ellipsis; \">3.57e-01</td></tr>\n",
              "<tr><td style=\"white-space: nowrap; max-width: 500px; overflow: hidden; text-overflow: ellipsis; \">chr1:4510922</td><td style=\"white-space: nowrap; max-width: 500px; overflow: hidden; text-overflow: ellipsis; \">[&quot;C&quot;,&quot;T&quot;]</td><td style=\"white-space: nowrap; max-width: 500px; overflow: hidden; text-overflow: ellipsis; \">385</td><td style=\"white-space: nowrap; max-width: 500px; overflow: hidden; text-overflow: ellipsis; \">9.30e+01</td><td style=\"white-space: nowrap; max-width: 500px; overflow: hidden; text-overflow: ellipsis; \">5.67e+02</td><td style=\"white-space: nowrap; max-width: 500px; overflow: hidden; text-overflow: ellipsis; \">7.22e-02</td><td style=\"white-space: nowrap; max-width: 500px; overflow: hidden; text-overflow: ellipsis; \">1.50e-01</td><td style=\"white-space: nowrap; max-width: 500px; overflow: hidden; text-overflow: ellipsis; \">4.83e-01</td><td style=\"white-space: nowrap; max-width: 500px; overflow: hidden; text-overflow: ellipsis; \">6.30e-01</td></tr>\n",
              "<tr><td style=\"white-space: nowrap; max-width: 500px; overflow: hidden; text-overflow: ellipsis; \">chr1:4748394</td><td style=\"white-space: nowrap; max-width: 500px; overflow: hidden; text-overflow: ellipsis; \">[&quot;G&quot;,&quot;A&quot;]</td><td style=\"white-space: nowrap; max-width: 500px; overflow: hidden; text-overflow: ellipsis; \">385</td><td style=\"white-space: nowrap; max-width: 500px; overflow: hidden; text-overflow: ellipsis; \">3.18e+02</td><td style=\"white-space: nowrap; max-width: 500px; overflow: hidden; text-overflow: ellipsis; \">1.85e+03</td><td style=\"white-space: nowrap; max-width: 500px; overflow: hidden; text-overflow: ellipsis; \">-3.37e-01</td><td style=\"white-space: nowrap; max-width: 500px; overflow: hidden; text-overflow: ellipsis; \">1.02e-01</td><td style=\"white-space: nowrap; max-width: 500px; overflow: hidden; text-overflow: ellipsis; \">-3.30e+00</td><td style=\"white-space: nowrap; max-width: 500px; overflow: hidden; text-overflow: ellipsis; \">1.07e-03</td></tr>\n",
              "</tbody></table><p style=\"background: #fdd; padding: 0.4em;\">showing top 10 rows</p>\n"
            ],
            "text/plain": [
              "+---------------+------------+-------+----------+---------------+-----------+\n",
              "| locus         | alleles    |     n |    sum_x | y_transpose_x |      beta |\n",
              "+---------------+------------+-------+----------+---------------+-----------+\n",
              "| locus<GRCh38> | array<str> | int32 |  float64 |       float64 |   float64 |\n",
              "+---------------+------------+-------+----------+---------------+-----------+\n",
              "| chr1:17379    | [\"G\",\"A\"]  |   385 | 1.01e+01 |      5.18e+01 | -9.35e-01 |\n",
              "| chr1:1130877  | [\"C\",\"G\"]  |   385 | 1.20e+01 |      7.20e+01 | -2.41e-02 |\n",
              "| chr1:1491494  | [\"G\",\"A\"]  |   385 | 9.00e+00 |      5.30e+01 | -1.38e-01 |\n",
              "| chr1:1618118  | [\"G\",\"A\"]  |   385 | 1.29e+02 |      7.67e+02 | -9.27e-02 |\n",
              "| chr1:3008858  | [\"A\",\"G\"]  |   385 | 2.33e+02 |      1.44e+03 |  1.52e-01 |\n",
              "| chr1:3254545  | [\"T\",\"C\"]  |   385 | 2.83e+02 |      1.76e+03 |  2.53e-01 |\n",
              "| chr1:3779436  | [\"T\",\"C\"]  |   385 | 3.72e+02 |      2.17e+03 | -2.60e-01 |\n",
              "| chr1:4156721  | [\"C\",\"T\"]  |   385 | 2.31e+01 |      1.46e+02 |  2.76e-01 |\n",
              "| chr1:4510922  | [\"C\",\"T\"]  |   385 | 9.30e+01 |      5.67e+02 |  7.22e-02 |\n",
              "| chr1:4748394  | [\"G\",\"A\"]  |   385 | 3.18e+02 |      1.85e+03 | -3.37e-01 |\n",
              "+---------------+------------+-------+----------+---------------+-----------+\n",
              "\n",
              "+----------------+-----------+----------+\n",
              "| standard_error |    t_stat |  p_value |\n",
              "+----------------+-----------+----------+\n",
              "|        float64 |   float64 |  float64 |\n",
              "+----------------+-----------+----------+\n",
              "|       4.64e-01 | -2.02e+00 | 4.45e-02 |\n",
              "|       4.27e-01 | -5.65e-02 | 9.55e-01 |\n",
              "|       4.91e-01 | -2.81e-01 | 7.79e-01 |\n",
              "|       1.28e-01 | -7.26e-01 | 4.68e-01 |\n",
              "|       1.01e-01 |  1.51e+00 | 1.32e-01 |\n",
              "|       9.75e-02 |  2.59e+00 | 9.83e-03 |\n",
              "|       8.92e-02 | -2.91e+00 | 3.78e-03 |\n",
              "|       2.99e-01 |  9.23e-01 | 3.57e-01 |\n",
              "|       1.50e-01 |  4.83e-01 | 6.30e-01 |\n",
              "|       1.02e-01 | -3.30e+00 | 1.07e-03 |\n",
              "+----------------+-----------+----------+\n",
              "showing top 10 rows"
            ]
          },
          "metadata": {},
          "output_type": "display_data"
        }
      ],
      "source": [
        "gwas.show()"
      ]
    },
    {
      "cell_type": "markdown",
      "metadata": {
        "heading_collapsed": true,
        "id": "hzte2LQRsvG9"
      },
      "source": [
        "# 8. Visualization\n",
        "\n",
        "Let’s visualize our association test results from the linear regression. We can do so by creating 2 common plots: a [Manhattan plot](https://en.wikipedia.org/wiki/Manhattan_plot) and a [Q-Q plot](https://en.wikipedia.org/wiki/Q%E2%80%93Q_plot).\n",
        "\n",
        "We'll start with the Manhattan plot:"
      ]
    },
    {
      "cell_type": "code",
      "execution_count": null,
      "metadata": {
        "hidden": true,
        "id": "FDlCihN8svG9",
        "outputId": "3e7e2bc5-eb82-4e89-a0fa-ba2956a39931"
      },
      "outputs": [
        {
          "data": {
            "text/html": [
              "<iframe\n",
              "    scrolling=\"no\"\n",
              "    width=\"100%\"\n",
              "    height=\"545px\"\n",
              "    src=\"iframe_figures/figure_43.html\"\n",
              "    frameborder=\"0\"\n",
              "    allowfullscreen\n",
              "></iframe>\n"
            ]
          },
          "metadata": {},
          "output_type": "display_data"
        }
      ],
      "source": [
        "manhattan_plot(gwas.p_value)"
      ]
    },
    {
      "cell_type": "markdown",
      "metadata": {
        "hidden": true,
        "id": "30dJX18TsvG9"
      },
      "source": [
        "### Manhattan plot interpretation\n",
        "\n",
        "The dashed red line is the line for genome-wide significance with a typical Bonferroni correction: 5e-8.\n",
        "\n",
        "We have several points above the line -- mouse over to see the loci they refer to. This means we're ready to publish our sleep GWAS in *Nature*, right?\n",
        "\n",
        "...right?"
      ]
    },
    {
      "cell_type": "markdown",
      "metadata": {
        "hidden": true,
        "id": "eWr-ttMisvG9"
      },
      "source": [
        "### Q-Q plot\n",
        "The plot that accompanies a Manhattan plot is the Q-Q (quantile-quantile) plot."
      ]
    },
    {
      "cell_type": "code",
      "execution_count": null,
      "metadata": {
        "hidden": true,
        "id": "vWNgTc57svG9",
        "outputId": "e1ce6cd7-b3f2-4197-a1db-16a5ce27dd4e"
      },
      "outputs": [
        {
          "data": {
            "text/html": [
              "<iframe\n",
              "    scrolling=\"no\"\n",
              "    width=\"820px\"\n",
              "    height=\"820\"\n",
              "    src=\"iframe_figures/figure_44.html\"\n",
              "    frameborder=\"0\"\n",
              "    allowfullscreen\n",
              "></iframe>\n"
            ]
          },
          "metadata": {},
          "output_type": "display_data"
        }
      ],
      "source": [
        "qq_plot(gwas.p_value)"
      ]
    },
    {
      "cell_type": "markdown",
      "metadata": {
        "hidden": true,
        "id": "ZylZ4gQIsvG9"
      },
      "source": [
        "The Q-Q plot can clearly indicate widespread inflation or deflation of p-values. Is either of those properties present here?\n",
        "\n",
        "### Exercise 5\n",
        "\n",
        "**Is this GWAS well controlled? Discuss with your group.**\n",
        "\n",
        "Wikipedia has a good description of [genomic control estimation](https://en.wikipedia.org/wiki/Genomic_control) (lambda GC) to read later."
      ]
    },
    {
      "cell_type": "markdown",
      "metadata": {
        "id": "eBdjkCkosvG9"
      },
      "source": [
        "# 9. Confounded! PCA to the rescue.\n",
        "\n",
        "If you've done a GWAS before, you've probably included a few other covariates that might be confounders -- age, sex, and principal components.\n",
        "\n",
        "Principal components are a measure of genetic ancestry, and can be used to control for [population stratification](https://en.wikipedia.org/wiki/Population_stratification).\n",
        "\n",
        "Principal component analysis (PCA) is a very general statistical method for reducing high dimensional data to a small number of dimensions which capture most of the variation in the data. Hail has the function [pca](https://hail.is/docs/0.2/methods/stats.html#hail.methods.pca) for performing generic PCA.\n",
        "\n",
        "PCA typically works best on normalized data (e.g. mean centered). Hail provides the specialized function [hwe_normalized_pca](https://hail.is/docs/0.2/methods/genetics.html#hail.methods.hwe_normalized_pca) which first normalizes the genotypes according to the Hardy-Weinberg Equilibium model."
      ]
    },
    {
      "cell_type": "code",
      "execution_count": null,
      "metadata": {
        "id": "u8C82SRksvG9"
      },
      "outputs": [],
      "source": [
        "pca_eigenvalues, pca_scores, pca_loadings = hl.hwe_normalized_pca(mt.GT, compute_loadings=True)"
      ]
    },
    {
      "cell_type": "code",
      "execution_count": null,
      "metadata": {
        "id": "JHWHxc2NsvG9",
        "outputId": "0e4b1fe5-0e29-4fa0-aa85-1fcff2399669"
      },
      "outputs": [
        {
          "name": "stderr",
          "output_type": "stream",
          "text": [
            "[Stage 143:=========================================>             (12 + 2) / 16]\r"
          ]
        }
      ],
      "source": [
        "pca_scores = pca_scores.checkpoint('resources/pca_scores.ht', overwrite=True)"
      ]
    },
    {
      "cell_type": "markdown",
      "metadata": {
        "id": "l9PXIcDZsvG9"
      },
      "source": [
        "The pca function returns three things:\n",
        "* **eigenvalues**: an array of doubles\n",
        "* **scores**: a table keyed by sample\n",
        "* **loadings**: a table keyed by variant\n",
        "\n",
        "The **loadings** are the *principal directions*, each of which is a weighted sum of variants (a \"virtual variant\"). By default, `hwe_normalized_pca` gives us 10 principal directions."
      ]
    },
    {
      "cell_type": "markdown",
      "metadata": {
        "id": "OpfgqJ0SsvG9"
      },
      "source": [
        "### Joining computed PCs onto our matrix table\n",
        "\n",
        "Using the same syntax as we used to join the sample data table `sd` above, we can join the computed scores onto our matrix table:"
      ]
    },
    {
      "cell_type": "code",
      "execution_count": null,
      "metadata": {
        "id": "W6M4tDb0svG-"
      },
      "outputs": [],
      "source": [
        "mt = mt.annotate_cols(pca = pca_scores[mt.s])"
      ]
    },
    {
      "cell_type": "markdown",
      "metadata": {
        "id": "fUx1G9zcsvG-"
      },
      "source": [
        "## Visualize principal components\n",
        "\n",
        "Let's make plots!"
      ]
    },
    {
      "cell_type": "code",
      "execution_count": null,
      "metadata": {
        "id": "p4WuVV_usvG-",
        "outputId": "a1f69272-ca2b-4791-81a9-ee2f496cc304"
      },
      "outputs": [
        {
          "data": {
            "text/html": [
              "<iframe\n",
              "    scrolling=\"no\"\n",
              "    width=\"100%\"\n",
              "    height=\"545px\"\n",
              "    src=\"iframe_figures/figure_54.html\"\n",
              "    frameborder=\"0\"\n",
              "    allowfullscreen\n",
              "></iframe>\n"
            ],
            "text/plain": [
              "<hail.ggplot.ggplot.GGPlot at 0x7fe3616d3400>"
            ]
          },
          "execution_count": 54,
          "metadata": {},
          "output_type": "execute_result"
        }
      ],
      "source": [
        "(ggplot(mt,\n",
        "        aes(x=mt.pca.scores[0],\n",
        "            y=mt.pca.scores[1],\n",
        "            color=mt.sample_data.continental_pop.upper(),\n",
        "            tooltip=(mt.sample_data.pop, mt.sample_data.continental_pop.upper())))\n",
        " + geom_point()\n",
        " + xlab('PC1')\n",
        " + ylab('PC2'))"
      ]
    },
    {
      "cell_type": "code",
      "execution_count": null,
      "metadata": {
        "id": "_-WfKbUosvG-",
        "outputId": "b61231d2-e4a5-493a-9453-487200e63419"
      },
      "outputs": [
        {
          "data": {
            "text/html": [
              "<iframe\n",
              "    scrolling=\"no\"\n",
              "    width=\"100%\"\n",
              "    height=\"545px\"\n",
              "    src=\"iframe_figures/figure_53.html\"\n",
              "    frameborder=\"0\"\n",
              "    allowfullscreen\n",
              "></iframe>\n"
            ],
            "text/plain": [
              "<hail.ggplot.ggplot.GGPlot at 0x7fe3628efd90>"
            ]
          },
          "execution_count": 53,
          "metadata": {},
          "output_type": "execute_result"
        }
      ],
      "source": [
        "(ggplot(mt,\n",
        "        aes(x=mt.pca.scores[2],\n",
        "            y=mt.pca.scores[3],\n",
        "            color=mt.sample_data.continental_pop.upper(),\n",
        "            tooltip=(mt.sample_data.pop, mt.sample_data.continental_pop.upper())))\n",
        " + geom_point()\n",
        " + xlab('PC3')\n",
        " + ylab('PC4'))"
      ]
    },
    {
      "cell_type": "code",
      "execution_count": null,
      "metadata": {
        "id": "x3SW4hlNsvG-"
      },
      "outputs": [],
      "source": []
    },
    {
      "cell_type": "markdown",
      "metadata": {
        "id": "dJkTwgZ-svG-"
      },
      "source": [
        "# 10. Control confounders and run another GWAS\n",
        "\n",
        "Now that we have computed principal components and saved it into our `mt`, let’s run another GWAS that includes PCs as covariates to account for confounding due to population stratification.\n"
      ]
    },
    {
      "cell_type": "code",
      "execution_count": null,
      "metadata": {
        "id": "5QLdrBatsvG-",
        "outputId": "91ddc7e5-a990-45f8-b53e-1093b21e5ecf"
      },
      "outputs": [
        {
          "name": "stderr",
          "output_type": "stream",
          "text": [
            "[Stage 158:============================>                            (2 + 2) / 4]\r"
          ]
        }
      ],
      "source": [
        "gwas2 = hl.linear_regression_rows(\n",
        "    y=mt.sample_data[phenotype],\n",
        "    x=mt.GT.n_alt_alleles(),\n",
        "    covariates=[1.0, mt.pca.scores[0], mt.pca.scores[1], mt.pca.scores[2]])"
      ]
    },
    {
      "cell_type": "code",
      "execution_count": null,
      "metadata": {
        "id": "asPb4V3asvG-",
        "outputId": "b1e9d7ce-372a-4472-a946-655c60bcafd3"
      },
      "outputs": [
        {
          "data": {
            "text/html": [
              "<iframe\n",
              "    scrolling=\"no\"\n",
              "    width=\"820px\"\n",
              "    height=\"820\"\n",
              "    src=\"iframe_figures/figure_51.html\"\n",
              "    frameborder=\"0\"\n",
              "    allowfullscreen\n",
              "></iframe>\n"
            ]
          },
          "metadata": {},
          "output_type": "display_data"
        }
      ],
      "source": [
        "qq_plot(gwas2.p_value)"
      ]
    },
    {
      "cell_type": "markdown",
      "metadata": {
        "id": "1_XGnpvVsvG-"
      },
      "source": [
        "The above Q-Q plot indicates a much better-controlled GWAS. Let's try the Manhattan plot:"
      ]
    },
    {
      "cell_type": "code",
      "execution_count": null,
      "metadata": {
        "id": "1ntjddaQsvG-",
        "outputId": "87fab9ac-e3e1-4acf-8681-5f6660740dc5"
      },
      "outputs": [
        {
          "data": {
            "text/html": [
              "<iframe\n",
              "    scrolling=\"no\"\n",
              "    width=\"100%\"\n",
              "    height=\"545px\"\n",
              "    src=\"iframe_figures/figure_52.html\"\n",
              "    frameborder=\"0\"\n",
              "    allowfullscreen\n",
              "></iframe>\n"
            ]
          },
          "metadata": {},
          "output_type": "display_data"
        }
      ],
      "source": [
        "manhattan_plot(gwas2.p_value)"
      ]
    },
    {
      "cell_type": "markdown",
      "metadata": {
        "id": "QSKDDYG3svG-"
      },
      "source": [
        "### Are there any significant hits? Do you trust these results? Why or why not?\n",
        "\n",
        "Discuss with your group - roughly how many samples would you need to discover rare variant signal? polygenic signal?"
      ]
    },
    {
      "cell_type": "markdown",
      "metadata": {
        "id": "cNv-TWg4svG_"
      },
      "source": [
        "### Exercise 6\n",
        "\n",
        "Change the \"gwas2\" cell to experiment with how many principal components are needed as covariates to properly control this GWAS. How many are needed here in our tiny simulated example? How many are needed in a typical GWAS?"
      ]
    },
    {
      "cell_type": "code",
      "execution_count": null,
      "metadata": {
        "id": "jgxHsWu1svG_"
      },
      "outputs": [],
      "source": []
    }
  ],
  "metadata": {
    "anaconda-cloud": {},
    "kernelspec": {
      "display_name": "Python 3 (ipykernel)",
      "language": "python",
      "name": "python3"
    },
    "language_info": {
      "codemirror_mode": {
        "name": "ipython",
        "version": 3
      },
      "file_extension": ".py",
      "mimetype": "text/x-python",
      "name": "python",
      "nbconvert_exporter": "python",
      "pygments_lexer": "ipython3",
      "version": "3.9.2"
    },
    "toc": {
      "base_numbering": 1,
      "nav_menu": {
        "height": "242px",
        "width": "283px"
      },
      "number_sections": true,
      "sideBar": true,
      "skip_h1_title": false,
      "title_cell": "Table of Contents",
      "title_sidebar": "Contents",
      "toc_cell": false,
      "toc_position": {},
      "toc_section_display": true,
      "toc_window_display": false
    },
    "colab": {
      "provenance": [],
      "include_colab_link": true
    }
  },
  "nbformat": 4,
  "nbformat_minor": 0
}